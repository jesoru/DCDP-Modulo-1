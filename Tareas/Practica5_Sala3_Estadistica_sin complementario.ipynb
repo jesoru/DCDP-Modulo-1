{
  "cells": [
    {
      "cell_type": "markdown",
      "id": "402379da",
      "metadata": {
        "id": "402379da"
      },
      "source": [
        "<a href=\"https://colab.research.google.com/github/DCDPUAEM/DCDP/blob/main/01%20Programaci%C3%B3n%20en%20Python/notebooks/exercises/Practica5_Estadistica.ipynb\" target=\"_parent\"><img src=\"https://colab.research.google.com/assets/colab-badge.svg\" alt=\"Open In Colab\"/></a>"
      ]
    },
    {
      "cell_type": "markdown",
      "source": [
        "\n",
        "*   Pablo Calderon\n",
        "*   Jean Tovar\n",
        "*   Jesus Solano\n",
        "*   Arturo Goméz\n"
      ],
      "metadata": {
        "id": "-VVBF4B70ANu"
      },
      "id": "-VVBF4B70ANu"
    },
    {
      "cell_type": "markdown",
      "id": "021fd760",
      "metadata": {
        "id": "021fd760"
      },
      "source": [
        "----\n",
        "\n",
        "<h1><center>Monte Carlo</center></h1>\n",
        "    \n",
        "    \n",
        "El algoritmo se basa en el muestreo aleatorio repetido en un intento de determinar la probabilidad. Esto significa simular un evento con entradas aleatorias un gran número de veces para obtener su estimación. \n",
        "    \n",
        "Las simulaciones Monte Carlo se pueden utilizar en una amplia gama de campos que van desde la economía, el juego, la ingeniería, la energía y cualquier otro campo intermedio. Por lo tanto, no importa en qué campo profesional se encuentre, es algo excelente que debe conocer.\n",
        "\n",
        "---\n",
        "\n",
        "Al aprender a construir simulaciones Monte Carlo, es mejor comenzar con un modelo básico para comprender los fundamentos. La forma más fácil y común de hacerlo es con juegos simples, por lo que utilizaremos un juego de dados en este caso. \n",
        "\n",
        "Probablemente haya escuchado el dicho, \"la casa siempre gana\", así que para este ejemplo, la casa (típicamente un casino) tendrá una ventaja, y mostraremos lo que eso significa para las posibles ganancias del jugador.\n",
        "\n"
      ]
    },
    {
      "cell_type": "markdown",
      "id": "fb65b5aa",
      "metadata": {
        "id": "fb65b5aa"
      },
      "source": [
        "## El juego de dados\n",
        "\n",
        "Nuestro juego simple involucrará dos dados de seis caras. P\n",
        "\n",
        "ara ganar, el jugador debe sacar el mismo número en ambos dados. \n",
        "\n",
        "Un dado de seis caras tiene seis resultados posibles (1, 2, 3, 4, 5 y 6). Con dos dados, ahora hay 36 resultados posibles (1 y 1, 1 y 2, 1 y 3, etc., o 6 x 6 = 36 posibilidades). \n",
        "\n",
        "En este juego, la casa tiene más oportunidades de ganar (30 resultados frente a los 6 resultados del jugador), lo que significa que la casa tiene bastante ventaja.\n",
        "\n",
        "---\n",
        "\n",
        "Digamos que nuestro jugador comienza con un saldo de 1,000 y está preparado para perderlo todo, por lo que apuesta 1 en cada tirada (lo que significa que se tiran ambos dados) y decide jugar 1,000 tiradas. Debido a que la casa es tan generosa, ofrecen pagar 4 veces la apuesta del jugador cuando el jugador gana. \n",
        "\n",
        "Por ejemplo, si el jugador gana la primera tirada, su saldo aumenta en $4 y finaliza la ronda con un saldo de 1,004. Si milagrosamente lograban una racha de 1000 victorias, podrían irse a casa con 5000. Si perdía todas las rondas, podrían irse a casa sin nada. No es una mala relación riesgo-recompensa… o tal vez lo sea."
      ]
    },
    {
      "cell_type": "code",
      "execution_count": null,
      "id": "881ca87f",
      "metadata": {
        "id": "881ca87f"
      },
      "outputs": [],
      "source": [
        "# Importando paqueterias\n",
        "import matplotlib.pyplot as plt\n",
        "import random"
      ]
    },
    {
      "cell_type": "markdown",
      "id": "a35ab824",
      "metadata": {
        "id": "a35ab824"
      },
      "source": [
        "Ahora, debemos definir nuestra función que genere valores entre 1 y 6 para ambos dados. Podemos auxiliarnos con la funcion *random.randinit()*\n",
        "\n",
        "Tomando en consideración la condición de que si el dado 1 es identico al dado 2, tendremos un resultado positivo en la apuesta, caso contrario, tendremos una derrota."
      ]
    },
    {
      "cell_type": "code",
      "source": [
        "dado1 = random.randint(1,6)\n",
        "dado1"
      ],
      "metadata": {
        "colab": {
          "base_uri": "https://localhost:8080/"
        },
        "id": "pTJf4J-r6kxg",
        "outputId": "d34c6f69-9b96-4504-9188-2a6c2c8154f3"
      },
      "id": "pTJf4J-r6kxg",
      "execution_count": null,
      "outputs": [
        {
          "output_type": "execute_result",
          "data": {
            "text/plain": [
              "1"
            ]
          },
          "metadata": {},
          "execution_count": 10
        }
      ]
    },
    {
      "cell_type": "code",
      "execution_count": null,
      "id": "840caf24",
      "metadata": {
        "id": "840caf24"
      },
      "outputs": [],
      "source": [
        "# Creando funcion de lanzamiento de dados\n",
        "def roll_dice():\n",
        "\n",
        "    dado1 = random.randint(1,6)\n",
        "    dado2 = random.randint(1,6)\n",
        "    if dado1 ==dado2: \n",
        "      same_num=True\n",
        "    else:\n",
        "      same_num=False\n",
        "    #print(dado1)\n",
        "    #print(dado2)\n",
        "\n",
        "    return same_num"
      ]
    },
    {
      "cell_type": "code",
      "source": [
        "roll_dice()"
      ],
      "metadata": {
        "colab": {
          "base_uri": "https://localhost:8080/"
        },
        "id": "bjmcZ1Ky86vj",
        "outputId": "74a789e6-8d60-4c5e-bb25-001e20526ddc"
      },
      "id": "bjmcZ1Ky86vj",
      "execution_count": null,
      "outputs": [
        {
          "output_type": "execute_result",
          "data": {
            "text/plain": [
              "True"
            ]
          },
          "metadata": {},
          "execution_count": 3
        }
      ]
    },
    {
      "cell_type": "markdown",
      "id": "f95ce69b",
      "metadata": {
        "id": "f95ce69b"
      },
      "source": [
        "Cada simulación Monte Carlo requerirá que sepa cuáles son sus entradas y qué información está buscando obtener. \n",
        "\n",
        "En esta práctica, ya definimos cuáles son nuestras entradas cuando describimos el juego. **Dijimos que nuestra cantidad de tiradas por juego es 1,000, y la cantidad que el jugador apostará en cada tirada es $1**. \n",
        "\n",
        "Además de nuestras variables de entrada, necesitamos definir cuántas veces queremos simular el juego. Podemos usar la variable num_simulations como nuestro conteo de simulación de Monte Carlo. Cuanto más alto hagamos este número, más precisa será la probabilidad predicha de su valor real.\n",
        "\n",
        "La cantidad de variables que podemos rastrear generalmente aumenta con la complejidad de un proyecto, por lo que es importante precisar sobre qué información deseamos trabajar. \n",
        "\n",
        "Para este caso, realizaremos un seguimiento de la probabilidad de ganar (ganancias por juego divididas por el número total de tiradas) y el saldo final para cada simulación (o juego). Estos se inicializan como listas y se actualizarán al final de cada juego."
      ]
    },
    {
      "cell_type": "code",
      "execution_count": null,
      "id": "306cf845",
      "metadata": {
        "id": "306cf845",
        "colab": {
          "base_uri": "https://localhost:8080/",
          "height": 549
        },
        "outputId": "bbc0546e-4fa5-42ee-c6dc-c476fdd90c97"
      },
      "outputs": [
        {
          "output_type": "stream",
          "name": "stdout",
          "text": [
            "El saldo final es: 1360\n",
            "La probabilidad de ganar es: 0.18\n"
          ]
        },
        {
          "output_type": "display_data",
          "data": {
            "text/plain": [
              "<Figure size 864x576 with 1 Axes>"
            ],
            "image/png": "[encoded data removed]"
          },
          "metadata": {
            "needs_background": "light"
          }
        }
      ],
      "source": [
        "# Entradas\n",
        "num_simulations = 10000 #Valor dado\n",
        "max_num_rolls = 1000\n",
        "bet = 1\n",
        "\n",
        "# Seguimiento\n",
        "total_money=2000\n",
        "num_of_plays = []\n",
        "money = []\n",
        "play = 1\n",
        "wins=0\n",
        "\n",
        "for play in range(max_num_rolls):\n",
        "        #Victoria\n",
        "        if roll_dice():\n",
        "            #Sumar lo ganado\n",
        "            total_money = total_money + bet\n",
        "            #agregar valores al arreglo de veces jugadas\n",
        "            num_of_plays.append(play)\n",
        "            #agregar lo ganado\n",
        "            money.append(total_money)\n",
        "            wins=wins+1\n",
        "\n",
        "        #Perdida\n",
        "        else:\n",
        "            #restar lo perdido\n",
        "            total_money = total_money - bet\n",
        "            #agregar valores al arreglo de veces jugadas\n",
        "            num_of_plays.append(play)\n",
        "            #agregar lo ganado\n",
        "            money.append(total_money)\n",
        "\n",
        "plt.figure(figsize=(12,8))\n",
        "plt.title('Monte Carlo Dice Game [10000 simulations]')\n",
        "plt.ylabel(\"Balance [$]\")\n",
        "plt.xlabel(\"Roll number\")\n",
        "plt.plot(num_of_plays, money)\n",
        "plt.axhline(y=2000, color='b', linestyle='--')\n",
        "#plt.xlim(100,800)\n",
        "\n",
        "win_probability = wins/max_num_rolls\n",
        "end_balance = money[-1]\n",
        "print(\"El saldo final es:\", end_balance)\n",
        "print(\"La probabilidad de ganar es:\", win_probability)\n",
        "\n"
      ]
    },
    {
      "cell_type": "markdown",
      "id": "495fffd3",
      "metadata": {
        "id": "495fffd3"
      },
      "source": [
        "### Configuración de la figura\n",
        "\n",
        "El siguiente paso es configurar nuestra figura antes de ejecutar la simulación. Al hacer esto antes de la simulación, nos permite agregar líneas a nuestra figura después de cada juego. Luego, una vez que hayamos ejecutado todas las simulaciones, podemos mostrar la gráfica para mostrar nuestros resultados."
      ]
    },
    {
      "cell_type": "code",
      "execution_count": null,
      "id": "9a7cfe7b",
      "metadata": {
        "id": "9a7cfe7b"
      },
      "outputs": [],
      "source": [
        "#LA figura se configuro arriba\n",
        "# Creando figura para los ejemplos de simulacion\n",
        "#fig = #<COMPLETA>\n",
        "#plt.#<COMPLETA>\n",
        "#plt.#<COMPLETA>\n",
        "#plt.#<COMPLETA>\n",
        "#plt.xlim(#<COMPLETA>)"
      ]
    },
    {
      "cell_type": "markdown",
      "id": "00195b53",
      "metadata": {
        "id": "00195b53"
      },
      "source": [
        "En el siguiente código, tenemos un bucle for externo que itera a través de nuestro número predefinido de simulaciones (10 000 simulaciones) y un bucle while anidado que ejecuta cada juego (1000 tiradas). \n",
        "\n",
        "Antes de comenzar cada ciclo while, inicializamos el saldo del jugador como $1,000 (como una lista para fines de trazado) y un conteo de tiradas y ganancias.\n",
        "\n",
        "    * Nuestro bucle while simulará el juego durante 1000 tiradas. Dentro de este bucle, lanzamos los dados y usamos la variable booleana devuelta por roll_dice() para determinar el resultado. Si los dados son del mismo número, agregamos 4 veces la apuesta a la lista de saldo y agregamos una ganancia al conteo de ganancias. Si los dados son diferentes, restamos la apuesta de la lista de saldo. Al final de cada lanzamiento, agregamos un conteo a nuestra lista num_rolls.\n",
        "\n",
        "Una vez que el número de lanzamientos llega a 1000, podemos calcular la probabilidad de ganar del jugador como el número de ganancias dividido por el número total de lanzamientos. \n",
        "\n",
        "También podemos almacenar el saldo final del juego completo en la variable de seguimiento end_balance. Finalmente, podemos trazar las variables num_rolls y balance para agregar una línea a la figura que definimos anteriormente."
      ]
    },
    {
      "cell_type": "code",
      "execution_count": null,
      "id": "ea2cb46e",
      "metadata": {
        "id": "ea2cb46e"
      },
      "outputs": [],
      "source": [
        "# For para ejecutar todas las simulaciones deseadas\n",
        "#for i in range(#<COMPLETA>):\n",
        "#   balance = #<COMPLETA>\n",
        "#    num_rolls = #<COMPLETA>\n",
        "#    num_wins = #<COMPLETA>\n",
        "#    \n",
        "#    while num_rolls[-1] < max_num_rolls:\n",
        "#        #<COMPLETA>     \n",
        "#\n",
        "#        num_rolls.append(num_rolls[-1] + 1)# Store tracking variables and add line to figure\n",
        "#    win_probability.#<COMPLETA>\n",
        "#    end_balance.#<COMPLETA>\n",
        "#   plt.plot(#<COMPLETA>)\n",
        "# Configurado abajo"
      ]
    },
    {
      "cell_type": "code",
      "source": [
        "# Entradas\n",
        "num_simulations = 10000 #Valor dado\n",
        "end_balance=[]\n",
        "def play(total_money,bet,max_num_rolls):\n",
        "  # Seguimiento\n",
        "  num_of_plays = []\n",
        "  money = []\n",
        "  play = 1\n",
        "  wins=0\n",
        "  \n",
        "\n",
        "  for play in range(max_num_rolls):\n",
        "         \n",
        "    if roll_dice():\n",
        "      #Sumar lo ganado\n",
        "      total_money = total_money + bet\n",
        "      #agregar valores al arreglo de veces jugadas\n",
        "      num_of_plays.append(play)\n",
        "      #agregar lo ganado\n",
        "      money.append(total_money)\n",
        "      wins=wins+1\n",
        "\n",
        "          \n",
        "    else:\n",
        "      #restar lo perdido\n",
        "      total_money = total_money - bet\n",
        "      #agregar valores al arreglo de veces jugadas\n",
        "      num_of_plays.append(play)\n",
        "      #agregar lo ganado\n",
        "      money.append(total_money)\n",
        "\n",
        "  #plt.figure(figsize=(12,8))\n",
        "  plt.title('Monte Carlo Dice Game [' + str(num_simulations) + ' ' + 'simulations]')\n",
        "  plt.ylabel(\"Balance [$]\")\n",
        "  plt.xlabel(\"Roll number\")\n",
        "  plt.plot(num_of_plays, money)\n",
        "  \n",
        "    \n",
        "    \n",
        "\n",
        "  win_probability = wins/max_num_rolls\n",
        "  end_balance.append(money[-1])\n",
        "\n",
        "  return(end_balance,win_probability)\n",
        "\n"
      ],
      "metadata": {
        "id": "sYB_kOZNWbCa"
      },
      "id": "sYB_kOZNWbCa",
      "execution_count": null,
      "outputs": []
    },
    {
      "cell_type": "code",
      "source": [
        "a,b = play(1000,1,1000)\n",
        "print(\"Saldo final es:\", a)\n",
        "print('probabilidad de ganar:', b)"
      ],
      "metadata": {
        "colab": {
          "base_uri": "https://localhost:8080/",
          "height": 330
        },
        "id": "87YX0Zd0deh2",
        "outputId": "2420d5b8-5c7c-43d7-ea2d-91509b432cb6"
      },
      "id": "87YX0Zd0deh2",
      "execution_count": null,
      "outputs": [
        {
          "output_type": "stream",
          "name": "stdout",
          "text": [
            "Saldo final es: [324]\n",
            "probabilidad de ganar: 0.162\n"
          ]
        },
        {
          "output_type": "display_data",
          "data": {
            "text/plain": [
              "<Figure size 432x288 with 1 Axes>"
            ],
            "image/png": "[encoded data removed]"
          },
          "metadata": {
            "needs_background": "light"
          }
        }
      ]
    },
    {
      "cell_type": "code",
      "source": [
        "end_balance = []\n",
        "win_probs =[]\n",
        "num_simulations=10000\n",
        "for i in range(num_simulations):\n",
        "    x=play(1000,1,1000)\n",
        "    ending_fund = x[0]\n",
        "    win_probs.append(x[1])\n",
        "\n",
        "#print(ending_fund)\n",
        "#print(win_probs)\n",
        "\n",
        "overall_win_probability = sum(win_probs)/len(win_probs)\n",
        "overall_end_balance = sum(ending_fund)/len(end_balance)\n",
        " \n",
        "\n",
        "print(\"Promedio de victorias despues de \" + str(num_simulations) + \" simulaciones: \" + str(overall_win_probability))\n",
        "print(\"Saldo promedio despues de \" + str(num_simulations) + \" simulaciones: $\" + str(overall_end_balance))\n",
        "\n",
        "#print(\"El overall end balance es:\", sum(ending_fund)/len(end_balance))\n",
        "#print(\"El overall win probability es:\",sum(win_probs)/len(win_probs))\n",
        "\n"
      ],
      "metadata": {
        "colab": {
          "base_uri": "https://localhost:8080/",
          "height": 330
        },
        "id": "qGt470QndZUg",
        "outputId": "4bc2fe23-cea0-49de-eb6f-78c297d49636"
      },
      "id": "qGt470QndZUg",
      "execution_count": null,
      "outputs": [
        {
          "output_type": "stream",
          "name": "stdout",
          "text": [
            "Promedio de victorias despues de 10000 simulaciones: 0.16678129999999958\n",
            "Saldo promedio despues de 10000 simulaciones: $333.5626\n"
          ]
        },
        {
          "output_type": "display_data",
          "data": {
            "text/plain": [
              "<Figure size 432x288 with 1 Axes>"
            ],
            "image/png": "[encoded data removed]"
          },
          "metadata": {
            "needs_background": "light"
          }
        }
      ]
    },
    {
      "cell_type": "markdown",
      "id": "820b26b1",
      "metadata": {
        "id": "820b26b1"
      },
      "source": [
        "## Desafio complementario\n",
        "\n",
        "Ahora, realiza el mismo procedimiento pero mostrando los \n",
        "resultados para 10, 100, 1000 y 10000 lanzamientos, considerando 200, 2000 y 20000 simulaciones.\n",
        "\n",
        "Como bien sabemos, cada que gana el individuo, la casa le pagaba 4 veces el valor de la apuesta.\n",
        "Ahora, si gana, le pagaran 6 veces mas de lo apostado, siempre y cuando el individuo apueste de 3 en 3.\n",
        "\n",
        "El monto inicial sería ahora de 800. ¿Cuánta diferencia existe entre los resultados obtenidos para cada escenario?\n",
        "¿En cuales se tiene un porcentaje mayor de victoria? \n",
        "\n",
        "Grafica estos resultados utilizando graficas de pastel y de barras y realiza una comparación entre ellos. "
      ]
    },
    {
      "cell_type": "code",
      "source": [],
      "metadata": {
        "id": "b_4R0ZGRjlz2"
      },
      "id": "b_4R0ZGRjlz2",
      "execution_count": null,
      "outputs": []
    },
    {
      "cell_type": "markdown",
      "id": "6c769190",
      "metadata": {
        "id": "6c769190"
      },
      "source": [
        "## ¿Qué es web scrapping?\n",
        "\n",
        "Es una técnica para recuperar grandes cantidades de datos de Internet.\n",
        "\n",
        "-----\n",
        "\n",
        "Existen diferentes técnicas como Scrappy, BeautifulSoup, etc. La librería más común es BeautifulSoup. \n",
        "\n",
        "Extrae la página Html de cualquier sitio web. Los datos almacenados por web Scrapping son un formato no estructurado. Convertimos los datos no estructurados en estructurados para el análisis y la exploración de datos.\n",
        "\n",
        "------\n",
        "\n",
        "### Bibliotecas utilizadas para Web Scraping\n",
        "\n",
        "Como sabemos, Python se usa para varias aplicaciones y existen diferentes bibliotecas para diferentes propósitos. En nuestra demostración adicional, usaremos las siguientes bibliotecas:\n",
        "\n",
        "   * BeautifulSoup: Beautiful Soup es un paquete de Python para analizar documentos HTML y XML. Crea árboles de análisis que son útiles para extraer los datos fácilmente.\n",
        "   * Pandas: Pandas es una biblioteca que se utiliza para la manipulación y el análisis de datos. Se utiliza para extraer los datos y almacenarlos en el formato deseado.\n",
        "   * Utilice matplotlib y seaborn para la visualización de datos"
      ]
    },
    {
      "cell_type": "markdown",
      "id": "3be573ae",
      "metadata": {
        "id": "3be573ae"
      },
      "source": [
        "------\n",
        "### ¿Cómo funciona el Web Scraping?\n",
        "\n",
        "Cuando ejecuta el código para web scraping, se envía una solicitud a la URL que ha mencionado. Como respuesta a la solicitud, el servidor envía los datos y le permite leer la página HTML o XML. Luego, el código analiza la página HTML o XML, encuentra los datos y los extrae.\n",
        "\n",
        "Para extraer datos utilizando web scraping con Python, debe seguir estos pasos básicos:\n",
        "\n",
        "   * Busque la URL que desea raspar\n",
        "   * Inspecciona la página\n",
        "   * Encuentra los datos que quieres extraer\n",
        "   * Escribe el codigo\n",
        "   * Ejecute el código y extraiga los datos\n",
        "   * Almacene los datos en el formato requerido\n",
        "\n",
        "------"
      ]
    },
    {
      "cell_type": "markdown",
      "id": "2d694b98",
      "metadata": {
        "id": "2d694b98"
      },
      "source": [
        "-------\n",
        "\n",
        "### Datos del sitio web de Flipkart\n",
        "\n",
        "Para comprobar cuál debería ser el precio óptimo de nuestro producto, estos precios pueden variar mucho. Entonces, vamos a mostrar cómo podemos obtener información relacionada con un producto en particular (computadora portátil).\n",
        "\n",
        "Primero, importemos todas las bibliotecas necesarias:"
      ]
    },
    {
      "cell_type": "code",
      "execution_count": null,
      "id": "db3bbf38",
      "metadata": {
        "id": "db3bbf38"
      },
      "outputs": [],
      "source": [
        "import requests\n",
        "import pandas as pd\n",
        "import numpy as np\n",
        "import matplotlib.pyplot as plt\n",
        "import seaborn as sns\n",
        "from bs4 import BeautifulSoup"
      ]
    },
    {
      "cell_type": "markdown",
      "id": "9e96d512",
      "metadata": {
        "id": "9e96d512"
      },
      "source": [
        "Los datos que extraemos son datos no estructurados. Por eso, crearemos listas vacías para almacenarlas de forma estructurada"
      ]
    },
    {
      "cell_type": "code",
      "execution_count": null,
      "id": "f6382fe1",
      "metadata": {
        "id": "f6382fe1"
      },
      "outputs": [],
      "source": [
        "name=[]\n",
        "prices=[]\n",
        "ratings=[]\n",
        "df = pd.DataFrame()"
      ]
    },
    {
      "cell_type": "markdown",
      "id": "21968e56",
      "metadata": {
        "id": "21968e56"
      },
      "source": [
        "## Paso 1: busque la URL\n",
        "\n",
        "Para este ejemplo, vamos a **raspar** (Scrap) el sitio web de **Flipkart** para extraer el nombre, el precio y la calificación de las computadoras portátiles. La URL de esta página es:\n",
        "\n",
        "[Flipkart](https://www.flipkart.com/search?q=laptops&otracker=search&otracker1=search&marketplace=FLIPKART&as-show=on&as=off&as-pos=1&as-type=HISTORY.)"
      ]
    },
    {
      "cell_type": "code",
      "execution_count": null,
      "id": "53620f7a",
      "metadata": {
        "id": "53620f7a"
      },
      "outputs": [],
      "source": [
        "url = \"https://www.flipkart.com/search?q=laptops&otracker=search&otracker1=search&marketplace=FLIPKART&as-show=on&as=off&as-pos=1&as-type=HISTORY.\""
      ]
    },
    {
      "cell_type": "code",
      "execution_count": null,
      "id": "ec13972e",
      "metadata": {
        "id": "ec13972e"
      },
      "outputs": [],
      "source": [
        "req = requests.get(url)\n",
        "response = req.content\n",
        "#deberia salir Response[200]"
      ]
    },
    {
      "cell_type": "code",
      "source": [
        "# IMDB's homepage\n",
        "flipkart_url = \"https://www.flipkart.com/search?q=laptops&otracker=search&otracker1=search&marketplace=FLIPKART&as-show=on&as=off&as-pos=1&as-type=HISTORY.\"\n",
        "\n",
        "# Usamos requests para obtener los datos de la URL dada\n",
        "flipkart_response = requests.get(flipkart_url)\n",
        "\n"
      ],
      "metadata": {
        "id": "ieF8HqV7lSdz"
      },
      "id": "ieF8HqV7lSdz",
      "execution_count": null,
      "outputs": []
    },
    {
      "cell_type": "markdown",
      "id": "ce24cdb8",
      "metadata": {
        "id": "ce24cdb8"
      },
      "source": [
        "### Paso 2: inspección de la página\n",
        "\n",
        "Los datos suelen estar anidados en etiquetas. Entonces, inspeccionamos la página para ver, bajo qué etiqueta están anidados los datos que queremos raspar. Para inspeccionar la página, simplemente haga clic derecho en el elemento y haga clic en \"Inspeccionar\" (o F12)."
      ]
    },
    {
      "cell_type": "markdown",
      "id": "c4bf4b19",
      "metadata": {
        "id": "c4bf4b19"
      },
      "source": [
        "![img](https://miro.medium.com/max/571/0*TF2VBxPanqhxb-hY.png)"
      ]
    },
    {
      "cell_type": "markdown",
      "id": "fc839c2c",
      "metadata": {
        "id": "fc839c2c"
      },
      "source": [
        "### Paso 3: busque los datos que desea extraer\n",
        "\n",
        "Extraemos el nombre, precio y calificación que están anidados en la etiqueta \"div\" respectivamente.\n",
        "\n",
        "Por lo general, nos confundiremos sobre qué etiqueta necesitamos copiar para esta computadora portátil. Podemos usar https://webformatter.com/ para filtrar la etiqueta por el nombre, el precio y la calificación, y podemos copiar fácilmente con esta herramienta.\n",
        "\n",
        "Ahora que hemos escrito el código para abrir la URL, es hora de extraer los datos del sitio web. Como se mencionó anteriormente, los datos que queremos extraer están anidados en etiquetas <div>. Entonces, encontraremos las etiquetas div con esos respectivos nombres de clase, extraeremos y almacenaremos los datos en una variable. Consulte el código a continuación:"
      ]
    },
    {
      "cell_type": "code",
      "execution_count": null,
      "id": "3e6eb521",
      "metadata": {
        "id": "3e6eb521",
        "colab": {
          "base_uri": "https://localhost:8080/",
          "height": 132
        },
        "outputId": "52c86820-47e8-469d-dd50-fe7e5c0ae94b"
      },
      "outputs": [
        {
          "output_type": "error",
          "ename": "SyntaxError",
          "evalue": "ignored",
          "traceback": [
            "\u001b[0;36m  File \u001b[0;32m\"<ipython-input-26-7cd8702a55a5>\"\u001b[0;36m, line \u001b[0;32m1\u001b[0m\n\u001b[0;31m    soup = BeautifulSoup(#<COMPLETA>)\u001b[0m\n\u001b[0m                                     ^\u001b[0m\n\u001b[0;31mSyntaxError\u001b[0m\u001b[0;31m:\u001b[0m unexpected EOF while parsing\n"
          ]
        }
      ],
      "source": [
        "soup = BeautifulSoup(#<COMPLETA>)"
      ]
    },
    {
      "cell_type": "code",
      "source": [
        "# Transformamos todo el codigo HTML usando beautiful soup\n",
        "flipkart_soup = BeautifulSoup(flipkart_response.text, 'html.parser')\n",
        "\n",
        "# Titulo de la pagina transformada\n",
        "flipkart_soup.title"
      ],
      "metadata": {
        "colab": {
          "base_uri": "https://localhost:8080/"
        },
        "id": "TQo_IJpDllwX",
        "outputId": "37057cb0-432e-4e8e-c90d-e974bfec97ac"
      },
      "id": "TQo_IJpDllwX",
      "execution_count": null,
      "outputs": [
        {
          "output_type": "execute_result",
          "data": {
            "text/plain": [
              "<title>Laptops- Buy Products Online at Best Price in India - All Categories | Flipkart.com</title>"
            ]
          },
          "metadata": {},
          "execution_count": 56
        }
      ]
    },
    {
      "cell_type": "code",
      "execution_count": null,
      "id": "5f6c7e80",
      "metadata": {
        "id": "5f6c7e80"
      },
      "outputs": [],
      "source": [
        "#<COMPLETA>.find_all(\"div\", {\"class\":\"_13oc-S\"})\n",
        "#<COMPLETA>"
      ]
    },
    {
      "cell_type": "code",
      "source": [
        "class_= flipkart_soup.find_all(name=\"div\", attrs={\"class\":\"_13oc-S\"})\n",
        "main_box= class_"
      ],
      "metadata": {
        "id": "jY410NiNmBgd"
      },
      "id": "jY410NiNmBgd",
      "execution_count": null,
      "outputs": []
    },
    {
      "cell_type": "code",
      "execution_count": null,
      "id": "8c6f472f",
      "metadata": {
        "scrolled": true,
        "id": "8c6f472f",
        "outputId": "ea55d86a-6d9c-45ee-8ea0-f7f4122b20d1",
        "colab": {
          "base_uri": "https://localhost:8080/"
        }
      },
      "outputs": [
        {
          "output_type": "execute_result",
          "data": {
            "text/plain": [
              "<div class=\"_13oc-S\"><div data-id=\"COMGKW2NUQJFVKSC\" style=\"width:100%\"><div class=\"_2kHMtA\"><div class=\"_2tfzpE\"><span>Ad</span></div><a class=\"_1fQZEK\" href=\"/hp-intel-celeron-dual-core-4-gb-64-gb-emmc-storage-chrome-os-14a-na1004tu-chromebook/p/itm0c05997839997?pid=COMGKW2NUQJFVKSC&amp;lid=LSTCOMGKW2NUQJFVKSCIUU2X8&amp;marketplace=FLIPKART&amp;q=laptops&amp;store=6bo%2Fb5g&amp;srno=s_1_1&amp;otracker=search&amp;otracker1=search&amp;fm=organic&amp;iid=en_WS9Cbhc4EWll2E4g19TlRjAR2%2F1yCj5sVZA5KjTq6P985GeBLBudpA20GJkwIwThaRqZmzLO%2Fztj73jFckhaqA%3D%3D&amp;ppt=None&amp;ppn=None&amp;ssid=1w57ueeb7k0000001677804706280&amp;qH=c06ea84a1e3dc3c6\" rel=\"noopener noreferrer\" target=\"_blank\"><div class=\"MIXNux\"><div class=\"_2QcLo-\"><div><div class=\"CXW8mj\" style=\"height:200px;width:200px\"><img alt=\"HP intel Celeron Dual Core - (4 GB/64 GB EMMC Storage/Chrome OS) 14a- na1004TU Chromebook\" class=\"_396cs4\" loading=\"eager\" src=\"https://rukminim1.flixcart.com/image/312/312/xif0q/computer/6/p/a/chromebook-chromebook-hp-original-imagkwj8tahdykbd.jpeg?q=70\"/></div></div></div><div class=\"_3wLduG\"><div class=\"_3PzNI-\"><span class=\"f3A4_V\"><label class=\"_2iDkf8\"><input class=\"_30VH1S\" readonly=\"\" type=\"checkbox\"/><div class=\"_24_Dny\"></div></label></span><label class=\"_6Up2sF\"><span>Add to Compare</span></label></div></div><div class=\"_2hVSre _3nq8ih\"><div class=\"_36FSn5\"><svg class=\"_1l0elc\" height=\"16\" viewbox=\"0 0 20 16\" width=\"16\" xmlns=\"http://www.w3.org/2000/svg\"><path class=\"eX72wL\" d=\"M8.695 16.682C4.06 12.382 1 9.536 1 6.065 1 3.219 3.178 1 5.95 1c1.566 0 3.069.746 4.05 1.915C10.981 1.745 12.484 1 14.05 1 16.822 1 19 3.22 19 6.065c0 3.471-3.06 6.316-7.695 10.617L10 17.897l-1.305-1.215z\" fill=\"#2874F0\" fill-rule=\"evenodd\" opacity=\".9\" stroke=\"#FFF\"></path></svg></div></div></div><div class=\"_3pLy-c row\"><div class=\"col col-7-12\"><div class=\"_4rR01T\">HP intel Celeron Dual Core - (4 GB/64 GB EMMC Storage/Chrome OS) 14a- na1004TU Chromebook</div><div class=\"gUuXy-\"><span class=\"_1lRcqv\" id=\"productRating_LSTCOMGKW2NUQJFVKSCIUU2X8_COMGKW2NUQJFVKSC_\"><div class=\"_3LWZlK\">3.8<img class=\"_1wB99o\" src=\"data:image/svg+xml;base64,PHN2ZyB4bWxucz0iaHR0cDovL3d3dy53My5vcmcvMjAwMC9zdmciIHdpZHRoPSIxMyIgaGVpZ2h0PSIxMiI+PHBhdGggZmlsbD0iI0ZGRiIgZD0iTTYuNSA5LjQzOWwtMy42NzQgMi4yMy45NC00LjI2LTMuMjEtMi44ODMgNC4yNTQtLjQwNEw2LjUuMTEybDEuNjkgNC4wMSA0LjI1NC40MDQtMy4yMSAyLjg4Mi45NCA0LjI2eiIvPjwvc3ZnPg==\"/></div></span><span class=\"_2_R_DZ\"><span><span>8 Ratings </span><span class=\"_13vcmD\">&amp;</span><span> 1 Reviews</span></span></span></div><div class=\"fMghEO\"><ul class=\"_1xgFaf\"><li class=\"rgWa7D\">Intel Celeron Dual Core Processor</li><li class=\"rgWa7D\">4 GB LPDDR4 RAM</li><li class=\"rgWa7D\">Chrome Operating System</li><li class=\"rgWa7D\">35.56 cm (14 Inch) Touchscreen Display</li><li class=\"rgWa7D\">1 Year Onsite Warranty</li></ul></div></div><div class=\"col col-5-12 nlI3QM\"><div class=\"_3tbKJL\"><div class=\"_25b18c\"><div class=\"_30jeq3 _1_WHN1\">₹21,800</div><div class=\"_3I9_wc _27UcVY\">₹<!-- -->31,531</div><div class=\"_3Ay6Sb\"><span>30% off</span></div></div><div class=\"_3tcB5a p8ucoS\"><div><div class=\"_2Tpdn3\" style=\"color:#000000;font-size:12px;font-weight:400\">Free delivery</div></div></div></div><div class=\"_2ZdXDB\"><div class=\"_3xFhiH\"><div class=\"_2Tpdn3 _18hQoS\" style=\"color:#26A541;font-size:14px;font-weight:700\">Bank Offer</div></div></div></div></div></a></div></div></div>"
            ]
          },
          "metadata": {},
          "execution_count": 58
        }
      ],
      "source": [
        "box=main_box[0]\n",
        "box\n",
        "#practica"
      ]
    },
    {
      "cell_type": "code",
      "source": [
        "box=main_box[0]\n",
        "box\n",
        "#nuestro codigo"
      ],
      "metadata": {
        "colab": {
          "base_uri": "https://localhost:8080/"
        },
        "id": "S6h4h6rwmDq0",
        "outputId": "8c87a9fe-483c-4fe7-a23f-d7d9bcb2e7ba"
      },
      "id": "S6h4h6rwmDq0",
      "execution_count": null,
      "outputs": [
        {
          "output_type": "execute_result",
          "data": {
            "text/plain": [
              "<div class=\"_13oc-S\"><div data-id=\"COMGKW2NUQJFVKSC\" style=\"width:100%\"><div class=\"_2kHMtA\"><div class=\"_2tfzpE\"><span>Ad</span></div><a class=\"_1fQZEK\" href=\"/hp-intel-celeron-dual-core-4-gb-64-gb-emmc-storage-chrome-os-14a-na1004tu-chromebook/p/itm0c05997839997?pid=COMGKW2NUQJFVKSC&amp;lid=LSTCOMGKW2NUQJFVKSCIUU2X8&amp;marketplace=FLIPKART&amp;q=laptops&amp;store=6bo%2Fb5g&amp;srno=s_1_1&amp;otracker=search&amp;otracker1=search&amp;fm=organic&amp;iid=en_WS9Cbhc4EWll2E4g19TlRjAR2%2F1yCj5sVZA5KjTq6P985GeBLBudpA20GJkwIwThaRqZmzLO%2Fztj73jFckhaqA%3D%3D&amp;ppt=None&amp;ppn=None&amp;ssid=1w57ueeb7k0000001677804706280&amp;qH=c06ea84a1e3dc3c6\" rel=\"noopener noreferrer\" target=\"_blank\"><div class=\"MIXNux\"><div class=\"_2QcLo-\"><div><div class=\"CXW8mj\" style=\"height:200px;width:200px\"><img alt=\"HP intel Celeron Dual Core - (4 GB/64 GB EMMC Storage/Chrome OS) 14a- na1004TU Chromebook\" class=\"_396cs4\" loading=\"eager\" src=\"https://rukminim1.flixcart.com/image/312/312/xif0q/computer/6/p/a/chromebook-chromebook-hp-original-imagkwj8tahdykbd.jpeg?q=70\"/></div></div></div><div class=\"_3wLduG\"><div class=\"_3PzNI-\"><span class=\"f3A4_V\"><label class=\"_2iDkf8\"><input class=\"_30VH1S\" readonly=\"\" type=\"checkbox\"/><div class=\"_24_Dny\"></div></label></span><label class=\"_6Up2sF\"><span>Add to Compare</span></label></div></div><div class=\"_2hVSre _3nq8ih\"><div class=\"_36FSn5\"><svg class=\"_1l0elc\" height=\"16\" viewbox=\"0 0 20 16\" width=\"16\" xmlns=\"http://www.w3.org/2000/svg\"><path class=\"eX72wL\" d=\"M8.695 16.682C4.06 12.382 1 9.536 1 6.065 1 3.219 3.178 1 5.95 1c1.566 0 3.069.746 4.05 1.915C10.981 1.745 12.484 1 14.05 1 16.822 1 19 3.22 19 6.065c0 3.471-3.06 6.316-7.695 10.617L10 17.897l-1.305-1.215z\" fill=\"#2874F0\" fill-rule=\"evenodd\" opacity=\".9\" stroke=\"#FFF\"></path></svg></div></div></div><div class=\"_3pLy-c row\"><div class=\"col col-7-12\"><div class=\"_4rR01T\">HP intel Celeron Dual Core - (4 GB/64 GB EMMC Storage/Chrome OS) 14a- na1004TU Chromebook</div><div class=\"gUuXy-\"><span class=\"_1lRcqv\" id=\"productRating_LSTCOMGKW2NUQJFVKSCIUU2X8_COMGKW2NUQJFVKSC_\"><div class=\"_3LWZlK\">3.8<img class=\"_1wB99o\" src=\"data:image/svg+xml;base64,PHN2ZyB4bWxucz0iaHR0cDovL3d3dy53My5vcmcvMjAwMC9zdmciIHdpZHRoPSIxMyIgaGVpZ2h0PSIxMiI+PHBhdGggZmlsbD0iI0ZGRiIgZD0iTTYuNSA5LjQzOWwtMy42NzQgMi4yMy45NC00LjI2LTMuMjEtMi44ODMgNC4yNTQtLjQwNEw2LjUuMTEybDEuNjkgNC4wMSA0LjI1NC40MDQtMy4yMSAyLjg4Mi45NCA0LjI2eiIvPjwvc3ZnPg==\"/></div></span><span class=\"_2_R_DZ\"><span><span>8 Ratings </span><span class=\"_13vcmD\">&amp;</span><span> 1 Reviews</span></span></span></div><div class=\"fMghEO\"><ul class=\"_1xgFaf\"><li class=\"rgWa7D\">Intel Celeron Dual Core Processor</li><li class=\"rgWa7D\">4 GB LPDDR4 RAM</li><li class=\"rgWa7D\">Chrome Operating System</li><li class=\"rgWa7D\">35.56 cm (14 Inch) Touchscreen Display</li><li class=\"rgWa7D\">1 Year Onsite Warranty</li></ul></div></div><div class=\"col col-5-12 nlI3QM\"><div class=\"_3tbKJL\"><div class=\"_25b18c\"><div class=\"_30jeq3 _1_WHN1\">₹21,800</div><div class=\"_3I9_wc _27UcVY\">₹<!-- -->31,531</div><div class=\"_3Ay6Sb\"><span>30% off</span></div></div><div class=\"_3tcB5a p8ucoS\"><div><div class=\"_2Tpdn3\" style=\"color:#000000;font-size:12px;font-weight:400\">Free delivery</div></div></div></div><div class=\"_2ZdXDB\"><div class=\"_3xFhiH\"><div class=\"_2Tpdn3 _18hQoS\" style=\"color:#26A541;font-size:14px;font-weight:700\">Bank Offer</div></div></div></div></div></a></div></div></div>"
            ]
          },
          "metadata": {},
          "execution_count": 59
        }
      ]
    },
    {
      "cell_type": "code",
      "execution_count": null,
      "id": "2be8bcee",
      "metadata": {
        "id": "2be8bcee"
      },
      "outputs": [],
      "source": [
        "title = box.find('div', {'class':'_4rR01T'}).text.strip()\n",
        "rating = box.find('div', {'class':'_3LWZlK'}).text.strip()\n",
        "price = box.find('div', {'class':'_30jeq3 _1_WHN1'}).text.replace('₹','').strip()"
      ]
    },
    {
      "cell_type": "code",
      "execution_count": null,
      "id": "38b07a2c",
      "metadata": {
        "id": "38b07a2c",
        "outputId": "753145cd-2c8c-4858-a752-6dbd49ceac45",
        "colab": {
          "base_uri": "https://localhost:8080/"
        }
      },
      "outputs": [
        {
          "output_type": "stream",
          "name": "stdout",
          "text": [
            "HP intel Celeron Dual Core - (4 GB/64 GB EMMC Storage/Chrome OS) 14a- na1004TU Chromebook 21,800 3.8\n"
          ]
        }
      ],
      "source": [
        "print(title,price,rating) #practica"
      ]
    },
    {
      "cell_type": "code",
      "source": [
        "print(title,price,rating) #nuestro codigo"
      ],
      "metadata": {
        "colab": {
          "base_uri": "https://localhost:8080/"
        },
        "id": "1d2VrdrioS0-",
        "outputId": "bbdf0bd7-a278-490c-a14c-805bac449a2c"
      },
      "id": "1d2VrdrioS0-",
      "execution_count": null,
      "outputs": [
        {
          "output_type": "stream",
          "name": "stdout",
          "text": [
            "HP intel Celeron Dual Core - (4 GB/64 GB EMMC Storage/Chrome OS) 14a- na1004TU Chromebook 21,800 3.8\n"
          ]
        }
      ]
    },
    {
      "cell_type": "code",
      "execution_count": null,
      "id": "9daa5d05",
      "metadata": {
        "id": "9daa5d05"
      },
      "outputs": [],
      "source": [
        "data_list=[]\n",
        "for box in main_box:\n",
        "    temp_dict={}\n",
        "    if not box.find('div', {'class':'_3LWZlK'}):\n",
        "        temp_dict['rating'] = \"unknown\"\n",
        "    else:\n",
        "        temp_dict['rating'] = box.find('div', {'class':'_3LWZlK'}).text.strip()  \n",
        "    #<COMPLETA>\n",
        "    data_list.append(temp_dict)"
      ]
    },
    {
      "cell_type": "code",
      "source": [
        "data_list=[]\n",
        "for box in main_box:\n",
        "    temp_dict={}\n",
        "    #title\n",
        "    if not box.find('div', {'class':'_4rR01T'}):\n",
        "        temp_dict['title'] = \"unknown\"\n",
        "    else:\n",
        "        temp_dict['title'] = box.find('div', {'class':'_4rR01T'}).text.strip()\n",
        "\n",
        "    #price\n",
        "    if not box.find('div', {'class':'_30jeq3 _1_WHN1'}):\n",
        "        temp_dict['price'] = \"unknown\"\n",
        "    else:\n",
        "        temp_dict['price'] = box.find('div', {'class':'_30jeq3 _1_WHN1'}).text.strip()[1:]\n",
        "        \n",
        "\n",
        "    #rating\n",
        "    if not box.find('div', {'class':'_3LWZlK'}):\n",
        "        temp_dict['rating'] = \"unknown\"\n",
        "    else:\n",
        "        temp_dict['rating'] = box.find('div', {'class':'_3LWZlK'}).text.strip()\n",
        "                  \n",
        "    \n",
        "    data_list.append(temp_dict)"
      ],
      "metadata": {
        "id": "FjzqAnyeoqcV"
      },
      "id": "FjzqAnyeoqcV",
      "execution_count": null,
      "outputs": []
    },
    {
      "cell_type": "code",
      "execution_count": null,
      "id": "5f676837",
      "metadata": {
        "id": "5f676837",
        "outputId": "062d1232-46f0-4c93-b7af-45bf14aa7550",
        "colab": {
          "base_uri": "https://localhost:8080/"
        }
      },
      "outputs": [
        {
          "output_type": "execute_result",
          "data": {
            "text/plain": [
              "[{'title': 'ASUS Vivobook 15 OLED (2022) Core i5 12th Gen - (16 GB/512 GB SSD/Windows 11 Home) X1505ZA-L1511WS Thi...',\n",
              "  'price': '66,990',\n",
              "  'rating': '4.6'},\n",
              " {'title': 'Lenovo Lenovo IdeaPad Slim 3 Intel Core i3 11th Gen - (8 GB/512 GB SSD/Windows 11 Home) 81X800J3IN | 8...',\n",
              "  'price': '39,990',\n",
              "  'rating': '4.3'},\n",
              " {'title': 'ASUS TUF Gaming F15 Core i5 10th Gen - (8 GB/512 GB SSD/Windows 11 Home/4 GB Graphics/NVIDIA GeForce G...',\n",
              "  'price': '49,990',\n",
              "  'rating': '4.4'},\n",
              " {'title': 'ASUS VivoBook 15 (2022) Core i3 10th Gen - (8 GB/512 GB SSD/Windows 11 Home) X515JA-EJ362WS | X515JA-E...',\n",
              "  'price': '32,990',\n",
              "  'rating': '4.3'},\n",
              " {'title': 'HP 14s Intel Core i3 11th Gen - (8 GB/256 GB SSD/Windows 11 Home) 14s - dy2507TU Thin and Light Laptop',\n",
              "  'price': '35,490',\n",
              "  'rating': '4.2'},\n",
              " {'title': 'ASUS VivoBook 14 (2021) Celeron Dual Core - (4 GB/256 GB SSD/Windows 11 Home) X415MA-BV011W Thin and L...',\n",
              "  'price': '21,990',\n",
              "  'rating': '4.1'},\n",
              " {'title': 'Lenovo Athlon Dual Core - (4 GB/256 GB SSD/DOS) E41-55 45-2 Laptop',\n",
              "  'price': '18,990',\n",
              "  'rating': '3.9'},\n",
              " {'title': 'Lenovo IdeaPad 1 Ryzen 3 Dual Core 3250U - (8 GB/512 GB SSD/Windows 11 Home) 15ADA7 Thin and Light Lap...',\n",
              "  'price': '36,900',\n",
              "  'rating': '4.2'},\n",
              " {'title': 'APPLE 2020 Macbook Air M1 - (8 GB/256 GB SSD/Mac OS Big Sur) MGN63HN/A',\n",
              "  'price': '86,990',\n",
              "  'rating': '4.7'},\n",
              " {'title': 'HP Ryzen 5 Hexa Core 5500U - (16 GB/512 GB SSD/Windows 11 Home) 15s- eq2182AU Thin and Light Laptop',\n",
              "  'price': '49,990',\n",
              "  'rating': '4.3'},\n",
              " {'title': 'acer Aspire 3 Ryzen 3 Dual Core 3250U - (8 GB/256 GB SSD/Windows 11 Home) A315-23 Laptop',\n",
              "  'price': '26,990',\n",
              "  'rating': '4.2'},\n",
              " {'title': 'Lenovo IdeaPad 3 Core i3 11th Gen - (8 GB/512 GB SSD/Windows 11 Home) 82H801L7IN | 82H802FJIN | 82H802...',\n",
              "  'price': '37,900',\n",
              "  'rating': '4.2'},\n",
              " {'title': 'DELL Vostro Core i3 11th Gen - (8 GB/1 TB HDD/256 GB SSD/Windows 11 Home) Vostro 3510 Thin and Light L...',\n",
              "  'price': '37,990',\n",
              "  'rating': '4'},\n",
              " {'title': 'DELL Vostro Core i3 10th Gen - (8 GB/512 GB SSD/Windows 11 Home) Vostro 3510 Thin and Light Laptop',\n",
              "  'price': '36,990',\n",
              "  'rating': '4.1'},\n",
              " {'title': 'HP Athlon Dual Core 3050U - (8 GB/256 GB SSD/Windows 11 Home) 14s-fq0568AU Thin and Light Laptop',\n",
              "  'price': '26,490',\n",
              "  'rating': '4'},\n",
              " {'title': 'Lenovo IdeaPad Gaming Core i5 11th Gen - (8 GB/512 GB SSD/Windows 11 Home/4 GB Graphics/NVIDIA GeForce...',\n",
              "  'price': '53,990',\n",
              "  'rating': '4.3'},\n",
              " {'title': 'ASUS Core i5 11th Gen - (8 GB/512 GB SSD/Windows 10 Home/2 GB Graphics) K513EP-BQ1092T Thin and Light ...',\n",
              "  'price': '49,990',\n",
              "  'rating': '4.8'},\n",
              " {'title': 'HP 15s Intel Core i3 12th Gen - (8 GB/512 GB SSD/Windows 11 Home) 15s-fq5007TU Thin and Light Laptop',\n",
              "  'price': '43,990',\n",
              "  'rating': '4.2'},\n",
              " {'title': 'ASUS Vivobook 15 Core i3 11th Gen - (8 GB/512 GB SSD/Windows 11 Home) X515EA-EJ322WS Thin and Light La...',\n",
              "  'price': '35,990',\n",
              "  'rating': '4.1'},\n",
              " {'title': 'ASUS Vivobook 14 (2022) Core i5 12th Gen - (8 GB/512 GB SSD/Windows 11 Home) X1402ZA-EK522WS Thin and ...',\n",
              "  'price': '56,990',\n",
              "  'rating': '4.5'},\n",
              " {'title': 'RedmiBook Pro Core i5 11th Gen - (8 GB/512 GB SSD/Windows 11 Home) Thin and Light Laptop',\n",
              "  'price': '38,990',\n",
              "  'rating': '4.1'},\n",
              " {'title': 'ASUS Vivobook 15 Core i7 11th Gen - (16 GB/512 GB SSD/Windows 11 Home) X515EA-EJ701WS Thin and Light L...',\n",
              "  'price': '56,990',\n",
              "  'rating': '4.1'},\n",
              " {'title': 'HP 14s Intel Core i3 11th Gen - (8 GB/512 GB SSD/Windows 11 Home) 14s - dy2508TU Thin and Light Laptop',\n",
              "  'price': '39,990',\n",
              "  'rating': '4.2'},\n",
              " {'title': 'Lenovo IdeaPad 3 Ryzen 5 Hexa Core 5500U - (8 GB/512 GB SSD/Windows 11 Home) 15ALC6 Thin and Light Lap...',\n",
              "  'price': '45,126',\n",
              "  'rating': '4.3'}]"
            ]
          },
          "metadata": {},
          "execution_count": 36
        }
      ],
      "source": [
        "data_list #practica"
      ]
    },
    {
      "cell_type": "code",
      "source": [
        "data_list #codigo nuestro"
      ],
      "metadata": {
        "colab": {
          "base_uri": "https://localhost:8080/"
        },
        "id": "vhL-cZUro3iW",
        "outputId": "7f0851e7-5cc3-4c9d-8b0a-34dd74337370"
      },
      "id": "vhL-cZUro3iW",
      "execution_count": null,
      "outputs": [
        {
          "output_type": "execute_result",
          "data": {
            "text/plain": [
              "[{'title': 'HP intel Celeron Dual Core - (4 GB/64 GB EMMC Storage/Chrome OS) 14a- na1004TU Chromebook',\n",
              "  'price': '21,800',\n",
              "  'rating': '3.8'},\n",
              " {'title': 'HP 14s Intel Core i3 11th Gen - (8 GB/512 GB SSD/Windows 11 Home) 14s - dy2508TU Thin and Light Laptop',\n",
              "  'price': '39,900',\n",
              "  'rating': '4.2'},\n",
              " {'title': 'ASUS TUF Gaming F15 Core i5 10th Gen - (8 GB/512 GB SSD/Windows 11 Home/4 GB Graphics/NVIDIA GeForce G...',\n",
              "  'price': '49,990',\n",
              "  'rating': '4.4'},\n",
              " {'title': 'ASUS VivoBook 15 (2022) Core i3 10th Gen - (8 GB/512 GB SSD/Windows 11 Home) X515JA-EJ362WS | X515JA-E...',\n",
              "  'price': '32,990',\n",
              "  'rating': '4.3'},\n",
              " {'title': 'HP 14s Intel Core i3 11th Gen - (8 GB/256 GB SSD/Windows 11 Home) 14s - dy2507TU Thin and Light Laptop',\n",
              "  'price': '35,490',\n",
              "  'rating': '4.2'},\n",
              " {'title': 'ASUS VivoBook 14 (2021) Celeron Dual Core - (4 GB/256 GB SSD/Windows 11 Home) X415MA-BV011W Thin and L...',\n",
              "  'price': '21,990',\n",
              "  'rating': '4.1'},\n",
              " {'title': 'Lenovo Athlon Dual Core - (4 GB/256 GB SSD/DOS) E41-55 45-2 Laptop',\n",
              "  'price': '18,990',\n",
              "  'rating': '3.9'},\n",
              " {'title': 'Lenovo IdeaPad 3 Ryzen 5 Hexa Core 5500U - (8 GB/512 GB SSD/Windows 11 Home) 15ALC6 Thin and Light Lap...',\n",
              "  'price': '44,800',\n",
              "  'rating': '4.3'},\n",
              " {'title': 'HP 15s Intel Core i3 11th Gen - (8 GB/512 GB SSD/Windows 11 Home) 15s-fr2511TU Thin and Light Laptop',\n",
              "  'price': '40,450',\n",
              "  'rating': '4.3'},\n",
              " {'title': 'HP Ryzen 5 Hexa Core 5500U - (16 GB/512 GB SSD/Windows 11 Home) 15s- eq2182AU Thin and Light Laptop',\n",
              "  'price': '49,990',\n",
              "  'rating': '4.3'},\n",
              " {'title': 'DELL Vostro Core i3 10th Gen - (8 GB/512 GB SSD/Windows 11 Home) Vostro 3510 Thin and Light Laptop',\n",
              "  'price': '36,990',\n",
              "  'rating': '4.1'},\n",
              " {'title': 'Lenovo Lenovo IdeaPad Slim 3 Intel Core i5 11th Gen - (16 GB/512 GB SSD/Windows 11 Home) 15ITL6 Thin a...',\n",
              "  'price': '60,990',\n",
              "  'rating': '4.5'},\n",
              " {'title': 'DELL Vostro Core i3 11th Gen - (8 GB/1 TB HDD/256 GB SSD/Windows 11 Home) Vostro 3510 Thin and Light L...',\n",
              "  'price': '37,990',\n",
              "  'rating': '4'},\n",
              " {'title': 'acer Aspire 3 Ryzen 3 Dual Core 3250U - (8 GB/256 GB SSD/Windows 11 Home) A315-23 Laptop',\n",
              "  'price': '26,990',\n",
              "  'rating': '4.2'},\n",
              " {'title': 'HP 15s Intel Core i3 12th Gen - (8 GB/512 GB SSD/Windows 11 Home) 15s-fq5007TU Thin and Light Laptop',\n",
              "  'price': '43,990',\n",
              "  'rating': '4.2'},\n",
              " {'title': 'Lenovo IdeaPad Core i5 11th Gen - (8 GB/512 GB SSD/Windows 11 Home/4 GB Graphics/NVIDIA GeForce GTX 16...',\n",
              "  'price': '57,990',\n",
              "  'rating': '4.3'},\n",
              " {'title': 'ASUS Core i5 11th Gen - (8 GB/512 GB SSD/Windows 10 Home/2 GB Graphics) K513EP-BQ1092T Thin and Light ...',\n",
              "  'price': '49,990',\n",
              "  'rating': '4.8'},\n",
              " {'title': 'APPLE 2020 Macbook Air M1 - (8 GB/256 GB SSD/Mac OS Big Sur) MGN63HN/A',\n",
              "  'price': '86,990',\n",
              "  'rating': '4.7'},\n",
              " {'title': 'ASUS Vivobook 15 Core i3 11th Gen - (8 GB/512 GB SSD/Windows 11 Home) X515EA-EJ322WS Thin and Light La...',\n",
              "  'price': '35,990',\n",
              "  'rating': '4.1'},\n",
              " {'title': 'ASUS TUF Gaming A17 with 90Whr Battery Ryzen 5 Hexa Core AMD R5-4600H - (8 GB/512 GB SSD/Windows 11 Ho...',\n",
              "  'price': '53,990',\n",
              "  'rating': '4.4'},\n",
              " {'title': 'HP Intel Core i5 11th Gen - (8 GB/512 GB SSD/Windows 11 Home) 15s- fr4000TU Thin and Light Laptop',\n",
              "  'price': '52,990',\n",
              "  'rating': '4.3'},\n",
              " {'title': 'RedmiBook Pro Core i5 11th Gen - (8 GB/512 GB SSD/Windows 11 Home) Thin and Light Laptop',\n",
              "  'price': '38,990',\n",
              "  'rating': '4.1'},\n",
              " {'title': 'HP 15s Intel Core i5 12th Gen - (8 GB/512 GB SSD/Windows 11 Home) 15s-fq5111TU Thin and Light Laptop',\n",
              "  'price': '56,990',\n",
              "  'rating': '4.2'},\n",
              " {'title': 'ASUS TUF Gaming A17 with 90Whr Battery Ryzen 7 Octa Core AMD R7-4800H - (8 GB/512 GB SSD/Windows 11 Ho...',\n",
              "  'price': '67,990',\n",
              "  'rating': '4.4'}]"
            ]
          },
          "metadata": {},
          "execution_count": 64
        }
      ]
    },
    {
      "cell_type": "markdown",
      "id": "2272e7c5",
      "metadata": {
        "id": "2272e7c5"
      },
      "source": [
        "### Paso 4: Crear un dataframe y guardar los datos en csv\n",
        "\n",
        "Después de extraer los datos, es posible que desee almacenarlos en un formato. Este formato varía según sus necesidades. Para este ejemplo, almacenaremos los datos extraídos en formato CSV (valores separados por comas). Para hacer esto, agregaré las siguientes líneas a mi código:"
      ]
    },
    {
      "cell_type": "code",
      "execution_count": null,
      "id": "1e1e8742",
      "metadata": {
        "id": "1e1e8742"
      },
      "outputs": [],
      "source": [
        "#<COMPLETA>"
      ]
    },
    {
      "cell_type": "code",
      "source": [
        "import pandas as pd\n",
        "df=pd.DataFrame(data_list, columns=['title','price','rating'])\n",
        "df"
      ],
      "metadata": {
        "colab": {
          "base_uri": "https://localhost:8080/",
          "height": 802
        },
        "id": "UVj2sO0kqJue",
        "outputId": "92469285-f917-4fcc-9a9b-899ad73a83e5"
      },
      "id": "UVj2sO0kqJue",
      "execution_count": null,
      "outputs": [
        {
          "output_type": "execute_result",
          "data": {
            "text/plain": [
              "                                                title   price rating\n",
              "0   HP intel Celeron Dual Core - (4 GB/64 GB EMMC ...  21,800    3.8\n",
              "1   HP 14s Intel Core i3 11th Gen - (8 GB/512 GB S...  39,900    4.2\n",
              "2   ASUS TUF Gaming F15 Core i5 10th Gen - (8 GB/5...  49,990    4.4\n",
              "3   ASUS VivoBook 15 (2022) Core i3 10th Gen - (8 ...  32,990    4.3\n",
              "4   HP 14s Intel Core i3 11th Gen - (8 GB/256 GB S...  35,490    4.2\n",
              "5   ASUS VivoBook 14 (2021) Celeron Dual Core - (4...  21,990    4.1\n",
              "6   Lenovo Athlon Dual Core - (4 GB/256 GB SSD/DOS...  18,990    3.9\n",
              "7   Lenovo IdeaPad 3 Ryzen 5 Hexa Core 5500U - (8 ...  44,800    4.3\n",
              "8   HP 15s Intel Core i3 11th Gen - (8 GB/512 GB S...  40,450    4.3\n",
              "9   HP Ryzen 5 Hexa Core 5500U - (16 GB/512 GB SSD...  49,990    4.3\n",
              "10  DELL Vostro Core i3 10th Gen - (8 GB/512 GB SS...  36,990    4.1\n",
              "11  Lenovo Lenovo IdeaPad Slim 3 Intel Core i5 11t...  60,990    4.5\n",
              "12  DELL Vostro Core i3 11th Gen - (8 GB/1 TB HDD/...  37,990      4\n",
              "13  acer Aspire 3 Ryzen 3 Dual Core 3250U - (8 GB/...  26,990    4.2\n",
              "14  HP 15s Intel Core i3 12th Gen - (8 GB/512 GB S...  43,990    4.2\n",
              "15  Lenovo IdeaPad Core i5 11th Gen - (8 GB/512 GB...  57,990    4.3\n",
              "16  ASUS Core i5 11th Gen - (8 GB/512 GB SSD/Windo...  49,990    4.8\n",
              "17  APPLE 2020 Macbook Air M1 - (8 GB/256 GB SSD/M...  86,990    4.7\n",
              "18  ASUS Vivobook 15 Core i3 11th Gen - (8 GB/512 ...  35,990    4.1\n",
              "19  ASUS TUF Gaming A17 with 90Whr Battery Ryzen 5...  53,990    4.4\n",
              "20  HP Intel Core i5 11th Gen - (8 GB/512 GB SSD/W...  52,990    4.3\n",
              "21  RedmiBook Pro Core i5 11th Gen - (8 GB/512 GB ...  38,990    4.1\n",
              "22  HP 15s Intel Core i5 12th Gen - (8 GB/512 GB S...  56,990    4.2\n",
              "23  ASUS TUF Gaming A17 with 90Whr Battery Ryzen 7...  67,990    4.4"
            ],
            "text/html": [
              "\n",
              "  <div id=\"df-7c8f5ce1-0626-4ffe-b835-d79eade15d6f\">\n",
              "    <div class=\"colab-df-container\">\n",
              "      <div>\n",
              "<style scoped>\n",
              "    .dataframe tbody tr th:only-of-type {\n",
              "        vertical-align: middle;\n",
              "    }\n",
              "\n",
              "    .dataframe tbody tr th {\n",
              "        vertical-align: top;\n",
              "    }\n",
              "\n",
              "    .dataframe thead th {\n",
              "        text-align: right;\n",
              "    }\n",
              "</style>\n",
              "<table border=\"1\" class=\"dataframe\">\n",
              "  <thead>\n",
              "    <tr style=\"text-align: right;\">\n",
              "      <th></th>\n",
              "      <th>title</th>\n",
              "      <th>price</th>\n",
              "      <th>rating</th>\n",
              "    </tr>\n",
              "  </thead>\n",
              "  <tbody>\n",
              "    <tr>\n",
              "      <th>0</th>\n",
              "      <td>HP intel Celeron Dual Core - (4 GB/64 GB EMMC ...</td>\n",
              "      <td>21,800</td>\n",
              "      <td>3.8</td>\n",
              "    </tr>\n",
              "    <tr>\n",
              "      <th>1</th>\n",
              "      <td>HP 14s Intel Core i3 11th Gen - (8 GB/512 GB S...</td>\n",
              "      <td>39,900</td>\n",
              "      <td>4.2</td>\n",
              "    </tr>\n",
              "    <tr>\n",
              "      <th>2</th>\n",
              "      <td>ASUS TUF Gaming F15 Core i5 10th Gen - (8 GB/5...</td>\n",
              "      <td>49,990</td>\n",
              "      <td>4.4</td>\n",
              "    </tr>\n",
              "    <tr>\n",
              "      <th>3</th>\n",
              "      <td>ASUS VivoBook 15 (2022) Core i3 10th Gen - (8 ...</td>\n",
              "      <td>32,990</td>\n",
              "      <td>4.3</td>\n",
              "    </tr>\n",
              "    <tr>\n",
              "      <th>4</th>\n",
              "      <td>HP 14s Intel Core i3 11th Gen - (8 GB/256 GB S...</td>\n",
              "      <td>35,490</td>\n",
              "      <td>4.2</td>\n",
              "    </tr>\n",
              "    <tr>\n",
              "      <th>5</th>\n",
              "      <td>ASUS VivoBook 14 (2021) Celeron Dual Core - (4...</td>\n",
              "      <td>21,990</td>\n",
              "      <td>4.1</td>\n",
              "    </tr>\n",
              "    <tr>\n",
              "      <th>6</th>\n",
              "      <td>Lenovo Athlon Dual Core - (4 GB/256 GB SSD/DOS...</td>\n",
              "      <td>18,990</td>\n",
              "      <td>3.9</td>\n",
              "    </tr>\n",
              "    <tr>\n",
              "      <th>7</th>\n",
              "      <td>Lenovo IdeaPad 3 Ryzen 5 Hexa Core 5500U - (8 ...</td>\n",
              "      <td>44,800</td>\n",
              "      <td>4.3</td>\n",
              "    </tr>\n",
              "    <tr>\n",
              "      <th>8</th>\n",
              "      <td>HP 15s Intel Core i3 11th Gen - (8 GB/512 GB S...</td>\n",
              "      <td>40,450</td>\n",
              "      <td>4.3</td>\n",
              "    </tr>\n",
              "    <tr>\n",
              "      <th>9</th>\n",
              "      <td>HP Ryzen 5 Hexa Core 5500U - (16 GB/512 GB SSD...</td>\n",
              "      <td>49,990</td>\n",
              "      <td>4.3</td>\n",
              "    </tr>\n",
              "    <tr>\n",
              "      <th>10</th>\n",
              "      <td>DELL Vostro Core i3 10th Gen - (8 GB/512 GB SS...</td>\n",
              "      <td>36,990</td>\n",
              "      <td>4.1</td>\n",
              "    </tr>\n",
              "    <tr>\n",
              "      <th>11</th>\n",
              "      <td>Lenovo Lenovo IdeaPad Slim 3 Intel Core i5 11t...</td>\n",
              "      <td>60,990</td>\n",
              "      <td>4.5</td>\n",
              "    </tr>\n",
              "    <tr>\n",
              "      <th>12</th>\n",
              "      <td>DELL Vostro Core i3 11th Gen - (8 GB/1 TB HDD/...</td>\n",
              "      <td>37,990</td>\n",
              "      <td>4</td>\n",
              "    </tr>\n",
              "    <tr>\n",
              "      <th>13</th>\n",
              "      <td>acer Aspire 3 Ryzen 3 Dual Core 3250U - (8 GB/...</td>\n",
              "      <td>26,990</td>\n",
              "      <td>4.2</td>\n",
              "    </tr>\n",
              "    <tr>\n",
              "      <th>14</th>\n",
              "      <td>HP 15s Intel Core i3 12th Gen - (8 GB/512 GB S...</td>\n",
              "      <td>43,990</td>\n",
              "      <td>4.2</td>\n",
              "    </tr>\n",
              "    <tr>\n",
              "      <th>15</th>\n",
              "      <td>Lenovo IdeaPad Core i5 11th Gen - (8 GB/512 GB...</td>\n",
              "      <td>57,990</td>\n",
              "      <td>4.3</td>\n",
              "    </tr>\n",
              "    <tr>\n",
              "      <th>16</th>\n",
              "      <td>ASUS Core i5 11th Gen - (8 GB/512 GB SSD/Windo...</td>\n",
              "      <td>49,990</td>\n",
              "      <td>4.8</td>\n",
              "    </tr>\n",
              "    <tr>\n",
              "      <th>17</th>\n",
              "      <td>APPLE 2020 Macbook Air M1 - (8 GB/256 GB SSD/M...</td>\n",
              "      <td>86,990</td>\n",
              "      <td>4.7</td>\n",
              "    </tr>\n",
              "    <tr>\n",
              "      <th>18</th>\n",
              "      <td>ASUS Vivobook 15 Core i3 11th Gen - (8 GB/512 ...</td>\n",
              "      <td>35,990</td>\n",
              "      <td>4.1</td>\n",
              "    </tr>\n",
              "    <tr>\n",
              "      <th>19</th>\n",
              "      <td>ASUS TUF Gaming A17 with 90Whr Battery Ryzen 5...</td>\n",
              "      <td>53,990</td>\n",
              "      <td>4.4</td>\n",
              "    </tr>\n",
              "    <tr>\n",
              "      <th>20</th>\n",
              "      <td>HP Intel Core i5 11th Gen - (8 GB/512 GB SSD/W...</td>\n",
              "      <td>52,990</td>\n",
              "      <td>4.3</td>\n",
              "    </tr>\n",
              "    <tr>\n",
              "      <th>21</th>\n",
              "      <td>RedmiBook Pro Core i5 11th Gen - (8 GB/512 GB ...</td>\n",
              "      <td>38,990</td>\n",
              "      <td>4.1</td>\n",
              "    </tr>\n",
              "    <tr>\n",
              "      <th>22</th>\n",
              "      <td>HP 15s Intel Core i5 12th Gen - (8 GB/512 GB S...</td>\n",
              "      <td>56,990</td>\n",
              "      <td>4.2</td>\n",
              "    </tr>\n",
              "    <tr>\n",
              "      <th>23</th>\n",
              "      <td>ASUS TUF Gaming A17 with 90Whr Battery Ryzen 7...</td>\n",
              "      <td>67,990</td>\n",
              "      <td>4.4</td>\n",
              "    </tr>\n",
              "  </tbody>\n",
              "</table>\n",
              "</div>\n",
              "      <button class=\"colab-df-convert\" onclick=\"convertToInteractive('df-7c8f5ce1-0626-4ffe-b835-d79eade15d6f')\"\n",
              "              title=\"Convert this dataframe to an interactive table.\"\n",
              "              style=\"display:none;\">\n",
              "        \n",
              "  <svg xmlns=\"http://www.w3.org/2000/svg\" height=\"24px\"viewBox=\"0 0 24 24\"\n",
              "       width=\"24px\">\n",
              "    <path d=\"M0 0h24v24H0V0z\" fill=\"none\"/>\n",
              "    <path d=\"M18.56 5.44l.94 2.06.94-2.06 2.06-.94-2.06-.94-.94-2.06-.94 2.06-2.06.94zm-11 1L8.5 8.5l.94-2.06 2.06-.94-2.06-.94L8.5 2.5l-.94 2.06-2.06.94zm10 10l.94 2.06.94-2.06 2.06-.94-2.06-.94-.94-2.06-.94 2.06-2.06.94z\"/><path d=\"M17.41 7.96l-1.37-1.37c-.4-.4-.92-.59-1.43-.59-.52 0-1.04.2-1.43.59L10.3 9.45l-7.72 7.72c-.78.78-.78 2.05 0 2.83L4 21.41c.39.39.9.59 1.41.59.51 0 1.02-.2 1.41-.59l7.78-7.78 2.81-2.81c.8-.78.8-2.07 0-2.86zM5.41 20L4 18.59l7.72-7.72 1.47 1.35L5.41 20z\"/>\n",
              "  </svg>\n",
              "      </button>\n",
              "      \n",
              "  <style>\n",
              "    .colab-df-container {\n",
              "      display:flex;\n",
              "      flex-wrap:wrap;\n",
              "      gap: 12px;\n",
              "    }\n",
              "\n",
              "    .colab-df-convert {\n",
              "      background-color: #E8F0FE;\n",
              "      border: none;\n",
              "      border-radius: 50%;\n",
              "      cursor: pointer;\n",
              "      display: none;\n",
              "      fill: #1967D2;\n",
              "      height: 32px;\n",
              "      padding: 0 0 0 0;\n",
              "      width: 32px;\n",
              "    }\n",
              "\n",
              "    .colab-df-convert:hover {\n",
              "      background-color: #E2EBFA;\n",
              "      box-shadow: 0px 1px 2px rgba(60, 64, 67, 0.3), 0px 1px 3px 1px rgba(60, 64, 67, 0.15);\n",
              "      fill: #174EA6;\n",
              "    }\n",
              "\n",
              "    [theme=dark] .colab-df-convert {\n",
              "      background-color: #3B4455;\n",
              "      fill: #D2E3FC;\n",
              "    }\n",
              "\n",
              "    [theme=dark] .colab-df-convert:hover {\n",
              "      background-color: #434B5C;\n",
              "      box-shadow: 0px 1px 3px 1px rgba(0, 0, 0, 0.15);\n",
              "      filter: drop-shadow(0px 1px 2px rgba(0, 0, 0, 0.3));\n",
              "      fill: #FFFFFF;\n",
              "    }\n",
              "  </style>\n",
              "\n",
              "      <script>\n",
              "        const buttonEl =\n",
              "          document.querySelector('#df-7c8f5ce1-0626-4ffe-b835-d79eade15d6f button.colab-df-convert');\n",
              "        buttonEl.style.display =\n",
              "          google.colab.kernel.accessAllowed ? 'block' : 'none';\n",
              "\n",
              "        async function convertToInteractive(key) {\n",
              "          const element = document.querySelector('#df-7c8f5ce1-0626-4ffe-b835-d79eade15d6f');\n",
              "          const dataTable =\n",
              "            await google.colab.kernel.invokeFunction('convertToInteractive',\n",
              "                                                     [key], {});\n",
              "          if (!dataTable) return;\n",
              "\n",
              "          const docLinkHtml = 'Like what you see? Visit the ' +\n",
              "            '<a target=\"_blank\" href=https://colab.research.google.com/notebooks/data_table.ipynb>data table notebook</a>'\n",
              "            + ' to learn more about interactive tables.';\n",
              "          element.innerHTML = '';\n",
              "          dataTable['output_type'] = 'display_data';\n",
              "          await google.colab.output.renderOutput(dataTable, element);\n",
              "          const docLink = document.createElement('div');\n",
              "          docLink.innerHTML = docLinkHtml;\n",
              "          element.appendChild(docLink);\n",
              "        }\n",
              "      </script>\n",
              "    </div>\n",
              "  </div>\n",
              "  "
            ]
          },
          "metadata": {},
          "execution_count": 65
        }
      ]
    },
    {
      "cell_type": "code",
      "source": [
        "csv_data=df.to_csv(\"flipkart_df.csv\")\n"
      ],
      "metadata": {
        "id": "8-8tnEPcqjke"
      },
      "id": "8-8tnEPcqjke",
      "execution_count": null,
      "outputs": []
    },
    {
      "cell_type": "markdown",
      "id": "e4a18a21",
      "metadata": {
        "id": "e4a18a21"
      },
      "source": [
        "### Paso 5: Un poco de EDA y visualización de este archivo"
      ]
    },
    {
      "cell_type": "code",
      "execution_count": null,
      "id": "6f2da64c",
      "metadata": {
        "id": "6f2da64c",
        "outputId": "81044bbe-45ba-454d-e871-0bdbf0c7a215",
        "colab": {
          "base_uri": "https://localhost:8080/"
        }
      },
      "outputs": [
        {
          "output_type": "stream",
          "name": "stdout",
          "text": [
            "<class 'pandas.core.frame.DataFrame'>\n",
            "RangeIndex: 24 entries, 0 to 23\n",
            "Data columns (total 3 columns):\n",
            " #   Column  Non-Null Count  Dtype \n",
            "---  ------  --------------  ----- \n",
            " 0   title   24 non-null     object\n",
            " 1   price   24 non-null     object\n",
            " 2   rating  24 non-null     object\n",
            "dtypes: object(3)\n",
            "memory usage: 704.0+ bytes\n"
          ]
        }
      ],
      "source": [
        "df.info()"
      ]
    },
    {
      "cell_type": "code",
      "execution_count": null,
      "id": "99f0448e",
      "metadata": {
        "id": "99f0448e"
      },
      "outputs": [],
      "source": [
        "laptop_df=df.copy()\n",
        "#<COMPLETA> | Crea una copia auxiliar llamada laptop_df"
      ]
    },
    {
      "cell_type": "code",
      "source": [
        "laptop_df.info()"
      ],
      "metadata": {
        "colab": {
          "base_uri": "https://localhost:8080/"
        },
        "id": "SDIgHXCzsdBb",
        "outputId": "bce58346-7e3c-4901-9f35-c1187e2dd1e4"
      },
      "id": "SDIgHXCzsdBb",
      "execution_count": null,
      "outputs": [
        {
          "output_type": "stream",
          "name": "stdout",
          "text": [
            "<class 'pandas.core.frame.DataFrame'>\n",
            "RangeIndex: 24 entries, 0 to 23\n",
            "Data columns (total 3 columns):\n",
            " #   Column  Non-Null Count  Dtype \n",
            "---  ------  --------------  ----- \n",
            " 0   title   24 non-null     object\n",
            " 1   price   24 non-null     object\n",
            " 2   rating  24 non-null     object\n",
            "dtypes: object(3)\n",
            "memory usage: 704.0+ bytes\n"
          ]
        }
      ]
    },
    {
      "cell_type": "markdown",
      "id": "2b11361d",
      "metadata": {
        "id": "2b11361d"
      },
      "source": [
        "Quiero dividir el título debido a todas las especificaciones y nombres de portátiles en una fila.\n",
        "\n",
        "Lo dividiremos en diferentes columnas por separado usando la opción split ()"
      ]
    },
    {
      "cell_type": "code",
      "source": [
        "prices = float(laptop_df['price'].strip().lstrip(\",\"))"
      ],
      "metadata": {
        "colab": {
          "base_uri": "https://localhost:8080/",
          "height": 288
        },
        "id": "t4jAE8yT6NWS",
        "outputId": "a22bd29f-f926-43e6-fdc7-53ddea0c141d"
      },
      "id": "t4jAE8yT6NWS",
      "execution_count": null,
      "outputs": [
        {
          "output_type": "error",
          "ename": "AttributeError",
          "evalue": "ignored",
          "traceback": [
            "\u001b[0;31m---------------------------------------------------------------------------\u001b[0m",
            "\u001b[0;31mAttributeError\u001b[0m                            Traceback (most recent call last)",
            "\u001b[0;32m<ipython-input-52-13320765043e>\u001b[0m in \u001b[0;36m<module>\u001b[0;34m\u001b[0m\n\u001b[0;32m----> 1\u001b[0;31m \u001b[0mprices\u001b[0m \u001b[0;34m=\u001b[0m \u001b[0mfloat\u001b[0m\u001b[0;34m(\u001b[0m\u001b[0mlaptop_df\u001b[0m\u001b[0;34m[\u001b[0m\u001b[0;34m'price'\u001b[0m\u001b[0;34m]\u001b[0m\u001b[0;34m.\u001b[0m\u001b[0mstrip\u001b[0m\u001b[0;34m(\u001b[0m\u001b[0;34m)\u001b[0m\u001b[0;34m.\u001b[0m\u001b[0mlstrip\u001b[0m\u001b[0;34m(\u001b[0m\u001b[0;34m\",\"\u001b[0m\u001b[0;34m)\u001b[0m\u001b[0;34m)\u001b[0m\u001b[0;34m\u001b[0m\u001b[0;34m\u001b[0m\u001b[0m\n\u001b[0m",
            "\u001b[0;32m/usr/local/lib/python3.8/dist-packages/pandas/core/generic.py\u001b[0m in \u001b[0;36m__getattr__\u001b[0;34m(self, name)\u001b[0m\n\u001b[1;32m   5485\u001b[0m         ):\n\u001b[1;32m   5486\u001b[0m             \u001b[0;32mreturn\u001b[0m \u001b[0mself\u001b[0m\u001b[0;34m[\u001b[0m\u001b[0mname\u001b[0m\u001b[0;34m]\u001b[0m\u001b[0;34m\u001b[0m\u001b[0;34m\u001b[0m\u001b[0m\n\u001b[0;32m-> 5487\u001b[0;31m         \u001b[0;32mreturn\u001b[0m \u001b[0mobject\u001b[0m\u001b[0;34m.\u001b[0m\u001b[0m__getattribute__\u001b[0m\u001b[0;34m(\u001b[0m\u001b[0mself\u001b[0m\u001b[0;34m,\u001b[0m \u001b[0mname\u001b[0m\u001b[0;34m)\u001b[0m\u001b[0;34m\u001b[0m\u001b[0;34m\u001b[0m\u001b[0m\n\u001b[0m\u001b[1;32m   5488\u001b[0m \u001b[0;34m\u001b[0m\u001b[0m\n\u001b[1;32m   5489\u001b[0m     \u001b[0;32mdef\u001b[0m \u001b[0m__setattr__\u001b[0m\u001b[0;34m(\u001b[0m\u001b[0mself\u001b[0m\u001b[0;34m,\u001b[0m \u001b[0mname\u001b[0m\u001b[0;34m:\u001b[0m \u001b[0mstr\u001b[0m\u001b[0;34m,\u001b[0m \u001b[0mvalue\u001b[0m\u001b[0;34m)\u001b[0m \u001b[0;34m->\u001b[0m \u001b[0;32mNone\u001b[0m\u001b[0;34m:\u001b[0m\u001b[0;34m\u001b[0m\u001b[0;34m\u001b[0m\u001b[0m\n",
            "\u001b[0;31mAttributeError\u001b[0m: 'Series' object has no attribute 'strip'"
          ]
        }
      ]
    },
    {
      "cell_type": "code",
      "source": [
        "laptop_df['price'].float()\n",
        "laptop_df['rating'].float()\n",
        "\n",
        "#convertir la columna a flotante"
      ],
      "metadata": {
        "colab": {
          "base_uri": "https://localhost:8080/",
          "height": 218
        },
        "id": "tQQkoDs3uhKX",
        "outputId": "c098edb5-b911-4561-a283-c68acb3c539d"
      },
      "id": "tQQkoDs3uhKX",
      "execution_count": null,
      "outputs": [
        {
          "output_type": "error",
          "ename": "NameError",
          "evalue": "ignored",
          "traceback": [
            "\u001b[0;31m---------------------------------------------------------------------------\u001b[0m",
            "\u001b[0;31mNameError\u001b[0m                                 Traceback (most recent call last)",
            "\u001b[0;32m<ipython-input-1-0a5170db1d22>\u001b[0m in \u001b[0;36m<module>\u001b[0;34m\u001b[0m\n\u001b[0;32m----> 1\u001b[0;31m \u001b[0mlaptop_df\u001b[0m\u001b[0;34m[\u001b[0m\u001b[0;34m'price'\u001b[0m\u001b[0;34m]\u001b[0m\u001b[0;34m.\u001b[0m\u001b[0mfloat\u001b[0m\u001b[0;34m(\u001b[0m\u001b[0;34m)\u001b[0m\u001b[0;34m\u001b[0m\u001b[0;34m\u001b[0m\u001b[0m\n\u001b[0m\u001b[1;32m      2\u001b[0m \u001b[0mlaptop_df\u001b[0m\u001b[0;34m[\u001b[0m\u001b[0;34m'rating'\u001b[0m\u001b[0;34m]\u001b[0m\u001b[0;34m.\u001b[0m\u001b[0mfloat\u001b[0m\u001b[0;34m(\u001b[0m\u001b[0;34m)\u001b[0m\u001b[0;34m\u001b[0m\u001b[0;34m\u001b[0m\u001b[0m\n\u001b[1;32m      3\u001b[0m \u001b[0;34m\u001b[0m\u001b[0m\n\u001b[1;32m      4\u001b[0m \u001b[0;31m#convertir la columna a flotante\u001b[0m\u001b[0;34m\u001b[0m\u001b[0;34m\u001b[0m\u001b[0;34m\u001b[0m\u001b[0m\n",
            "\u001b[0;31mNameError\u001b[0m: name 'laptop_df' is not defined"
          ]
        }
      ]
    },
    {
      "cell_type": "code",
      "execution_count": null,
      "id": "3086a6d7",
      "metadata": {
        "id": "3086a6d7",
        "outputId": "11bd56b4-6240-4614-d138-5994fe5330b2"
      },
      "outputs": [
        {
          "name": "stderr",
          "output_type": "stream",
          "text": [
            "C:\\Users\\beyon\\AppData\\Local\\Temp\\ipykernel_16568\\2258798354.py:1: FutureWarning: Columnar iteration over characters will be deprecated in future releases.\n",
            "  laptop_df['model'], laptop_df['spec'] = laptop_df['title'].str.split('-', 1).str\n"
          ]
        },
        {
          "data": {
            "text/html": [
              "<div>\n",
              "<style scoped>\n",
              "    .dataframe tbody tr th:only-of-type {\n",
              "        vertical-align: middle;\n",
              "    }\n",
              "\n",
              "    .dataframe tbody tr th {\n",
              "        vertical-align: top;\n",
              "    }\n",
              "\n",
              "    .dataframe thead th {\n",
              "        text-align: right;\n",
              "    }\n",
              "</style>\n",
              "<table border=\"1\" class=\"dataframe\">\n",
              "  <thead>\n",
              "    <tr style=\"text-align: right;\">\n",
              "      <th></th>\n",
              "      <th>rating</th>\n",
              "      <th>price</th>\n",
              "      <th>model</th>\n",
              "      <th>spec</th>\n",
              "    </tr>\n",
              "  </thead>\n",
              "  <tbody>\n",
              "    <tr>\n",
              "      <th>0</th>\n",
              "      <td>4.2</td>\n",
              "      <td>59,999</td>\n",
              "      <td>HP 15s Intel Core i5 12th Gen</td>\n",
              "      <td>(8 GB/512 GB SSD/Windows 11 Home) 15s-fq5111T...</td>\n",
              "    </tr>\n",
              "    <tr>\n",
              "      <th>1</th>\n",
              "      <td>4.2</td>\n",
              "      <td>37,990</td>\n",
              "      <td>HP 14s Intel Core i3 11th Gen</td>\n",
              "      <td>(8 GB/256 GB SSD/Windows 11 Home) 14s - dy250...</td>\n",
              "    </tr>\n",
              "    <tr>\n",
              "      <th>2</th>\n",
              "      <td>4.4</td>\n",
              "      <td>49,990</td>\n",
              "      <td>ASUS TUF Gaming F15 Core i5 10th Gen</td>\n",
              "      <td>(8 GB/512 GB SSD/Windows 11 Home/4 GB Graphic...</td>\n",
              "    </tr>\n",
              "    <tr>\n",
              "      <th>3</th>\n",
              "      <td>4.7</td>\n",
              "      <td>86,990</td>\n",
              "      <td>APPLE 2020 Macbook Air M1</td>\n",
              "      <td>(8 GB/256 GB SSD/Mac OS Big Sur) MGN63HN/A</td>\n",
              "    </tr>\n",
              "    <tr>\n",
              "      <th>4</th>\n",
              "      <td>4.3</td>\n",
              "      <td>33,990</td>\n",
              "      <td>ASUS VivoBook 15 (2022) Core i3 10th Gen</td>\n",
              "      <td>(8 GB/512 GB SSD/Windows 11 Home) X515JA-EJ36...</td>\n",
              "    </tr>\n",
              "  </tbody>\n",
              "</table>\n",
              "</div>"
            ],
            "text/plain": [
              "  rating   price                                      model  \\\n",
              "0    4.2  59,999             HP 15s Intel Core i5 12th Gen    \n",
              "1    4.2  37,990             HP 14s Intel Core i3 11th Gen    \n",
              "2    4.4  49,990      ASUS TUF Gaming F15 Core i5 10th Gen    \n",
              "3    4.7  86,990                 APPLE 2020 Macbook Air M1    \n",
              "4    4.3  33,990  ASUS VivoBook 15 (2022) Core i3 10th Gen    \n",
              "\n",
              "                                                spec  \n",
              "0   (8 GB/512 GB SSD/Windows 11 Home) 15s-fq5111T...  \n",
              "1   (8 GB/256 GB SSD/Windows 11 Home) 14s - dy250...  \n",
              "2   (8 GB/512 GB SSD/Windows 11 Home/4 GB Graphic...  \n",
              "3         (8 GB/256 GB SSD/Mac OS Big Sur) MGN63HN/A  \n",
              "4   (8 GB/512 GB SSD/Windows 11 Home) X515JA-EJ36...  "
            ]
          },
          "execution_count": 98,
          "metadata": {},
          "output_type": "execute_result"
        }
      ],
      "source": [
        "laptop_df['model'], laptop_df['spec'] = laptop_df['title'].str.split('-', 1).str\n",
        "del laptop_df['title']\n",
        "laptop_df.head()\n",
        "#practica"
      ]
    },
    {
      "cell_type": "markdown",
      "id": "bc468605",
      "metadata": {
        "id": "bc468605"
      },
      "source": [
        "Usamos esta opción dividida (split \"-\") para separar del título y crear una columna separada como modelo y especificación y eliminar el título"
      ]
    },
    {
      "cell_type": "code",
      "source": [
        "laptop_df['model'], laptop_df['spec'] = laptop_df['title'].str.split('-', 1).str\n",
        "del laptop_df['title']\n",
        "laptop_df.head()\n",
        "#codigo"
      ],
      "metadata": {
        "colab": {
          "base_uri": "https://localhost:8080/",
          "height": 241
        },
        "id": "_51oqyfdsxQ_",
        "outputId": "cc8feba8-02e7-41f3-ef1f-31a4f6b30e1f"
      },
      "id": "_51oqyfdsxQ_",
      "execution_count": null,
      "outputs": [
        {
          "output_type": "stream",
          "name": "stderr",
          "text": [
            "<ipython-input-70-b1d94d5b63a7>:1: FutureWarning: Columnar iteration over characters will be deprecated in future releases.\n",
            "  laptop_df['model'], laptop_df['spec'] = laptop_df['title'].str.split('-', 1).str\n"
          ]
        },
        {
          "output_type": "execute_result",
          "data": {
            "text/plain": [
              "    price rating                                      model  \\\n",
              "0  21,800    3.8                HP intel Celeron Dual Core    \n",
              "1  39,900    4.2             HP 14s Intel Core i3 11th Gen    \n",
              "2  49,990    4.4      ASUS TUF Gaming F15 Core i5 10th Gen    \n",
              "3  32,990    4.3  ASUS VivoBook 15 (2022) Core i3 10th Gen    \n",
              "4  35,490    4.2             HP 14s Intel Core i3 11th Gen    \n",
              "\n",
              "                                                spec  \n",
              "0   (4 GB/64 GB EMMC Storage/Chrome OS) 14a- na10...  \n",
              "1   (8 GB/512 GB SSD/Windows 11 Home) 14s - dy250...  \n",
              "2   (8 GB/512 GB SSD/Windows 11 Home/4 GB Graphic...  \n",
              "3   (8 GB/512 GB SSD/Windows 11 Home) X515JA-EJ36...  \n",
              "4   (8 GB/256 GB SSD/Windows 11 Home) 14s - dy250...  "
            ],
            "text/html": [
              "\n",
              "  <div id=\"df-c14a1fcb-22b9-4a5b-ba9d-5e7f3a7bb258\">\n",
              "    <div class=\"colab-df-container\">\n",
              "      <div>\n",
              "<style scoped>\n",
              "    .dataframe tbody tr th:only-of-type {\n",
              "        vertical-align: middle;\n",
              "    }\n",
              "\n",
              "    .dataframe tbody tr th {\n",
              "        vertical-align: top;\n",
              "    }\n",
              "\n",
              "    .dataframe thead th {\n",
              "        text-align: right;\n",
              "    }\n",
              "</style>\n",
              "<table border=\"1\" class=\"dataframe\">\n",
              "  <thead>\n",
              "    <tr style=\"text-align: right;\">\n",
              "      <th></th>\n",
              "      <th>price</th>\n",
              "      <th>rating</th>\n",
              "      <th>model</th>\n",
              "      <th>spec</th>\n",
              "    </tr>\n",
              "  </thead>\n",
              "  <tbody>\n",
              "    <tr>\n",
              "      <th>0</th>\n",
              "      <td>21,800</td>\n",
              "      <td>3.8</td>\n",
              "      <td>HP intel Celeron Dual Core</td>\n",
              "      <td>(4 GB/64 GB EMMC Storage/Chrome OS) 14a- na10...</td>\n",
              "    </tr>\n",
              "    <tr>\n",
              "      <th>1</th>\n",
              "      <td>39,900</td>\n",
              "      <td>4.2</td>\n",
              "      <td>HP 14s Intel Core i3 11th Gen</td>\n",
              "      <td>(8 GB/512 GB SSD/Windows 11 Home) 14s - dy250...</td>\n",
              "    </tr>\n",
              "    <tr>\n",
              "      <th>2</th>\n",
              "      <td>49,990</td>\n",
              "      <td>4.4</td>\n",
              "      <td>ASUS TUF Gaming F15 Core i5 10th Gen</td>\n",
              "      <td>(8 GB/512 GB SSD/Windows 11 Home/4 GB Graphic...</td>\n",
              "    </tr>\n",
              "    <tr>\n",
              "      <th>3</th>\n",
              "      <td>32,990</td>\n",
              "      <td>4.3</td>\n",
              "      <td>ASUS VivoBook 15 (2022) Core i3 10th Gen</td>\n",
              "      <td>(8 GB/512 GB SSD/Windows 11 Home) X515JA-EJ36...</td>\n",
              "    </tr>\n",
              "    <tr>\n",
              "      <th>4</th>\n",
              "      <td>35,490</td>\n",
              "      <td>4.2</td>\n",
              "      <td>HP 14s Intel Core i3 11th Gen</td>\n",
              "      <td>(8 GB/256 GB SSD/Windows 11 Home) 14s - dy250...</td>\n",
              "    </tr>\n",
              "  </tbody>\n",
              "</table>\n",
              "</div>\n",
              "      <button class=\"colab-df-convert\" onclick=\"convertToInteractive('df-c14a1fcb-22b9-4a5b-ba9d-5e7f3a7bb258')\"\n",
              "              title=\"Convert this dataframe to an interactive table.\"\n",
              "              style=\"display:none;\">\n",
              "        \n",
              "  <svg xmlns=\"http://www.w3.org/2000/svg\" height=\"24px\"viewBox=\"0 0 24 24\"\n",
              "       width=\"24px\">\n",
              "    <path d=\"M0 0h24v24H0V0z\" fill=\"none\"/>\n",
              "    <path d=\"M18.56 5.44l.94 2.06.94-2.06 2.06-.94-2.06-.94-.94-2.06-.94 2.06-2.06.94zm-11 1L8.5 8.5l.94-2.06 2.06-.94-2.06-.94L8.5 2.5l-.94 2.06-2.06.94zm10 10l.94 2.06.94-2.06 2.06-.94-2.06-.94-.94-2.06-.94 2.06-2.06.94z\"/><path d=\"M17.41 7.96l-1.37-1.37c-.4-.4-.92-.59-1.43-.59-.52 0-1.04.2-1.43.59L10.3 9.45l-7.72 7.72c-.78.78-.78 2.05 0 2.83L4 21.41c.39.39.9.59 1.41.59.51 0 1.02-.2 1.41-.59l7.78-7.78 2.81-2.81c.8-.78.8-2.07 0-2.86zM5.41 20L4 18.59l7.72-7.72 1.47 1.35L5.41 20z\"/>\n",
              "  </svg>\n",
              "      </button>\n",
              "      \n",
              "  <style>\n",
              "    .colab-df-container {\n",
              "      display:flex;\n",
              "      flex-wrap:wrap;\n",
              "      gap: 12px;\n",
              "    }\n",
              "\n",
              "    .colab-df-convert {\n",
              "      background-color: #E8F0FE;\n",
              "      border: none;\n",
              "      border-radius: 50%;\n",
              "      cursor: pointer;\n",
              "      display: none;\n",
              "      fill: #1967D2;\n",
              "      height: 32px;\n",
              "      padding: 0 0 0 0;\n",
              "      width: 32px;\n",
              "    }\n",
              "\n",
              "    .colab-df-convert:hover {\n",
              "      background-color: #E2EBFA;\n",
              "      box-shadow: 0px 1px 2px rgba(60, 64, 67, 0.3), 0px 1px 3px 1px rgba(60, 64, 67, 0.15);\n",
              "      fill: #174EA6;\n",
              "    }\n",
              "\n",
              "    [theme=dark] .colab-df-convert {\n",
              "      background-color: #3B4455;\n",
              "      fill: #D2E3FC;\n",
              "    }\n",
              "\n",
              "    [theme=dark] .colab-df-convert:hover {\n",
              "      background-color: #434B5C;\n",
              "      box-shadow: 0px 1px 3px 1px rgba(0, 0, 0, 0.15);\n",
              "      filter: drop-shadow(0px 1px 2px rgba(0, 0, 0, 0.3));\n",
              "      fill: #FFFFFF;\n",
              "    }\n",
              "  </style>\n",
              "\n",
              "      <script>\n",
              "        const buttonEl =\n",
              "          document.querySelector('#df-c14a1fcb-22b9-4a5b-ba9d-5e7f3a7bb258 button.colab-df-convert');\n",
              "        buttonEl.style.display =\n",
              "          google.colab.kernel.accessAllowed ? 'block' : 'none';\n",
              "\n",
              "        async function convertToInteractive(key) {\n",
              "          const element = document.querySelector('#df-c14a1fcb-22b9-4a5b-ba9d-5e7f3a7bb258');\n",
              "          const dataTable =\n",
              "            await google.colab.kernel.invokeFunction('convertToInteractive',\n",
              "                                                     [key], {});\n",
              "          if (!dataTable) return;\n",
              "\n",
              "          const docLinkHtml = 'Like what you see? Visit the ' +\n",
              "            '<a target=\"_blank\" href=https://colab.research.google.com/notebooks/data_table.ipynb>data table notebook</a>'\n",
              "            + ' to learn more about interactive tables.';\n",
              "          element.innerHTML = '';\n",
              "          dataTable['output_type'] = 'display_data';\n",
              "          await google.colab.output.renderOutput(dataTable, element);\n",
              "          const docLink = document.createElement('div');\n",
              "          docLink.innerHTML = docLinkHtml;\n",
              "          element.appendChild(docLink);\n",
              "        }\n",
              "      </script>\n",
              "    </div>\n",
              "  </div>\n",
              "  "
            ]
          },
          "metadata": {},
          "execution_count": 70
        }
      ]
    },
    {
      "cell_type": "code",
      "execution_count": null,
      "id": "5aa3456e",
      "metadata": {
        "id": "5aa3456e",
        "outputId": "1042f272-afc6-40c1-fff6-2b08b719228f"
      },
      "outputs": [
        {
          "name": "stderr",
          "output_type": "stream",
          "text": [
            "C:\\Users\\beyon\\AppData\\Local\\Temp\\ipykernel_16568\\1151749628.py:1: FutureWarning: Columnar iteration over characters will be deprecated in future releases.\n",
            "  laptop_df['RAM'], laptop_df['HDD'] = laptop_df['spec'].str.split('(', 1).str\n"
          ]
        },
        {
          "data": {
            "text/html": [
              "<div>\n",
              "<style scoped>\n",
              "    .dataframe tbody tr th:only-of-type {\n",
              "        vertical-align: middle;\n",
              "    }\n",
              "\n",
              "    .dataframe tbody tr th {\n",
              "        vertical-align: top;\n",
              "    }\n",
              "\n",
              "    .dataframe thead th {\n",
              "        text-align: right;\n",
              "    }\n",
              "</style>\n",
              "<table border=\"1\" class=\"dataframe\">\n",
              "  <thead>\n",
              "    <tr style=\"text-align: right;\">\n",
              "      <th></th>\n",
              "      <th>rating</th>\n",
              "      <th>price</th>\n",
              "      <th>model</th>\n",
              "      <th>RAM</th>\n",
              "      <th>HDD</th>\n",
              "    </tr>\n",
              "  </thead>\n",
              "  <tbody>\n",
              "    <tr>\n",
              "      <th>0</th>\n",
              "      <td>4.2</td>\n",
              "      <td>59,999</td>\n",
              "      <td>HP 15s Intel Core i5 12th Gen</td>\n",
              "      <td></td>\n",
              "      <td>8 GB/512 GB SSD/Windows 11 Home) 15s-fq5111TU ...</td>\n",
              "    </tr>\n",
              "    <tr>\n",
              "      <th>1</th>\n",
              "      <td>4.2</td>\n",
              "      <td>37,990</td>\n",
              "      <td>HP 14s Intel Core i3 11th Gen</td>\n",
              "      <td></td>\n",
              "      <td>8 GB/256 GB SSD/Windows 11 Home) 14s - dy2507T...</td>\n",
              "    </tr>\n",
              "    <tr>\n",
              "      <th>2</th>\n",
              "      <td>4.4</td>\n",
              "      <td>49,990</td>\n",
              "      <td>ASUS TUF Gaming F15 Core i5 10th Gen</td>\n",
              "      <td></td>\n",
              "      <td>8 GB/512 GB SSD/Windows 11 Home/4 GB Graphics/...</td>\n",
              "    </tr>\n",
              "    <tr>\n",
              "      <th>3</th>\n",
              "      <td>4.7</td>\n",
              "      <td>86,990</td>\n",
              "      <td>APPLE 2020 Macbook Air M1</td>\n",
              "      <td></td>\n",
              "      <td>8 GB/256 GB SSD/Mac OS Big Sur) MGN63HN/A</td>\n",
              "    </tr>\n",
              "    <tr>\n",
              "      <th>4</th>\n",
              "      <td>4.3</td>\n",
              "      <td>33,990</td>\n",
              "      <td>ASUS VivoBook 15 (2022) Core i3 10th Gen</td>\n",
              "      <td></td>\n",
              "      <td>8 GB/512 GB SSD/Windows 11 Home) X515JA-EJ362W...</td>\n",
              "    </tr>\n",
              "  </tbody>\n",
              "</table>\n",
              "</div>"
            ],
            "text/plain": [
              "  rating   price                                      model RAM  \\\n",
              "0    4.2  59,999             HP 15s Intel Core i5 12th Gen        \n",
              "1    4.2  37,990             HP 14s Intel Core i3 11th Gen        \n",
              "2    4.4  49,990      ASUS TUF Gaming F15 Core i5 10th Gen        \n",
              "3    4.7  86,990                 APPLE 2020 Macbook Air M1        \n",
              "4    4.3  33,990  ASUS VivoBook 15 (2022) Core i3 10th Gen        \n",
              "\n",
              "                                                 HDD  \n",
              "0  8 GB/512 GB SSD/Windows 11 Home) 15s-fq5111TU ...  \n",
              "1  8 GB/256 GB SSD/Windows 11 Home) 14s - dy2507T...  \n",
              "2  8 GB/512 GB SSD/Windows 11 Home/4 GB Graphics/...  \n",
              "3          8 GB/256 GB SSD/Mac OS Big Sur) MGN63HN/A  \n",
              "4  8 GB/512 GB SSD/Windows 11 Home) X515JA-EJ362W...  "
            ]
          },
          "execution_count": 99,
          "metadata": {},
          "output_type": "execute_result"
        }
      ],
      "source": [
        "#<COMPLETA> sacamos columna nueva llamada RAM"
      ]
    },
    {
      "cell_type": "code",
      "source": [
        "laptop_df['RAM'], laptop_df['specs'] = laptop_df['spec'].str.split('(', 1).str\n",
        "del laptop_df['spec']\n",
        "laptop_df.head()"
      ],
      "metadata": {
        "colab": {
          "base_uri": "https://localhost:8080/",
          "height": 241
        },
        "id": "Euef2EoA9djs",
        "outputId": "dfee7b98-f8d1-454a-87af-05879dd0af9e"
      },
      "id": "Euef2EoA9djs",
      "execution_count": null,
      "outputs": [
        {
          "output_type": "stream",
          "name": "stderr",
          "text": [
            "<ipython-input-71-44f07eb9f0ac>:1: FutureWarning: Columnar iteration over characters will be deprecated in future releases.\n",
            "  laptop_df['RAM'], laptop_df['specs'] = laptop_df['spec'].str.split('(', 1).str\n"
          ]
        },
        {
          "output_type": "execute_result",
          "data": {
            "text/plain": [
              "    price rating                                      model RAM  \\\n",
              "0  21,800    3.8                HP intel Celeron Dual Core        \n",
              "1  39,900    4.2             HP 14s Intel Core i3 11th Gen        \n",
              "2  49,990    4.4      ASUS TUF Gaming F15 Core i5 10th Gen        \n",
              "3  32,990    4.3  ASUS VivoBook 15 (2022) Core i3 10th Gen        \n",
              "4  35,490    4.2             HP 14s Intel Core i3 11th Gen        \n",
              "\n",
              "                                               specs  \n",
              "0  4 GB/64 GB EMMC Storage/Chrome OS) 14a- na1004...  \n",
              "1  8 GB/512 GB SSD/Windows 11 Home) 14s - dy2508T...  \n",
              "2  8 GB/512 GB SSD/Windows 11 Home/4 GB Graphics/...  \n",
              "3  8 GB/512 GB SSD/Windows 11 Home) X515JA-EJ362W...  \n",
              "4  8 GB/256 GB SSD/Windows 11 Home) 14s - dy2507T...  "
            ],
            "text/html": [
              "\n",
              "  <div id=\"df-b960be0e-859a-4bc1-87d9-009996d5ae94\">\n",
              "    <div class=\"colab-df-container\">\n",
              "      <div>\n",
              "<style scoped>\n",
              "    .dataframe tbody tr th:only-of-type {\n",
              "        vertical-align: middle;\n",
              "    }\n",
              "\n",
              "    .dataframe tbody tr th {\n",
              "        vertical-align: top;\n",
              "    }\n",
              "\n",
              "    .dataframe thead th {\n",
              "        text-align: right;\n",
              "    }\n",
              "</style>\n",
              "<table border=\"1\" class=\"dataframe\">\n",
              "  <thead>\n",
              "    <tr style=\"text-align: right;\">\n",
              "      <th></th>\n",
              "      <th>price</th>\n",
              "      <th>rating</th>\n",
              "      <th>model</th>\n",
              "      <th>RAM</th>\n",
              "      <th>specs</th>\n",
              "    </tr>\n",
              "  </thead>\n",
              "  <tbody>\n",
              "    <tr>\n",
              "      <th>0</th>\n",
              "      <td>21,800</td>\n",
              "      <td>3.8</td>\n",
              "      <td>HP intel Celeron Dual Core</td>\n",
              "      <td></td>\n",
              "      <td>4 GB/64 GB EMMC Storage/Chrome OS) 14a- na1004...</td>\n",
              "    </tr>\n",
              "    <tr>\n",
              "      <th>1</th>\n",
              "      <td>39,900</td>\n",
              "      <td>4.2</td>\n",
              "      <td>HP 14s Intel Core i3 11th Gen</td>\n",
              "      <td></td>\n",
              "      <td>8 GB/512 GB SSD/Windows 11 Home) 14s - dy2508T...</td>\n",
              "    </tr>\n",
              "    <tr>\n",
              "      <th>2</th>\n",
              "      <td>49,990</td>\n",
              "      <td>4.4</td>\n",
              "      <td>ASUS TUF Gaming F15 Core i5 10th Gen</td>\n",
              "      <td></td>\n",
              "      <td>8 GB/512 GB SSD/Windows 11 Home/4 GB Graphics/...</td>\n",
              "    </tr>\n",
              "    <tr>\n",
              "      <th>3</th>\n",
              "      <td>32,990</td>\n",
              "      <td>4.3</td>\n",
              "      <td>ASUS VivoBook 15 (2022) Core i3 10th Gen</td>\n",
              "      <td></td>\n",
              "      <td>8 GB/512 GB SSD/Windows 11 Home) X515JA-EJ362W...</td>\n",
              "    </tr>\n",
              "    <tr>\n",
              "      <th>4</th>\n",
              "      <td>35,490</td>\n",
              "      <td>4.2</td>\n",
              "      <td>HP 14s Intel Core i3 11th Gen</td>\n",
              "      <td></td>\n",
              "      <td>8 GB/256 GB SSD/Windows 11 Home) 14s - dy2507T...</td>\n",
              "    </tr>\n",
              "  </tbody>\n",
              "</table>\n",
              "</div>\n",
              "      <button class=\"colab-df-convert\" onclick=\"convertToInteractive('df-b960be0e-859a-4bc1-87d9-009996d5ae94')\"\n",
              "              title=\"Convert this dataframe to an interactive table.\"\n",
              "              style=\"display:none;\">\n",
              "        \n",
              "  <svg xmlns=\"http://www.w3.org/2000/svg\" height=\"24px\"viewBox=\"0 0 24 24\"\n",
              "       width=\"24px\">\n",
              "    <path d=\"M0 0h24v24H0V0z\" fill=\"none\"/>\n",
              "    <path d=\"M18.56 5.44l.94 2.06.94-2.06 2.06-.94-2.06-.94-.94-2.06-.94 2.06-2.06.94zm-11 1L8.5 8.5l.94-2.06 2.06-.94-2.06-.94L8.5 2.5l-.94 2.06-2.06.94zm10 10l.94 2.06.94-2.06 2.06-.94-2.06-.94-.94-2.06-.94 2.06-2.06.94z\"/><path d=\"M17.41 7.96l-1.37-1.37c-.4-.4-.92-.59-1.43-.59-.52 0-1.04.2-1.43.59L10.3 9.45l-7.72 7.72c-.78.78-.78 2.05 0 2.83L4 21.41c.39.39.9.59 1.41.59.51 0 1.02-.2 1.41-.59l7.78-7.78 2.81-2.81c.8-.78.8-2.07 0-2.86zM5.41 20L4 18.59l7.72-7.72 1.47 1.35L5.41 20z\"/>\n",
              "  </svg>\n",
              "      </button>\n",
              "      \n",
              "  <style>\n",
              "    .colab-df-container {\n",
              "      display:flex;\n",
              "      flex-wrap:wrap;\n",
              "      gap: 12px;\n",
              "    }\n",
              "\n",
              "    .colab-df-convert {\n",
              "      background-color: #E8F0FE;\n",
              "      border: none;\n",
              "      border-radius: 50%;\n",
              "      cursor: pointer;\n",
              "      display: none;\n",
              "      fill: #1967D2;\n",
              "      height: 32px;\n",
              "      padding: 0 0 0 0;\n",
              "      width: 32px;\n",
              "    }\n",
              "\n",
              "    .colab-df-convert:hover {\n",
              "      background-color: #E2EBFA;\n",
              "      box-shadow: 0px 1px 2px rgba(60, 64, 67, 0.3), 0px 1px 3px 1px rgba(60, 64, 67, 0.15);\n",
              "      fill: #174EA6;\n",
              "    }\n",
              "\n",
              "    [theme=dark] .colab-df-convert {\n",
              "      background-color: #3B4455;\n",
              "      fill: #D2E3FC;\n",
              "    }\n",
              "\n",
              "    [theme=dark] .colab-df-convert:hover {\n",
              "      background-color: #434B5C;\n",
              "      box-shadow: 0px 1px 3px 1px rgba(0, 0, 0, 0.15);\n",
              "      filter: drop-shadow(0px 1px 2px rgba(0, 0, 0, 0.3));\n",
              "      fill: #FFFFFF;\n",
              "    }\n",
              "  </style>\n",
              "\n",
              "      <script>\n",
              "        const buttonEl =\n",
              "          document.querySelector('#df-b960be0e-859a-4bc1-87d9-009996d5ae94 button.colab-df-convert');\n",
              "        buttonEl.style.display =\n",
              "          google.colab.kernel.accessAllowed ? 'block' : 'none';\n",
              "\n",
              "        async function convertToInteractive(key) {\n",
              "          const element = document.querySelector('#df-b960be0e-859a-4bc1-87d9-009996d5ae94');\n",
              "          const dataTable =\n",
              "            await google.colab.kernel.invokeFunction('convertToInteractive',\n",
              "                                                     [key], {});\n",
              "          if (!dataTable) return;\n",
              "\n",
              "          const docLinkHtml = 'Like what you see? Visit the ' +\n",
              "            '<a target=\"_blank\" href=https://colab.research.google.com/notebooks/data_table.ipynb>data table notebook</a>'\n",
              "            + ' to learn more about interactive tables.';\n",
              "          element.innerHTML = '';\n",
              "          dataTable['output_type'] = 'display_data';\n",
              "          await google.colab.output.renderOutput(dataTable, element);\n",
              "          const docLink = document.createElement('div');\n",
              "          docLink.innerHTML = docLinkHtml;\n",
              "          element.appendChild(docLink);\n",
              "        }\n",
              "      </script>\n",
              "    </div>\n",
              "  </div>\n",
              "  "
            ]
          },
          "metadata": {},
          "execution_count": 71
        }
      ]
    },
    {
      "cell_type": "code",
      "execution_count": null,
      "id": "7b339353",
      "metadata": {
        "id": "7b339353",
        "outputId": "a13216f4-2e4f-44ec-b8dd-b81baf5fae1a"
      },
      "outputs": [
        {
          "name": "stderr",
          "output_type": "stream",
          "text": [
            "C:\\Users\\beyon\\AppData\\Local\\Temp\\ipykernel_16568\\4028741044.py:1: FutureWarning: Columnar iteration over characters will be deprecated in future releases.\n",
            "  laptop_df['RAM'], laptop_df['Hard disk'] = laptop_df['HDD'].str.split('/', 1).str\n"
          ]
        },
        {
          "data": {
            "text/html": [
              "<div>\n",
              "<style scoped>\n",
              "    .dataframe tbody tr th:only-of-type {\n",
              "        vertical-align: middle;\n",
              "    }\n",
              "\n",
              "    .dataframe tbody tr th {\n",
              "        vertical-align: top;\n",
              "    }\n",
              "\n",
              "    .dataframe thead th {\n",
              "        text-align: right;\n",
              "    }\n",
              "</style>\n",
              "<table border=\"1\" class=\"dataframe\">\n",
              "  <thead>\n",
              "    <tr style=\"text-align: right;\">\n",
              "      <th></th>\n",
              "      <th>rating</th>\n",
              "      <th>price</th>\n",
              "      <th>model</th>\n",
              "      <th>RAM</th>\n",
              "      <th>Hard disk</th>\n",
              "    </tr>\n",
              "  </thead>\n",
              "  <tbody>\n",
              "    <tr>\n",
              "      <th>0</th>\n",
              "      <td>4.2</td>\n",
              "      <td>59,999</td>\n",
              "      <td>HP 15s Intel Core i5 12th Gen</td>\n",
              "      <td>8 GB</td>\n",
              "      <td>512 GB SSD/Windows 11 Home) 15s-fq5111TU Thin ...</td>\n",
              "    </tr>\n",
              "    <tr>\n",
              "      <th>1</th>\n",
              "      <td>4.2</td>\n",
              "      <td>37,990</td>\n",
              "      <td>HP 14s Intel Core i3 11th Gen</td>\n",
              "      <td>8 GB</td>\n",
              "      <td>256 GB SSD/Windows 11 Home) 14s - dy2507TU Thi...</td>\n",
              "    </tr>\n",
              "    <tr>\n",
              "      <th>2</th>\n",
              "      <td>4.4</td>\n",
              "      <td>49,990</td>\n",
              "      <td>ASUS TUF Gaming F15 Core i5 10th Gen</td>\n",
              "      <td>8 GB</td>\n",
              "      <td>512 GB SSD/Windows 11 Home/4 GB Graphics/NVIDI...</td>\n",
              "    </tr>\n",
              "    <tr>\n",
              "      <th>3</th>\n",
              "      <td>4.7</td>\n",
              "      <td>86,990</td>\n",
              "      <td>APPLE 2020 Macbook Air M1</td>\n",
              "      <td>8 GB</td>\n",
              "      <td>256 GB SSD/Mac OS Big Sur) MGN63HN/A</td>\n",
              "    </tr>\n",
              "    <tr>\n",
              "      <th>4</th>\n",
              "      <td>4.3</td>\n",
              "      <td>33,990</td>\n",
              "      <td>ASUS VivoBook 15 (2022) Core i3 10th Gen</td>\n",
              "      <td>8 GB</td>\n",
              "      <td>512 GB SSD/Windows 11 Home) X515JA-EJ362WS | X...</td>\n",
              "    </tr>\n",
              "  </tbody>\n",
              "</table>\n",
              "</div>"
            ],
            "text/plain": [
              "  rating   price                                      model   RAM  \\\n",
              "0    4.2  59,999             HP 15s Intel Core i5 12th Gen   8 GB   \n",
              "1    4.2  37,990             HP 14s Intel Core i3 11th Gen   8 GB   \n",
              "2    4.4  49,990      ASUS TUF Gaming F15 Core i5 10th Gen   8 GB   \n",
              "3    4.7  86,990                 APPLE 2020 Macbook Air M1   8 GB   \n",
              "4    4.3  33,990  ASUS VivoBook 15 (2022) Core i3 10th Gen   8 GB   \n",
              "\n",
              "                                           Hard disk  \n",
              "0  512 GB SSD/Windows 11 Home) 15s-fq5111TU Thin ...  \n",
              "1  256 GB SSD/Windows 11 Home) 14s - dy2507TU Thi...  \n",
              "2  512 GB SSD/Windows 11 Home/4 GB Graphics/NVIDI...  \n",
              "3               256 GB SSD/Mac OS Big Sur) MGN63HN/A  \n",
              "4  512 GB SSD/Windows 11 Home) X515JA-EJ362WS | X...  "
            ]
          },
          "execution_count": 100,
          "metadata": {},
          "output_type": "execute_result"
        }
      ],
      "source": [
        "#<COMPLETA>"
      ]
    },
    {
      "cell_type": "code",
      "source": [
        "laptop_df['RAM'], laptop_df['HDD'] = laptop_df['specs'].str.split('/', 1).str\n",
        "del laptop_df['specs']\n",
        "laptop_df.head()"
      ],
      "metadata": {
        "colab": {
          "base_uri": "https://localhost:8080/",
          "height": 241
        },
        "id": "9UKzmjAk9v5g",
        "outputId": "aaba3c85-aa6f-433c-9043-6f7a3e9cdd1f"
      },
      "id": "9UKzmjAk9v5g",
      "execution_count": null,
      "outputs": [
        {
          "output_type": "stream",
          "name": "stderr",
          "text": [
            "<ipython-input-72-8c6c78a12759>:1: FutureWarning: Columnar iteration over characters will be deprecated in future releases.\n",
            "  laptop_df['RAM'], laptop_df['HDD'] = laptop_df['specs'].str.split('/', 1).str\n"
          ]
        },
        {
          "output_type": "execute_result",
          "data": {
            "text/plain": [
              "    price rating                                      model   RAM  \\\n",
              "0  21,800    3.8                HP intel Celeron Dual Core   4 GB   \n",
              "1  39,900    4.2             HP 14s Intel Core i3 11th Gen   8 GB   \n",
              "2  49,990    4.4      ASUS TUF Gaming F15 Core i5 10th Gen   8 GB   \n",
              "3  32,990    4.3  ASUS VivoBook 15 (2022) Core i3 10th Gen   8 GB   \n",
              "4  35,490    4.2             HP 14s Intel Core i3 11th Gen   8 GB   \n",
              "\n",
              "                                                 HDD  \n",
              "0  64 GB EMMC Storage/Chrome OS) 14a- na1004TU Ch...  \n",
              "1  512 GB SSD/Windows 11 Home) 14s - dy2508TU Thi...  \n",
              "2  512 GB SSD/Windows 11 Home/4 GB Graphics/NVIDI...  \n",
              "3  512 GB SSD/Windows 11 Home) X515JA-EJ362WS | X...  \n",
              "4  256 GB SSD/Windows 11 Home) 14s - dy2507TU Thi...  "
            ],
            "text/html": [
              "\n",
              "  <div id=\"df-7295a7f3-07c3-418d-9817-50ece7d7d02b\">\n",
              "    <div class=\"colab-df-container\">\n",
              "      <div>\n",
              "<style scoped>\n",
              "    .dataframe tbody tr th:only-of-type {\n",
              "        vertical-align: middle;\n",
              "    }\n",
              "\n",
              "    .dataframe tbody tr th {\n",
              "        vertical-align: top;\n",
              "    }\n",
              "\n",
              "    .dataframe thead th {\n",
              "        text-align: right;\n",
              "    }\n",
              "</style>\n",
              "<table border=\"1\" class=\"dataframe\">\n",
              "  <thead>\n",
              "    <tr style=\"text-align: right;\">\n",
              "      <th></th>\n",
              "      <th>price</th>\n",
              "      <th>rating</th>\n",
              "      <th>model</th>\n",
              "      <th>RAM</th>\n",
              "      <th>HDD</th>\n",
              "    </tr>\n",
              "  </thead>\n",
              "  <tbody>\n",
              "    <tr>\n",
              "      <th>0</th>\n",
              "      <td>21,800</td>\n",
              "      <td>3.8</td>\n",
              "      <td>HP intel Celeron Dual Core</td>\n",
              "      <td>4 GB</td>\n",
              "      <td>64 GB EMMC Storage/Chrome OS) 14a- na1004TU Ch...</td>\n",
              "    </tr>\n",
              "    <tr>\n",
              "      <th>1</th>\n",
              "      <td>39,900</td>\n",
              "      <td>4.2</td>\n",
              "      <td>HP 14s Intel Core i3 11th Gen</td>\n",
              "      <td>8 GB</td>\n",
              "      <td>512 GB SSD/Windows 11 Home) 14s - dy2508TU Thi...</td>\n",
              "    </tr>\n",
              "    <tr>\n",
              "      <th>2</th>\n",
              "      <td>49,990</td>\n",
              "      <td>4.4</td>\n",
              "      <td>ASUS TUF Gaming F15 Core i5 10th Gen</td>\n",
              "      <td>8 GB</td>\n",
              "      <td>512 GB SSD/Windows 11 Home/4 GB Graphics/NVIDI...</td>\n",
              "    </tr>\n",
              "    <tr>\n",
              "      <th>3</th>\n",
              "      <td>32,990</td>\n",
              "      <td>4.3</td>\n",
              "      <td>ASUS VivoBook 15 (2022) Core i3 10th Gen</td>\n",
              "      <td>8 GB</td>\n",
              "      <td>512 GB SSD/Windows 11 Home) X515JA-EJ362WS | X...</td>\n",
              "    </tr>\n",
              "    <tr>\n",
              "      <th>4</th>\n",
              "      <td>35,490</td>\n",
              "      <td>4.2</td>\n",
              "      <td>HP 14s Intel Core i3 11th Gen</td>\n",
              "      <td>8 GB</td>\n",
              "      <td>256 GB SSD/Windows 11 Home) 14s - dy2507TU Thi...</td>\n",
              "    </tr>\n",
              "  </tbody>\n",
              "</table>\n",
              "</div>\n",
              "      <button class=\"colab-df-convert\" onclick=\"convertToInteractive('df-7295a7f3-07c3-418d-9817-50ece7d7d02b')\"\n",
              "              title=\"Convert this dataframe to an interactive table.\"\n",
              "              style=\"display:none;\">\n",
              "        \n",
              "  <svg xmlns=\"http://www.w3.org/2000/svg\" height=\"24px\"viewBox=\"0 0 24 24\"\n",
              "       width=\"24px\">\n",
              "    <path d=\"M0 0h24v24H0V0z\" fill=\"none\"/>\n",
              "    <path d=\"M18.56 5.44l.94 2.06.94-2.06 2.06-.94-2.06-.94-.94-2.06-.94 2.06-2.06.94zm-11 1L8.5 8.5l.94-2.06 2.06-.94-2.06-.94L8.5 2.5l-.94 2.06-2.06.94zm10 10l.94 2.06.94-2.06 2.06-.94-2.06-.94-.94-2.06-.94 2.06-2.06.94z\"/><path d=\"M17.41 7.96l-1.37-1.37c-.4-.4-.92-.59-1.43-.59-.52 0-1.04.2-1.43.59L10.3 9.45l-7.72 7.72c-.78.78-.78 2.05 0 2.83L4 21.41c.39.39.9.59 1.41.59.51 0 1.02-.2 1.41-.59l7.78-7.78 2.81-2.81c.8-.78.8-2.07 0-2.86zM5.41 20L4 18.59l7.72-7.72 1.47 1.35L5.41 20z\"/>\n",
              "  </svg>\n",
              "      </button>\n",
              "      \n",
              "  <style>\n",
              "    .colab-df-container {\n",
              "      display:flex;\n",
              "      flex-wrap:wrap;\n",
              "      gap: 12px;\n",
              "    }\n",
              "\n",
              "    .colab-df-convert {\n",
              "      background-color: #E8F0FE;\n",
              "      border: none;\n",
              "      border-radius: 50%;\n",
              "      cursor: pointer;\n",
              "      display: none;\n",
              "      fill: #1967D2;\n",
              "      height: 32px;\n",
              "      padding: 0 0 0 0;\n",
              "      width: 32px;\n",
              "    }\n",
              "\n",
              "    .colab-df-convert:hover {\n",
              "      background-color: #E2EBFA;\n",
              "      box-shadow: 0px 1px 2px rgba(60, 64, 67, 0.3), 0px 1px 3px 1px rgba(60, 64, 67, 0.15);\n",
              "      fill: #174EA6;\n",
              "    }\n",
              "\n",
              "    [theme=dark] .colab-df-convert {\n",
              "      background-color: #3B4455;\n",
              "      fill: #D2E3FC;\n",
              "    }\n",
              "\n",
              "    [theme=dark] .colab-df-convert:hover {\n",
              "      background-color: #434B5C;\n",
              "      box-shadow: 0px 1px 3px 1px rgba(0, 0, 0, 0.15);\n",
              "      filter: drop-shadow(0px 1px 2px rgba(0, 0, 0, 0.3));\n",
              "      fill: #FFFFFF;\n",
              "    }\n",
              "  </style>\n",
              "\n",
              "      <script>\n",
              "        const buttonEl =\n",
              "          document.querySelector('#df-7295a7f3-07c3-418d-9817-50ece7d7d02b button.colab-df-convert');\n",
              "        buttonEl.style.display =\n",
              "          google.colab.kernel.accessAllowed ? 'block' : 'none';\n",
              "\n",
              "        async function convertToInteractive(key) {\n",
              "          const element = document.querySelector('#df-7295a7f3-07c3-418d-9817-50ece7d7d02b');\n",
              "          const dataTable =\n",
              "            await google.colab.kernel.invokeFunction('convertToInteractive',\n",
              "                                                     [key], {});\n",
              "          if (!dataTable) return;\n",
              "\n",
              "          const docLinkHtml = 'Like what you see? Visit the ' +\n",
              "            '<a target=\"_blank\" href=https://colab.research.google.com/notebooks/data_table.ipynb>data table notebook</a>'\n",
              "            + ' to learn more about interactive tables.';\n",
              "          element.innerHTML = '';\n",
              "          dataTable['output_type'] = 'display_data';\n",
              "          await google.colab.output.renderOutput(dataTable, element);\n",
              "          const docLink = document.createElement('div');\n",
              "          docLink.innerHTML = docLinkHtml;\n",
              "          element.appendChild(docLink);\n",
              "        }\n",
              "      </script>\n",
              "    </div>\n",
              "  </div>\n",
              "  "
            ]
          },
          "metadata": {},
          "execution_count": 72
        }
      ]
    },
    {
      "cell_type": "markdown",
      "id": "f6850788",
      "metadata": {
        "id": "f6850788"
      },
      "source": [
        "Continuemos hasta conseguir lo siguiente..."
      ]
    },
    {
      "cell_type": "code",
      "source": [
        "laptop_df['Storage'], laptop_df['OS'] = laptop_df['HDD'].str.split('/', 1).str\n",
        "del laptop_df['HDD']\n",
        "laptop_df.head()"
      ],
      "metadata": {
        "colab": {
          "base_uri": "https://localhost:8080/",
          "height": 206
        },
        "id": "uFn_8ExS9_-j",
        "outputId": "8840abc7-0434-4d96-d4fa-076ac57e91f5"
      },
      "id": "uFn_8ExS9_-j",
      "execution_count": null,
      "outputs": [
        {
          "output_type": "execute_result",
          "data": {
            "text/plain": [
              "    price rating                                      model   RAM  \\\n",
              "0  21,800    3.8                HP intel Celeron Dual Core   4 GB   \n",
              "1  39,900    4.2             HP 14s Intel Core i3 11th Gen   8 GB   \n",
              "2  49,990    4.4      ASUS TUF Gaming F15 Core i5 10th Gen   8 GB   \n",
              "3  32,990    4.3  ASUS VivoBook 15 (2022) Core i3 10th Gen   8 GB   \n",
              "4  35,490    4.2             HP 14s Intel Core i3 11th Gen   8 GB   \n",
              "\n",
              "              Storage                                                 OS  \\\n",
              "0  64 GB EMMC Storage                                          Chrome OS   \n",
              "1          512 GB SSD                                    Windows 11 Home   \n",
              "2          512 GB SSD  Windows 11 Home/4 GB Graphics/NVIDIA GeForce G...   \n",
              "3          512 GB SSD                                    Windows 11 Home   \n",
              "4          256 GB SSD                                    Windows 11 Home   \n",
              "\n",
              "                                   Model  \n",
              "0               14a- na1004TU Chromebook  \n",
              "1   14s - dy2508TU Thin and Light Laptop  \n",
              "2                                    NaN  \n",
              "3           X515JA-EJ362WS | X515JA-E...  \n",
              "4   14s - dy2507TU Thin and Light Laptop  "
            ],
            "text/html": [
              "\n",
              "  <div id=\"df-c95b100f-2dfc-47a2-945f-52e17ba1e112\">\n",
              "    <div class=\"colab-df-container\">\n",
              "      <div>\n",
              "<style scoped>\n",
              "    .dataframe tbody tr th:only-of-type {\n",
              "        vertical-align: middle;\n",
              "    }\n",
              "\n",
              "    .dataframe tbody tr th {\n",
              "        vertical-align: top;\n",
              "    }\n",
              "\n",
              "    .dataframe thead th {\n",
              "        text-align: right;\n",
              "    }\n",
              "</style>\n",
              "<table border=\"1\" class=\"dataframe\">\n",
              "  <thead>\n",
              "    <tr style=\"text-align: right;\">\n",
              "      <th></th>\n",
              "      <th>price</th>\n",
              "      <th>rating</th>\n",
              "      <th>model</th>\n",
              "      <th>RAM</th>\n",
              "      <th>Storage</th>\n",
              "      <th>OS</th>\n",
              "      <th>Model</th>\n",
              "    </tr>\n",
              "  </thead>\n",
              "  <tbody>\n",
              "    <tr>\n",
              "      <th>0</th>\n",
              "      <td>21,800</td>\n",
              "      <td>3.8</td>\n",
              "      <td>HP intel Celeron Dual Core</td>\n",
              "      <td>4 GB</td>\n",
              "      <td>64 GB EMMC Storage</td>\n",
              "      <td>Chrome OS</td>\n",
              "      <td>14a- na1004TU Chromebook</td>\n",
              "    </tr>\n",
              "    <tr>\n",
              "      <th>1</th>\n",
              "      <td>39,900</td>\n",
              "      <td>4.2</td>\n",
              "      <td>HP 14s Intel Core i3 11th Gen</td>\n",
              "      <td>8 GB</td>\n",
              "      <td>512 GB SSD</td>\n",
              "      <td>Windows 11 Home</td>\n",
              "      <td>14s - dy2508TU Thin and Light Laptop</td>\n",
              "    </tr>\n",
              "    <tr>\n",
              "      <th>2</th>\n",
              "      <td>49,990</td>\n",
              "      <td>4.4</td>\n",
              "      <td>ASUS TUF Gaming F15 Core i5 10th Gen</td>\n",
              "      <td>8 GB</td>\n",
              "      <td>512 GB SSD</td>\n",
              "      <td>Windows 11 Home/4 GB Graphics/NVIDIA GeForce G...</td>\n",
              "      <td>NaN</td>\n",
              "    </tr>\n",
              "    <tr>\n",
              "      <th>3</th>\n",
              "      <td>32,990</td>\n",
              "      <td>4.3</td>\n",
              "      <td>ASUS VivoBook 15 (2022) Core i3 10th Gen</td>\n",
              "      <td>8 GB</td>\n",
              "      <td>512 GB SSD</td>\n",
              "      <td>Windows 11 Home</td>\n",
              "      <td>X515JA-EJ362WS | X515JA-E...</td>\n",
              "    </tr>\n",
              "    <tr>\n",
              "      <th>4</th>\n",
              "      <td>35,490</td>\n",
              "      <td>4.2</td>\n",
              "      <td>HP 14s Intel Core i3 11th Gen</td>\n",
              "      <td>8 GB</td>\n",
              "      <td>256 GB SSD</td>\n",
              "      <td>Windows 11 Home</td>\n",
              "      <td>14s - dy2507TU Thin and Light Laptop</td>\n",
              "    </tr>\n",
              "  </tbody>\n",
              "</table>\n",
              "</div>\n",
              "      <button class=\"colab-df-convert\" onclick=\"convertToInteractive('df-c95b100f-2dfc-47a2-945f-52e17ba1e112')\"\n",
              "              title=\"Convert this dataframe to an interactive table.\"\n",
              "              style=\"display:none;\">\n",
              "        \n",
              "  <svg xmlns=\"http://www.w3.org/2000/svg\" height=\"24px\"viewBox=\"0 0 24 24\"\n",
              "       width=\"24px\">\n",
              "    <path d=\"M0 0h24v24H0V0z\" fill=\"none\"/>\n",
              "    <path d=\"M18.56 5.44l.94 2.06.94-2.06 2.06-.94-2.06-.94-.94-2.06-.94 2.06-2.06.94zm-11 1L8.5 8.5l.94-2.06 2.06-.94-2.06-.94L8.5 2.5l-.94 2.06-2.06.94zm10 10l.94 2.06.94-2.06 2.06-.94-2.06-.94-.94-2.06-.94 2.06-2.06.94z\"/><path d=\"M17.41 7.96l-1.37-1.37c-.4-.4-.92-.59-1.43-.59-.52 0-1.04.2-1.43.59L10.3 9.45l-7.72 7.72c-.78.78-.78 2.05 0 2.83L4 21.41c.39.39.9.59 1.41.59.51 0 1.02-.2 1.41-.59l7.78-7.78 2.81-2.81c.8-.78.8-2.07 0-2.86zM5.41 20L4 18.59l7.72-7.72 1.47 1.35L5.41 20z\"/>\n",
              "  </svg>\n",
              "      </button>\n",
              "      \n",
              "  <style>\n",
              "    .colab-df-container {\n",
              "      display:flex;\n",
              "      flex-wrap:wrap;\n",
              "      gap: 12px;\n",
              "    }\n",
              "\n",
              "    .colab-df-convert {\n",
              "      background-color: #E8F0FE;\n",
              "      border: none;\n",
              "      border-radius: 50%;\n",
              "      cursor: pointer;\n",
              "      display: none;\n",
              "      fill: #1967D2;\n",
              "      height: 32px;\n",
              "      padding: 0 0 0 0;\n",
              "      width: 32px;\n",
              "    }\n",
              "\n",
              "    .colab-df-convert:hover {\n",
              "      background-color: #E2EBFA;\n",
              "      box-shadow: 0px 1px 2px rgba(60, 64, 67, 0.3), 0px 1px 3px 1px rgba(60, 64, 67, 0.15);\n",
              "      fill: #174EA6;\n",
              "    }\n",
              "\n",
              "    [theme=dark] .colab-df-convert {\n",
              "      background-color: #3B4455;\n",
              "      fill: #D2E3FC;\n",
              "    }\n",
              "\n",
              "    [theme=dark] .colab-df-convert:hover {\n",
              "      background-color: #434B5C;\n",
              "      box-shadow: 0px 1px 3px 1px rgba(0, 0, 0, 0.15);\n",
              "      filter: drop-shadow(0px 1px 2px rgba(0, 0, 0, 0.3));\n",
              "      fill: #FFFFFF;\n",
              "    }\n",
              "  </style>\n",
              "\n",
              "      <script>\n",
              "        const buttonEl =\n",
              "          document.querySelector('#df-c95b100f-2dfc-47a2-945f-52e17ba1e112 button.colab-df-convert');\n",
              "        buttonEl.style.display =\n",
              "          google.colab.kernel.accessAllowed ? 'block' : 'none';\n",
              "\n",
              "        async function convertToInteractive(key) {\n",
              "          const element = document.querySelector('#df-c95b100f-2dfc-47a2-945f-52e17ba1e112');\n",
              "          const dataTable =\n",
              "            await google.colab.kernel.invokeFunction('convertToInteractive',\n",
              "                                                     [key], {});\n",
              "          if (!dataTable) return;\n",
              "\n",
              "          const docLinkHtml = 'Like what you see? Visit the ' +\n",
              "            '<a target=\"_blank\" href=https://colab.research.google.com/notebooks/data_table.ipynb>data table notebook</a>'\n",
              "            + ' to learn more about interactive tables.';\n",
              "          element.innerHTML = '';\n",
              "          dataTable['output_type'] = 'display_data';\n",
              "          await google.colab.output.renderOutput(dataTable, element);\n",
              "          const docLink = document.createElement('div');\n",
              "          docLink.innerHTML = docLinkHtml;\n",
              "          element.appendChild(docLink);\n",
              "        }\n",
              "      </script>\n",
              "    </div>\n",
              "  </div>\n",
              "  "
            ]
          },
          "metadata": {},
          "execution_count": 77
        }
      ]
    },
    {
      "cell_type": "code",
      "source": [
        "laptop_df.head()\n",
        "#laptop_df['Model']=laptop_df['Other_Info']"
      ],
      "metadata": {
        "colab": {
          "base_uri": "https://localhost:8080/",
          "height": 206
        },
        "id": "5FF9mJsQ-ro9",
        "outputId": "20a35614-b8b9-486e-83b5-033b2f4fb95d"
      },
      "id": "5FF9mJsQ-ro9",
      "execution_count": null,
      "outputs": [
        {
          "output_type": "execute_result",
          "data": {
            "text/plain": [
              "    price rating                                      model   RAM  \\\n",
              "0  21,800    3.8                HP intel Celeron Dual Core   4 GB   \n",
              "1  39,900    4.2             HP 14s Intel Core i3 11th Gen   8 GB   \n",
              "2  49,990    4.4      ASUS TUF Gaming F15 Core i5 10th Gen   8 GB   \n",
              "3  32,990    4.3  ASUS VivoBook 15 (2022) Core i3 10th Gen   8 GB   \n",
              "4  35,490    4.2             HP 14s Intel Core i3 11th Gen   8 GB   \n",
              "\n",
              "              Storage                                                 OS  \\\n",
              "0  64 GB EMMC Storage                                          Chrome OS   \n",
              "1          512 GB SSD                                    Windows 11 Home   \n",
              "2          512 GB SSD  Windows 11 Home/4 GB Graphics/NVIDIA GeForce G...   \n",
              "3          512 GB SSD                                    Windows 11 Home   \n",
              "4          256 GB SSD                                    Windows 11 Home   \n",
              "\n",
              "                                   Model  \n",
              "0               14a- na1004TU Chromebook  \n",
              "1   14s - dy2508TU Thin and Light Laptop  \n",
              "2                                    NaN  \n",
              "3           X515JA-EJ362WS | X515JA-E...  \n",
              "4   14s - dy2507TU Thin and Light Laptop  "
            ],
            "text/html": [
              "\n",
              "  <div id=\"df-42fc6632-32eb-41ac-ac79-7971c6fcad40\">\n",
              "    <div class=\"colab-df-container\">\n",
              "      <div>\n",
              "<style scoped>\n",
              "    .dataframe tbody tr th:only-of-type {\n",
              "        vertical-align: middle;\n",
              "    }\n",
              "\n",
              "    .dataframe tbody tr th {\n",
              "        vertical-align: top;\n",
              "    }\n",
              "\n",
              "    .dataframe thead th {\n",
              "        text-align: right;\n",
              "    }\n",
              "</style>\n",
              "<table border=\"1\" class=\"dataframe\">\n",
              "  <thead>\n",
              "    <tr style=\"text-align: right;\">\n",
              "      <th></th>\n",
              "      <th>price</th>\n",
              "      <th>rating</th>\n",
              "      <th>model</th>\n",
              "      <th>RAM</th>\n",
              "      <th>Storage</th>\n",
              "      <th>OS</th>\n",
              "      <th>Model</th>\n",
              "    </tr>\n",
              "  </thead>\n",
              "  <tbody>\n",
              "    <tr>\n",
              "      <th>0</th>\n",
              "      <td>21,800</td>\n",
              "      <td>3.8</td>\n",
              "      <td>HP intel Celeron Dual Core</td>\n",
              "      <td>4 GB</td>\n",
              "      <td>64 GB EMMC Storage</td>\n",
              "      <td>Chrome OS</td>\n",
              "      <td>14a- na1004TU Chromebook</td>\n",
              "    </tr>\n",
              "    <tr>\n",
              "      <th>1</th>\n",
              "      <td>39,900</td>\n",
              "      <td>4.2</td>\n",
              "      <td>HP 14s Intel Core i3 11th Gen</td>\n",
              "      <td>8 GB</td>\n",
              "      <td>512 GB SSD</td>\n",
              "      <td>Windows 11 Home</td>\n",
              "      <td>14s - dy2508TU Thin and Light Laptop</td>\n",
              "    </tr>\n",
              "    <tr>\n",
              "      <th>2</th>\n",
              "      <td>49,990</td>\n",
              "      <td>4.4</td>\n",
              "      <td>ASUS TUF Gaming F15 Core i5 10th Gen</td>\n",
              "      <td>8 GB</td>\n",
              "      <td>512 GB SSD</td>\n",
              "      <td>Windows 11 Home/4 GB Graphics/NVIDIA GeForce G...</td>\n",
              "      <td>NaN</td>\n",
              "    </tr>\n",
              "    <tr>\n",
              "      <th>3</th>\n",
              "      <td>32,990</td>\n",
              "      <td>4.3</td>\n",
              "      <td>ASUS VivoBook 15 (2022) Core i3 10th Gen</td>\n",
              "      <td>8 GB</td>\n",
              "      <td>512 GB SSD</td>\n",
              "      <td>Windows 11 Home</td>\n",
              "      <td>X515JA-EJ362WS | X515JA-E...</td>\n",
              "    </tr>\n",
              "    <tr>\n",
              "      <th>4</th>\n",
              "      <td>35,490</td>\n",
              "      <td>4.2</td>\n",
              "      <td>HP 14s Intel Core i3 11th Gen</td>\n",
              "      <td>8 GB</td>\n",
              "      <td>256 GB SSD</td>\n",
              "      <td>Windows 11 Home</td>\n",
              "      <td>14s - dy2507TU Thin and Light Laptop</td>\n",
              "    </tr>\n",
              "  </tbody>\n",
              "</table>\n",
              "</div>\n",
              "      <button class=\"colab-df-convert\" onclick=\"convertToInteractive('df-42fc6632-32eb-41ac-ac79-7971c6fcad40')\"\n",
              "              title=\"Convert this dataframe to an interactive table.\"\n",
              "              style=\"display:none;\">\n",
              "        \n",
              "  <svg xmlns=\"http://www.w3.org/2000/svg\" height=\"24px\"viewBox=\"0 0 24 24\"\n",
              "       width=\"24px\">\n",
              "    <path d=\"M0 0h24v24H0V0z\" fill=\"none\"/>\n",
              "    <path d=\"M18.56 5.44l.94 2.06.94-2.06 2.06-.94-2.06-.94-.94-2.06-.94 2.06-2.06.94zm-11 1L8.5 8.5l.94-2.06 2.06-.94-2.06-.94L8.5 2.5l-.94 2.06-2.06.94zm10 10l.94 2.06.94-2.06 2.06-.94-2.06-.94-.94-2.06-.94 2.06-2.06.94z\"/><path d=\"M17.41 7.96l-1.37-1.37c-.4-.4-.92-.59-1.43-.59-.52 0-1.04.2-1.43.59L10.3 9.45l-7.72 7.72c-.78.78-.78 2.05 0 2.83L4 21.41c.39.39.9.59 1.41.59.51 0 1.02-.2 1.41-.59l7.78-7.78 2.81-2.81c.8-.78.8-2.07 0-2.86zM5.41 20L4 18.59l7.72-7.72 1.47 1.35L5.41 20z\"/>\n",
              "  </svg>\n",
              "      </button>\n",
              "      \n",
              "  <style>\n",
              "    .colab-df-container {\n",
              "      display:flex;\n",
              "      flex-wrap:wrap;\n",
              "      gap: 12px;\n",
              "    }\n",
              "\n",
              "    .colab-df-convert {\n",
              "      background-color: #E8F0FE;\n",
              "      border: none;\n",
              "      border-radius: 50%;\n",
              "      cursor: pointer;\n",
              "      display: none;\n",
              "      fill: #1967D2;\n",
              "      height: 32px;\n",
              "      padding: 0 0 0 0;\n",
              "      width: 32px;\n",
              "    }\n",
              "\n",
              "    .colab-df-convert:hover {\n",
              "      background-color: #E2EBFA;\n",
              "      box-shadow: 0px 1px 2px rgba(60, 64, 67, 0.3), 0px 1px 3px 1px rgba(60, 64, 67, 0.15);\n",
              "      fill: #174EA6;\n",
              "    }\n",
              "\n",
              "    [theme=dark] .colab-df-convert {\n",
              "      background-color: #3B4455;\n",
              "      fill: #D2E3FC;\n",
              "    }\n",
              "\n",
              "    [theme=dark] .colab-df-convert:hover {\n",
              "      background-color: #434B5C;\n",
              "      box-shadow: 0px 1px 3px 1px rgba(0, 0, 0, 0.15);\n",
              "      filter: drop-shadow(0px 1px 2px rgba(0, 0, 0, 0.3));\n",
              "      fill: #FFFFFF;\n",
              "    }\n",
              "  </style>\n",
              "\n",
              "      <script>\n",
              "        const buttonEl =\n",
              "          document.querySelector('#df-42fc6632-32eb-41ac-ac79-7971c6fcad40 button.colab-df-convert');\n",
              "        buttonEl.style.display =\n",
              "          google.colab.kernel.accessAllowed ? 'block' : 'none';\n",
              "\n",
              "        async function convertToInteractive(key) {\n",
              "          const element = document.querySelector('#df-42fc6632-32eb-41ac-ac79-7971c6fcad40');\n",
              "          const dataTable =\n",
              "            await google.colab.kernel.invokeFunction('convertToInteractive',\n",
              "                                                     [key], {});\n",
              "          if (!dataTable) return;\n",
              "\n",
              "          const docLinkHtml = 'Like what you see? Visit the ' +\n",
              "            '<a target=\"_blank\" href=https://colab.research.google.com/notebooks/data_table.ipynb>data table notebook</a>'\n",
              "            + ' to learn more about interactive tables.';\n",
              "          element.innerHTML = '';\n",
              "          dataTable['output_type'] = 'display_data';\n",
              "          await google.colab.output.renderOutput(dataTable, element);\n",
              "          const docLink = document.createElement('div');\n",
              "          docLink.innerHTML = docLinkHtml;\n",
              "          element.appendChild(docLink);\n",
              "        }\n",
              "      </script>\n",
              "    </div>\n",
              "  </div>\n",
              "  "
            ]
          },
          "metadata": {},
          "execution_count": 82
        }
      ]
    },
    {
      "cell_type": "code",
      "execution_count": null,
      "id": "0428f08e",
      "metadata": {
        "id": "0428f08e",
        "outputId": "617ff0ba-2be3-4869-846c-cbc45dfc8eb6"
      },
      "outputs": [
        {
          "name": "stderr",
          "output_type": "stream",
          "text": [
            "C:\\Users\\beyon\\AppData\\Local\\Temp\\ipykernel_16568\\4099446987.py:1: FutureWarning: Columnar iteration over characters will be deprecated in future releases.\n",
            "  laptop_df['Storage'], laptop_df['OS'] = laptop_df['Hard disk'].str.split('/', 1).str\n"
          ]
        },
        {
          "data": {
            "text/html": [
              "<div>\n",
              "<style scoped>\n",
              "    .dataframe tbody tr th:only-of-type {\n",
              "        vertical-align: middle;\n",
              "    }\n",
              "\n",
              "    .dataframe tbody tr th {\n",
              "        vertical-align: top;\n",
              "    }\n",
              "\n",
              "    .dataframe thead th {\n",
              "        text-align: right;\n",
              "    }\n",
              "</style>\n",
              "<table border=\"1\" class=\"dataframe\">\n",
              "  <thead>\n",
              "    <tr style=\"text-align: right;\">\n",
              "      <th></th>\n",
              "      <th>rating</th>\n",
              "      <th>price</th>\n",
              "      <th>model</th>\n",
              "      <th>RAM</th>\n",
              "      <th>Storage</th>\n",
              "      <th>OS</th>\n",
              "    </tr>\n",
              "  </thead>\n",
              "  <tbody>\n",
              "    <tr>\n",
              "      <th>0</th>\n",
              "      <td>4.2</td>\n",
              "      <td>59,999</td>\n",
              "      <td>HP 15s Intel Core i5 12th Gen</td>\n",
              "      <td>8 GB</td>\n",
              "      <td>512 GB SSD</td>\n",
              "      <td>Windows 11 Home) 15s-fq5111TU Thin and Light L...</td>\n",
              "    </tr>\n",
              "    <tr>\n",
              "      <th>1</th>\n",
              "      <td>4.2</td>\n",
              "      <td>37,990</td>\n",
              "      <td>HP 14s Intel Core i3 11th Gen</td>\n",
              "      <td>8 GB</td>\n",
              "      <td>256 GB SSD</td>\n",
              "      <td>Windows 11 Home) 14s - dy2507TU Thin and Light...</td>\n",
              "    </tr>\n",
              "    <tr>\n",
              "      <th>2</th>\n",
              "      <td>4.4</td>\n",
              "      <td>49,990</td>\n",
              "      <td>ASUS TUF Gaming F15 Core i5 10th Gen</td>\n",
              "      <td>8 GB</td>\n",
              "      <td>512 GB SSD</td>\n",
              "      <td>Windows 11 Home/4 GB Graphics/NVIDIA GeForce G...</td>\n",
              "    </tr>\n",
              "    <tr>\n",
              "      <th>3</th>\n",
              "      <td>4.7</td>\n",
              "      <td>86,990</td>\n",
              "      <td>APPLE 2020 Macbook Air M1</td>\n",
              "      <td>8 GB</td>\n",
              "      <td>256 GB SSD</td>\n",
              "      <td>Mac OS Big Sur) MGN63HN/A</td>\n",
              "    </tr>\n",
              "    <tr>\n",
              "      <th>4</th>\n",
              "      <td>4.3</td>\n",
              "      <td>33,990</td>\n",
              "      <td>ASUS VivoBook 15 (2022) Core i3 10th Gen</td>\n",
              "      <td>8 GB</td>\n",
              "      <td>512 GB SSD</td>\n",
              "      <td>Windows 11 Home) X515JA-EJ362WS | X515JA-E...</td>\n",
              "    </tr>\n",
              "  </tbody>\n",
              "</table>\n",
              "</div>"
            ],
            "text/plain": [
              "  rating   price                                      model   RAM     Storage  \\\n",
              "0    4.2  59,999             HP 15s Intel Core i5 12th Gen   8 GB  512 GB SSD   \n",
              "1    4.2  37,990             HP 14s Intel Core i3 11th Gen   8 GB  256 GB SSD   \n",
              "2    4.4  49,990      ASUS TUF Gaming F15 Core i5 10th Gen   8 GB  512 GB SSD   \n",
              "3    4.7  86,990                 APPLE 2020 Macbook Air M1   8 GB  256 GB SSD   \n",
              "4    4.3  33,990  ASUS VivoBook 15 (2022) Core i3 10th Gen   8 GB  512 GB SSD   \n",
              "\n",
              "                                                  OS  \n",
              "0  Windows 11 Home) 15s-fq5111TU Thin and Light L...  \n",
              "1  Windows 11 Home) 14s - dy2507TU Thin and Light...  \n",
              "2  Windows 11 Home/4 GB Graphics/NVIDIA GeForce G...  \n",
              "3                          Mac OS Big Sur) MGN63HN/A  \n",
              "4      Windows 11 Home) X515JA-EJ362WS | X515JA-E...  "
            ]
          },
          "execution_count": 101,
          "metadata": {},
          "output_type": "execute_result"
        }
      ],
      "source": [
        "#<COMPLETA>"
      ]
    },
    {
      "cell_type": "code",
      "execution_count": null,
      "id": "e080186a",
      "metadata": {
        "id": "e080186a",
        "outputId": "105ee0b7-872b-46ff-ca01-a88cc226d07c"
      },
      "outputs": [
        {
          "name": "stderr",
          "output_type": "stream",
          "text": [
            "C:\\Users\\beyon\\AppData\\Local\\Temp\\ipykernel_16568\\1256590561.py:1: FutureWarning: Columnar iteration over characters will be deprecated in future releases.\n",
            "  laptop_df['System'], laptop_df['Other_Info'] = laptop_df['OS'].str.split(')', 1).str\n"
          ]
        },
        {
          "data": {
            "text/html": [
              "<div>\n",
              "<style scoped>\n",
              "    .dataframe tbody tr th:only-of-type {\n",
              "        vertical-align: middle;\n",
              "    }\n",
              "\n",
              "    .dataframe tbody tr th {\n",
              "        vertical-align: top;\n",
              "    }\n",
              "\n",
              "    .dataframe thead th {\n",
              "        text-align: right;\n",
              "    }\n",
              "</style>\n",
              "<table border=\"1\" class=\"dataframe\">\n",
              "  <thead>\n",
              "    <tr style=\"text-align: right;\">\n",
              "      <th></th>\n",
              "      <th>rating</th>\n",
              "      <th>price</th>\n",
              "      <th>model</th>\n",
              "      <th>RAM</th>\n",
              "      <th>Storage</th>\n",
              "      <th>System</th>\n",
              "      <th>Other_Info</th>\n",
              "    </tr>\n",
              "  </thead>\n",
              "  <tbody>\n",
              "    <tr>\n",
              "      <th>0</th>\n",
              "      <td>4.2</td>\n",
              "      <td>59,999</td>\n",
              "      <td>HP 15s Intel Core i5 12th Gen</td>\n",
              "      <td>8 GB</td>\n",
              "      <td>512 GB SSD</td>\n",
              "      <td>Windows 11 Home</td>\n",
              "      <td>15s-fq5111TU Thin and Light Laptop</td>\n",
              "    </tr>\n",
              "    <tr>\n",
              "      <th>1</th>\n",
              "      <td>4.2</td>\n",
              "      <td>37,990</td>\n",
              "      <td>HP 14s Intel Core i3 11th Gen</td>\n",
              "      <td>8 GB</td>\n",
              "      <td>256 GB SSD</td>\n",
              "      <td>Windows 11 Home</td>\n",
              "      <td>14s - dy2507TU Thin and Light Laptop</td>\n",
              "    </tr>\n",
              "    <tr>\n",
              "      <th>2</th>\n",
              "      <td>4.4</td>\n",
              "      <td>49,990</td>\n",
              "      <td>ASUS TUF Gaming F15 Core i5 10th Gen</td>\n",
              "      <td>8 GB</td>\n",
              "      <td>512 GB SSD</td>\n",
              "      <td>Windows 11 Home/4 GB Graphics/NVIDIA GeForce G...</td>\n",
              "      <td>NaN</td>\n",
              "    </tr>\n",
              "    <tr>\n",
              "      <th>3</th>\n",
              "      <td>4.7</td>\n",
              "      <td>86,990</td>\n",
              "      <td>APPLE 2020 Macbook Air M1</td>\n",
              "      <td>8 GB</td>\n",
              "      <td>256 GB SSD</td>\n",
              "      <td>Mac OS Big Sur</td>\n",
              "      <td>MGN63HN/A</td>\n",
              "    </tr>\n",
              "    <tr>\n",
              "      <th>4</th>\n",
              "      <td>4.3</td>\n",
              "      <td>33,990</td>\n",
              "      <td>ASUS VivoBook 15 (2022) Core i3 10th Gen</td>\n",
              "      <td>8 GB</td>\n",
              "      <td>512 GB SSD</td>\n",
              "      <td>Windows 11 Home</td>\n",
              "      <td>X515JA-EJ362WS | X515JA-E...</td>\n",
              "    </tr>\n",
              "  </tbody>\n",
              "</table>\n",
              "</div>"
            ],
            "text/plain": [
              "  rating   price                                      model   RAM     Storage  \\\n",
              "0    4.2  59,999             HP 15s Intel Core i5 12th Gen   8 GB  512 GB SSD   \n",
              "1    4.2  37,990             HP 14s Intel Core i3 11th Gen   8 GB  256 GB SSD   \n",
              "2    4.4  49,990      ASUS TUF Gaming F15 Core i5 10th Gen   8 GB  512 GB SSD   \n",
              "3    4.7  86,990                 APPLE 2020 Macbook Air M1   8 GB  256 GB SSD   \n",
              "4    4.3  33,990  ASUS VivoBook 15 (2022) Core i3 10th Gen   8 GB  512 GB SSD   \n",
              "\n",
              "                                              System  \\\n",
              "0                                    Windows 11 Home   \n",
              "1                                    Windows 11 Home   \n",
              "2  Windows 11 Home/4 GB Graphics/NVIDIA GeForce G...   \n",
              "3                                     Mac OS Big Sur   \n",
              "4                                    Windows 11 Home   \n",
              "\n",
              "                              Other_Info  \n",
              "0     15s-fq5111TU Thin and Light Laptop  \n",
              "1   14s - dy2507TU Thin and Light Laptop  \n",
              "2                                    NaN  \n",
              "3                              MGN63HN/A  \n",
              "4           X515JA-EJ362WS | X515JA-E...  "
            ]
          },
          "execution_count": 102,
          "metadata": {},
          "output_type": "execute_result"
        }
      ],
      "source": [
        "#<COMPLETA>"
      ]
    },
    {
      "cell_type": "markdown",
      "id": "50f56746",
      "metadata": {
        "id": "50f56746"
      },
      "source": [
        "### Paso 6: Identificación de valores perdidos\n",
        "\n",
        "Los métodos isnull () y notnull () son las formas más comunes de identificar valores perdidos.\n",
        "\n",
        "Mientras maneja los datos faltantes, primero debe identificar las filas y columnas que contienen los valores faltantes, contar el número de valores faltantes y luego decidir cómo desea tratarlos.\n",
        "\n",
        "Es importante que trate los valores faltantes en cada columna por separado, en lugar de implementar una única solución (por ejemplo, reemplazar los NaN por la media de una columna) para todas las columnas.\n",
        "\n",
        "isnull () devuelve un valor booleano (Verdadero / Falso) que luego se puede usar para encontrar las filas o columnas que contienen valores perdidos."
      ]
    },
    {
      "cell_type": "code",
      "execution_count": null,
      "id": "ff34a05f",
      "metadata": {
        "id": "ff34a05f",
        "outputId": "ac4a09b2-ec1d-4c1e-dca9-5f6f9f97d557"
      },
      "outputs": [
        {
          "data": {
            "text/html": [
              "<div>\n",
              "<style scoped>\n",
              "    .dataframe tbody tr th:only-of-type {\n",
              "        vertical-align: middle;\n",
              "    }\n",
              "\n",
              "    .dataframe tbody tr th {\n",
              "        vertical-align: top;\n",
              "    }\n",
              "\n",
              "    .dataframe thead th {\n",
              "        text-align: right;\n",
              "    }\n",
              "</style>\n",
              "<table border=\"1\" class=\"dataframe\">\n",
              "  <thead>\n",
              "    <tr style=\"text-align: right;\">\n",
              "      <th></th>\n",
              "      <th>rating</th>\n",
              "      <th>price</th>\n",
              "      <th>model</th>\n",
              "      <th>RAM</th>\n",
              "      <th>Storage</th>\n",
              "      <th>System</th>\n",
              "      <th>Other_Info</th>\n",
              "    </tr>\n",
              "  </thead>\n",
              "  <tbody>\n",
              "    <tr>\n",
              "      <th>0</th>\n",
              "      <td>False</td>\n",
              "      <td>False</td>\n",
              "      <td>False</td>\n",
              "      <td>False</td>\n",
              "      <td>False</td>\n",
              "      <td>False</td>\n",
              "      <td>False</td>\n",
              "    </tr>\n",
              "    <tr>\n",
              "      <th>1</th>\n",
              "      <td>False</td>\n",
              "      <td>False</td>\n",
              "      <td>False</td>\n",
              "      <td>False</td>\n",
              "      <td>False</td>\n",
              "      <td>False</td>\n",
              "      <td>False</td>\n",
              "    </tr>\n",
              "    <tr>\n",
              "      <th>2</th>\n",
              "      <td>False</td>\n",
              "      <td>False</td>\n",
              "      <td>False</td>\n",
              "      <td>False</td>\n",
              "      <td>False</td>\n",
              "      <td>False</td>\n",
              "      <td>True</td>\n",
              "    </tr>\n",
              "    <tr>\n",
              "      <th>3</th>\n",
              "      <td>False</td>\n",
              "      <td>False</td>\n",
              "      <td>False</td>\n",
              "      <td>False</td>\n",
              "      <td>False</td>\n",
              "      <td>False</td>\n",
              "      <td>False</td>\n",
              "    </tr>\n",
              "    <tr>\n",
              "      <th>4</th>\n",
              "      <td>False</td>\n",
              "      <td>False</td>\n",
              "      <td>False</td>\n",
              "      <td>False</td>\n",
              "      <td>False</td>\n",
              "      <td>False</td>\n",
              "      <td>False</td>\n",
              "    </tr>\n",
              "    <tr>\n",
              "      <th>5</th>\n",
              "      <td>False</td>\n",
              "      <td>False</td>\n",
              "      <td>False</td>\n",
              "      <td>False</td>\n",
              "      <td>False</td>\n",
              "      <td>False</td>\n",
              "      <td>False</td>\n",
              "    </tr>\n",
              "    <tr>\n",
              "      <th>6</th>\n",
              "      <td>False</td>\n",
              "      <td>False</td>\n",
              "      <td>False</td>\n",
              "      <td>False</td>\n",
              "      <td>False</td>\n",
              "      <td>False</td>\n",
              "      <td>False</td>\n",
              "    </tr>\n",
              "    <tr>\n",
              "      <th>7</th>\n",
              "      <td>False</td>\n",
              "      <td>False</td>\n",
              "      <td>False</td>\n",
              "      <td>False</td>\n",
              "      <td>False</td>\n",
              "      <td>False</td>\n",
              "      <td>False</td>\n",
              "    </tr>\n",
              "    <tr>\n",
              "      <th>8</th>\n",
              "      <td>False</td>\n",
              "      <td>False</td>\n",
              "      <td>False</td>\n",
              "      <td>False</td>\n",
              "      <td>False</td>\n",
              "      <td>False</td>\n",
              "      <td>False</td>\n",
              "    </tr>\n",
              "    <tr>\n",
              "      <th>9</th>\n",
              "      <td>False</td>\n",
              "      <td>False</td>\n",
              "      <td>False</td>\n",
              "      <td>False</td>\n",
              "      <td>False</td>\n",
              "      <td>False</td>\n",
              "      <td>False</td>\n",
              "    </tr>\n",
              "    <tr>\n",
              "      <th>10</th>\n",
              "      <td>False</td>\n",
              "      <td>False</td>\n",
              "      <td>False</td>\n",
              "      <td>False</td>\n",
              "      <td>False</td>\n",
              "      <td>False</td>\n",
              "      <td>True</td>\n",
              "    </tr>\n",
              "    <tr>\n",
              "      <th>11</th>\n",
              "      <td>False</td>\n",
              "      <td>False</td>\n",
              "      <td>False</td>\n",
              "      <td>False</td>\n",
              "      <td>False</td>\n",
              "      <td>False</td>\n",
              "      <td>False</td>\n",
              "    </tr>\n",
              "    <tr>\n",
              "      <th>12</th>\n",
              "      <td>False</td>\n",
              "      <td>False</td>\n",
              "      <td>False</td>\n",
              "      <td>False</td>\n",
              "      <td>False</td>\n",
              "      <td>False</td>\n",
              "      <td>False</td>\n",
              "    </tr>\n",
              "    <tr>\n",
              "      <th>13</th>\n",
              "      <td>False</td>\n",
              "      <td>False</td>\n",
              "      <td>False</td>\n",
              "      <td>False</td>\n",
              "      <td>False</td>\n",
              "      <td>False</td>\n",
              "      <td>False</td>\n",
              "    </tr>\n",
              "    <tr>\n",
              "      <th>14</th>\n",
              "      <td>False</td>\n",
              "      <td>False</td>\n",
              "      <td>False</td>\n",
              "      <td>False</td>\n",
              "      <td>False</td>\n",
              "      <td>False</td>\n",
              "      <td>False</td>\n",
              "    </tr>\n",
              "    <tr>\n",
              "      <th>15</th>\n",
              "      <td>False</td>\n",
              "      <td>False</td>\n",
              "      <td>False</td>\n",
              "      <td>False</td>\n",
              "      <td>False</td>\n",
              "      <td>False</td>\n",
              "      <td>False</td>\n",
              "    </tr>\n",
              "    <tr>\n",
              "      <th>16</th>\n",
              "      <td>False</td>\n",
              "      <td>False</td>\n",
              "      <td>False</td>\n",
              "      <td>False</td>\n",
              "      <td>False</td>\n",
              "      <td>False</td>\n",
              "      <td>False</td>\n",
              "    </tr>\n",
              "    <tr>\n",
              "      <th>17</th>\n",
              "      <td>False</td>\n",
              "      <td>False</td>\n",
              "      <td>False</td>\n",
              "      <td>False</td>\n",
              "      <td>False</td>\n",
              "      <td>False</td>\n",
              "      <td>False</td>\n",
              "    </tr>\n",
              "    <tr>\n",
              "      <th>18</th>\n",
              "      <td>False</td>\n",
              "      <td>False</td>\n",
              "      <td>False</td>\n",
              "      <td>False</td>\n",
              "      <td>False</td>\n",
              "      <td>False</td>\n",
              "      <td>False</td>\n",
              "    </tr>\n",
              "    <tr>\n",
              "      <th>19</th>\n",
              "      <td>False</td>\n",
              "      <td>False</td>\n",
              "      <td>False</td>\n",
              "      <td>False</td>\n",
              "      <td>False</td>\n",
              "      <td>False</td>\n",
              "      <td>False</td>\n",
              "    </tr>\n",
              "    <tr>\n",
              "      <th>20</th>\n",
              "      <td>False</td>\n",
              "      <td>False</td>\n",
              "      <td>False</td>\n",
              "      <td>False</td>\n",
              "      <td>False</td>\n",
              "      <td>False</td>\n",
              "      <td>False</td>\n",
              "    </tr>\n",
              "    <tr>\n",
              "      <th>21</th>\n",
              "      <td>False</td>\n",
              "      <td>False</td>\n",
              "      <td>False</td>\n",
              "      <td>False</td>\n",
              "      <td>False</td>\n",
              "      <td>False</td>\n",
              "      <td>False</td>\n",
              "    </tr>\n",
              "    <tr>\n",
              "      <th>22</th>\n",
              "      <td>False</td>\n",
              "      <td>False</td>\n",
              "      <td>False</td>\n",
              "      <td>False</td>\n",
              "      <td>False</td>\n",
              "      <td>False</td>\n",
              "      <td>False</td>\n",
              "    </tr>\n",
              "    <tr>\n",
              "      <th>23</th>\n",
              "      <td>False</td>\n",
              "      <td>False</td>\n",
              "      <td>False</td>\n",
              "      <td>False</td>\n",
              "      <td>False</td>\n",
              "      <td>False</td>\n",
              "      <td>False</td>\n",
              "    </tr>\n",
              "  </tbody>\n",
              "</table>\n",
              "</div>"
            ],
            "text/plain": [
              "    rating  price  model    RAM  Storage  System  Other_Info\n",
              "0    False  False  False  False    False   False       False\n",
              "1    False  False  False  False    False   False       False\n",
              "2    False  False  False  False    False   False        True\n",
              "3    False  False  False  False    False   False       False\n",
              "4    False  False  False  False    False   False       False\n",
              "5    False  False  False  False    False   False       False\n",
              "6    False  False  False  False    False   False       False\n",
              "7    False  False  False  False    False   False       False\n",
              "8    False  False  False  False    False   False       False\n",
              "9    False  False  False  False    False   False       False\n",
              "10   False  False  False  False    False   False        True\n",
              "11   False  False  False  False    False   False       False\n",
              "12   False  False  False  False    False   False       False\n",
              "13   False  False  False  False    False   False       False\n",
              "14   False  False  False  False    False   False       False\n",
              "15   False  False  False  False    False   False       False\n",
              "16   False  False  False  False    False   False       False\n",
              "17   False  False  False  False    False   False       False\n",
              "18   False  False  False  False    False   False       False\n",
              "19   False  False  False  False    False   False       False\n",
              "20   False  False  False  False    False   False       False\n",
              "21   False  False  False  False    False   False       False\n",
              "22   False  False  False  False    False   False       False\n",
              "23   False  False  False  False    False   False       False"
            ]
          },
          "execution_count": 103,
          "metadata": {},
          "output_type": "execute_result"
        }
      ],
      "source": [
        "#<COMPLETA>"
      ]
    },
    {
      "cell_type": "code",
      "source": [
        "laptop_df.isnull()"
      ],
      "metadata": {
        "colab": {
          "base_uri": "https://localhost:8080/",
          "height": 802
        },
        "id": "6YqKJjkn_gFu",
        "outputId": "f01e7307-cd01-442c-d2b6-847420172dd5"
      },
      "id": "6YqKJjkn_gFu",
      "execution_count": null,
      "outputs": [
        {
          "output_type": "execute_result",
          "data": {
            "text/plain": [
              "    price  rating  model    RAM  Storage     OS  Model\n",
              "0   False   False  False  False    False  False  False\n",
              "1   False   False  False  False    False  False  False\n",
              "2   False   False  False  False    False  False   True\n",
              "3   False   False  False  False    False  False  False\n",
              "4   False   False  False  False    False  False  False\n",
              "5   False   False  False  False    False  False  False\n",
              "6   False   False  False  False    False  False  False\n",
              "7   False   False  False  False    False  False  False\n",
              "8   False   False  False  False    False  False  False\n",
              "9   False   False  False  False    False  False  False\n",
              "10  False   False  False  False    False  False  False\n",
              "11  False   False  False  False    False  False  False\n",
              "12  False   False  False  False    False  False  False\n",
              "13  False   False  False  False    False  False  False\n",
              "14  False   False  False  False    False  False  False\n",
              "15  False   False  False  False    False  False   True\n",
              "16  False   False  False  False    False  False  False\n",
              "17  False   False  False  False    False  False  False\n",
              "18  False   False  False  False    False  False  False\n",
              "19  False   False  False  False    False  False   True\n",
              "20  False   False  False  False    False  False  False\n",
              "21  False   False  False  False    False  False  False\n",
              "22  False   False  False  False    False  False  False\n",
              "23  False   False  False  False    False  False   True"
            ],
            "text/html": [
              "\n",
              "  <div id=\"df-06a1dd4b-6e7e-43bd-956c-9749508381cb\">\n",
              "    <div class=\"colab-df-container\">\n",
              "      <div>\n",
              "<style scoped>\n",
              "    .dataframe tbody tr th:only-of-type {\n",
              "        vertical-align: middle;\n",
              "    }\n",
              "\n",
              "    .dataframe tbody tr th {\n",
              "        vertical-align: top;\n",
              "    }\n",
              "\n",
              "    .dataframe thead th {\n",
              "        text-align: right;\n",
              "    }\n",
              "</style>\n",
              "<table border=\"1\" class=\"dataframe\">\n",
              "  <thead>\n",
              "    <tr style=\"text-align: right;\">\n",
              "      <th></th>\n",
              "      <th>price</th>\n",
              "      <th>rating</th>\n",
              "      <th>model</th>\n",
              "      <th>RAM</th>\n",
              "      <th>Storage</th>\n",
              "      <th>OS</th>\n",
              "      <th>Model</th>\n",
              "    </tr>\n",
              "  </thead>\n",
              "  <tbody>\n",
              "    <tr>\n",
              "      <th>0</th>\n",
              "      <td>False</td>\n",
              "      <td>False</td>\n",
              "      <td>False</td>\n",
              "      <td>False</td>\n",
              "      <td>False</td>\n",
              "      <td>False</td>\n",
              "      <td>False</td>\n",
              "    </tr>\n",
              "    <tr>\n",
              "      <th>1</th>\n",
              "      <td>False</td>\n",
              "      <td>False</td>\n",
              "      <td>False</td>\n",
              "      <td>False</td>\n",
              "      <td>False</td>\n",
              "      <td>False</td>\n",
              "      <td>False</td>\n",
              "    </tr>\n",
              "    <tr>\n",
              "      <th>2</th>\n",
              "      <td>False</td>\n",
              "      <td>False</td>\n",
              "      <td>False</td>\n",
              "      <td>False</td>\n",
              "      <td>False</td>\n",
              "      <td>False</td>\n",
              "      <td>True</td>\n",
              "    </tr>\n",
              "    <tr>\n",
              "      <th>3</th>\n",
              "      <td>False</td>\n",
              "      <td>False</td>\n",
              "      <td>False</td>\n",
              "      <td>False</td>\n",
              "      <td>False</td>\n",
              "      <td>False</td>\n",
              "      <td>False</td>\n",
              "    </tr>\n",
              "    <tr>\n",
              "      <th>4</th>\n",
              "      <td>False</td>\n",
              "      <td>False</td>\n",
              "      <td>False</td>\n",
              "      <td>False</td>\n",
              "      <td>False</td>\n",
              "      <td>False</td>\n",
              "      <td>False</td>\n",
              "    </tr>\n",
              "    <tr>\n",
              "      <th>5</th>\n",
              "      <td>False</td>\n",
              "      <td>False</td>\n",
              "      <td>False</td>\n",
              "      <td>False</td>\n",
              "      <td>False</td>\n",
              "      <td>False</td>\n",
              "      <td>False</td>\n",
              "    </tr>\n",
              "    <tr>\n",
              "      <th>6</th>\n",
              "      <td>False</td>\n",
              "      <td>False</td>\n",
              "      <td>False</td>\n",
              "      <td>False</td>\n",
              "      <td>False</td>\n",
              "      <td>False</td>\n",
              "      <td>False</td>\n",
              "    </tr>\n",
              "    <tr>\n",
              "      <th>7</th>\n",
              "      <td>False</td>\n",
              "      <td>False</td>\n",
              "      <td>False</td>\n",
              "      <td>False</td>\n",
              "      <td>False</td>\n",
              "      <td>False</td>\n",
              "      <td>False</td>\n",
              "    </tr>\n",
              "    <tr>\n",
              "      <th>8</th>\n",
              "      <td>False</td>\n",
              "      <td>False</td>\n",
              "      <td>False</td>\n",
              "      <td>False</td>\n",
              "      <td>False</td>\n",
              "      <td>False</td>\n",
              "      <td>False</td>\n",
              "    </tr>\n",
              "    <tr>\n",
              "      <th>9</th>\n",
              "      <td>False</td>\n",
              "      <td>False</td>\n",
              "      <td>False</td>\n",
              "      <td>False</td>\n",
              "      <td>False</td>\n",
              "      <td>False</td>\n",
              "      <td>False</td>\n",
              "    </tr>\n",
              "    <tr>\n",
              "      <th>10</th>\n",
              "      <td>False</td>\n",
              "      <td>False</td>\n",
              "      <td>False</td>\n",
              "      <td>False</td>\n",
              "      <td>False</td>\n",
              "      <td>False</td>\n",
              "      <td>False</td>\n",
              "    </tr>\n",
              "    <tr>\n",
              "      <th>11</th>\n",
              "      <td>False</td>\n",
              "      <td>False</td>\n",
              "      <td>False</td>\n",
              "      <td>False</td>\n",
              "      <td>False</td>\n",
              "      <td>False</td>\n",
              "      <td>False</td>\n",
              "    </tr>\n",
              "    <tr>\n",
              "      <th>12</th>\n",
              "      <td>False</td>\n",
              "      <td>False</td>\n",
              "      <td>False</td>\n",
              "      <td>False</td>\n",
              "      <td>False</td>\n",
              "      <td>False</td>\n",
              "      <td>False</td>\n",
              "    </tr>\n",
              "    <tr>\n",
              "      <th>13</th>\n",
              "      <td>False</td>\n",
              "      <td>False</td>\n",
              "      <td>False</td>\n",
              "      <td>False</td>\n",
              "      <td>False</td>\n",
              "      <td>False</td>\n",
              "      <td>False</td>\n",
              "    </tr>\n",
              "    <tr>\n",
              "      <th>14</th>\n",
              "      <td>False</td>\n",
              "      <td>False</td>\n",
              "      <td>False</td>\n",
              "      <td>False</td>\n",
              "      <td>False</td>\n",
              "      <td>False</td>\n",
              "      <td>False</td>\n",
              "    </tr>\n",
              "    <tr>\n",
              "      <th>15</th>\n",
              "      <td>False</td>\n",
              "      <td>False</td>\n",
              "      <td>False</td>\n",
              "      <td>False</td>\n",
              "      <td>False</td>\n",
              "      <td>False</td>\n",
              "      <td>True</td>\n",
              "    </tr>\n",
              "    <tr>\n",
              "      <th>16</th>\n",
              "      <td>False</td>\n",
              "      <td>False</td>\n",
              "      <td>False</td>\n",
              "      <td>False</td>\n",
              "      <td>False</td>\n",
              "      <td>False</td>\n",
              "      <td>False</td>\n",
              "    </tr>\n",
              "    <tr>\n",
              "      <th>17</th>\n",
              "      <td>False</td>\n",
              "      <td>False</td>\n",
              "      <td>False</td>\n",
              "      <td>False</td>\n",
              "      <td>False</td>\n",
              "      <td>False</td>\n",
              "      <td>False</td>\n",
              "    </tr>\n",
              "    <tr>\n",
              "      <th>18</th>\n",
              "      <td>False</td>\n",
              "      <td>False</td>\n",
              "      <td>False</td>\n",
              "      <td>False</td>\n",
              "      <td>False</td>\n",
              "      <td>False</td>\n",
              "      <td>False</td>\n",
              "    </tr>\n",
              "    <tr>\n",
              "      <th>19</th>\n",
              "      <td>False</td>\n",
              "      <td>False</td>\n",
              "      <td>False</td>\n",
              "      <td>False</td>\n",
              "      <td>False</td>\n",
              "      <td>False</td>\n",
              "      <td>True</td>\n",
              "    </tr>\n",
              "    <tr>\n",
              "      <th>20</th>\n",
              "      <td>False</td>\n",
              "      <td>False</td>\n",
              "      <td>False</td>\n",
              "      <td>False</td>\n",
              "      <td>False</td>\n",
              "      <td>False</td>\n",
              "      <td>False</td>\n",
              "    </tr>\n",
              "    <tr>\n",
              "      <th>21</th>\n",
              "      <td>False</td>\n",
              "      <td>False</td>\n",
              "      <td>False</td>\n",
              "      <td>False</td>\n",
              "      <td>False</td>\n",
              "      <td>False</td>\n",
              "      <td>False</td>\n",
              "    </tr>\n",
              "    <tr>\n",
              "      <th>22</th>\n",
              "      <td>False</td>\n",
              "      <td>False</td>\n",
              "      <td>False</td>\n",
              "      <td>False</td>\n",
              "      <td>False</td>\n",
              "      <td>False</td>\n",
              "      <td>False</td>\n",
              "    </tr>\n",
              "    <tr>\n",
              "      <th>23</th>\n",
              "      <td>False</td>\n",
              "      <td>False</td>\n",
              "      <td>False</td>\n",
              "      <td>False</td>\n",
              "      <td>False</td>\n",
              "      <td>False</td>\n",
              "      <td>True</td>\n",
              "    </tr>\n",
              "  </tbody>\n",
              "</table>\n",
              "</div>\n",
              "      <button class=\"colab-df-convert\" onclick=\"convertToInteractive('df-06a1dd4b-6e7e-43bd-956c-9749508381cb')\"\n",
              "              title=\"Convert this dataframe to an interactive table.\"\n",
              "              style=\"display:none;\">\n",
              "        \n",
              "  <svg xmlns=\"http://www.w3.org/2000/svg\" height=\"24px\"viewBox=\"0 0 24 24\"\n",
              "       width=\"24px\">\n",
              "    <path d=\"M0 0h24v24H0V0z\" fill=\"none\"/>\n",
              "    <path d=\"M18.56 5.44l.94 2.06.94-2.06 2.06-.94-2.06-.94-.94-2.06-.94 2.06-2.06.94zm-11 1L8.5 8.5l.94-2.06 2.06-.94-2.06-.94L8.5 2.5l-.94 2.06-2.06.94zm10 10l.94 2.06.94-2.06 2.06-.94-2.06-.94-.94-2.06-.94 2.06-2.06.94z\"/><path d=\"M17.41 7.96l-1.37-1.37c-.4-.4-.92-.59-1.43-.59-.52 0-1.04.2-1.43.59L10.3 9.45l-7.72 7.72c-.78.78-.78 2.05 0 2.83L4 21.41c.39.39.9.59 1.41.59.51 0 1.02-.2 1.41-.59l7.78-7.78 2.81-2.81c.8-.78.8-2.07 0-2.86zM5.41 20L4 18.59l7.72-7.72 1.47 1.35L5.41 20z\"/>\n",
              "  </svg>\n",
              "      </button>\n",
              "      \n",
              "  <style>\n",
              "    .colab-df-container {\n",
              "      display:flex;\n",
              "      flex-wrap:wrap;\n",
              "      gap: 12px;\n",
              "    }\n",
              "\n",
              "    .colab-df-convert {\n",
              "      background-color: #E8F0FE;\n",
              "      border: none;\n",
              "      border-radius: 50%;\n",
              "      cursor: pointer;\n",
              "      display: none;\n",
              "      fill: #1967D2;\n",
              "      height: 32px;\n",
              "      padding: 0 0 0 0;\n",
              "      width: 32px;\n",
              "    }\n",
              "\n",
              "    .colab-df-convert:hover {\n",
              "      background-color: #E2EBFA;\n",
              "      box-shadow: 0px 1px 2px rgba(60, 64, 67, 0.3), 0px 1px 3px 1px rgba(60, 64, 67, 0.15);\n",
              "      fill: #174EA6;\n",
              "    }\n",
              "\n",
              "    [theme=dark] .colab-df-convert {\n",
              "      background-color: #3B4455;\n",
              "      fill: #D2E3FC;\n",
              "    }\n",
              "\n",
              "    [theme=dark] .colab-df-convert:hover {\n",
              "      background-color: #434B5C;\n",
              "      box-shadow: 0px 1px 3px 1px rgba(0, 0, 0, 0.15);\n",
              "      filter: drop-shadow(0px 1px 2px rgba(0, 0, 0, 0.3));\n",
              "      fill: #FFFFFF;\n",
              "    }\n",
              "  </style>\n",
              "\n",
              "      <script>\n",
              "        const buttonEl =\n",
              "          document.querySelector('#df-06a1dd4b-6e7e-43bd-956c-9749508381cb button.colab-df-convert');\n",
              "        buttonEl.style.display =\n",
              "          google.colab.kernel.accessAllowed ? 'block' : 'none';\n",
              "\n",
              "        async function convertToInteractive(key) {\n",
              "          const element = document.querySelector('#df-06a1dd4b-6e7e-43bd-956c-9749508381cb');\n",
              "          const dataTable =\n",
              "            await google.colab.kernel.invokeFunction('convertToInteractive',\n",
              "                                                     [key], {});\n",
              "          if (!dataTable) return;\n",
              "\n",
              "          const docLinkHtml = 'Like what you see? Visit the ' +\n",
              "            '<a target=\"_blank\" href=https://colab.research.google.com/notebooks/data_table.ipynb>data table notebook</a>'\n",
              "            + ' to learn more about interactive tables.';\n",
              "          element.innerHTML = '';\n",
              "          dataTable['output_type'] = 'display_data';\n",
              "          await google.colab.output.renderOutput(dataTable, element);\n",
              "          const docLink = document.createElement('div');\n",
              "          docLink.innerHTML = docLinkHtml;\n",
              "          element.appendChild(docLink);\n",
              "        }\n",
              "      </script>\n",
              "    </div>\n",
              "  </div>\n",
              "  "
            ]
          },
          "metadata": {},
          "execution_count": 84
        }
      ]
    },
    {
      "cell_type": "markdown",
      "id": "7c7bb487",
      "metadata": {
        "id": "7c7bb487"
      },
      "source": [
        "### Identificación de valores perdidos en columnas\n",
        "\n",
        "Primero calculemos el número total de valores faltantes en el marco de datos. Puede calcular el número de valores perdidos en cada columna mediante df.isnull().Sum()"
      ]
    },
    {
      "cell_type": "code",
      "execution_count": null,
      "id": "f6cc693a",
      "metadata": {
        "id": "f6cc693a",
        "outputId": "77f7ddb5-054c-41fb-95e6-721444000b8b"
      },
      "outputs": [
        {
          "data": {
            "text/plain": [
              "rating        0\n",
              "price         0\n",
              "model         0\n",
              "RAM           0\n",
              "Storage       0\n",
              "System        0\n",
              "Other_Info    2\n",
              "dtype: int64"
            ]
          },
          "execution_count": 104,
          "metadata": {},
          "output_type": "execute_result"
        }
      ],
      "source": [
        "#<COMPLETA>"
      ]
    },
    {
      "cell_type": "code",
      "source": [
        "laptop_df.isnull().sum()"
      ],
      "metadata": {
        "colab": {
          "base_uri": "https://localhost:8080/"
        },
        "id": "-eAGf3Kr_tgV",
        "outputId": "dd8c3df5-f29f-47c6-a43f-a3cf2858896b"
      },
      "id": "-eAGf3Kr_tgV",
      "execution_count": null,
      "outputs": [
        {
          "output_type": "execute_result",
          "data": {
            "text/plain": [
              "price      0\n",
              "rating     0\n",
              "model      0\n",
              "RAM        0\n",
              "Storage    0\n",
              "OS         0\n",
              "Model      4\n",
              "dtype: int64"
            ]
          },
          "metadata": {},
          "execution_count": 86
        }
      ]
    },
    {
      "cell_type": "code",
      "execution_count": null,
      "id": "3a17df21",
      "metadata": {
        "id": "3a17df21",
        "outputId": "776b1ab1-02a7-4392-e11b-69b9b9b02c6f"
      },
      "outputs": [
        {
          "data": {
            "text/plain": [
              "22"
            ]
          },
          "execution_count": 105,
          "metadata": {},
          "output_type": "execute_result"
        }
      ],
      "source": [
        "#<COMPLETA>"
      ]
    },
    {
      "cell_type": "code",
      "source": [
        "laptop_df.info()"
      ],
      "metadata": {
        "colab": {
          "base_uri": "https://localhost:8080/"
        },
        "id": "ouXRNhOg_6fe",
        "outputId": "580557f4-fef5-42c1-be23-c9e454e69856"
      },
      "id": "ouXRNhOg_6fe",
      "execution_count": null,
      "outputs": [
        {
          "output_type": "stream",
          "name": "stdout",
          "text": [
            "<class 'pandas.core.frame.DataFrame'>\n",
            "RangeIndex: 24 entries, 0 to 23\n",
            "Data columns (total 7 columns):\n",
            " #   Column   Non-Null Count  Dtype \n",
            "---  ------   --------------  ----- \n",
            " 0   price    24 non-null     object\n",
            " 1   rating   24 non-null     object\n",
            " 2   model    24 non-null     object\n",
            " 3   RAM      24 non-null     object\n",
            " 4   Storage  24 non-null     object\n",
            " 5   OS       24 non-null     object\n",
            " 6   Model    20 non-null     object\n",
            "dtypes: object(7)\n",
            "memory usage: 1.4+ KB\n"
          ]
        }
      ]
    },
    {
      "cell_type": "code",
      "execution_count": null,
      "id": "237bfbca",
      "metadata": {
        "id": "237bfbca",
        "outputId": "7987505d-4ce0-4098-cb98-1bb69e377a0f"
      },
      "outputs": [
        {
          "data": {
            "text/plain": [
              "HP Ryzen 5 Hexa Core 5500U                                         2\n",
              "APPLE 2020 Macbook Air M1                                          2\n",
              "HP 15s Intel Core i5 12th Gen                                      1\n",
              "Lenovo IdeaPad 3 Core i3 11th Gen                                  1\n",
              "acer Aspire 3 Ryzen 3 Dual Core 3250U                              1\n",
              "HP Pavilion Ryzen 5 Hexa Core 5625U                                1\n",
              "HP 15s Intel Core i3 11th Gen                                      1\n",
              "realme Book (Slim) Core i3 11th Gen                                1\n",
              "ASUS Core i7 11th Gen                                              1\n",
              "DELL Vostro Core i3 11th Gen                                       1\n",
              "HP Intel Core i5 11th Gen                                          1\n",
              "HP Laptop Core i3 11th Gen                                         1\n",
              "HP 14s Intel Core i3 11th Gen                                      1\n",
              "ASUS TUF Gaming A17 with 90Whr Battery Ryzen 5 Hexa Core AMD R5    1\n",
              "ASUS VivoBook 14 (2021) Celeron Dual Core                          1\n",
              "Lenovo V15 G2 Core i3 11th Gen                                     1\n",
              "HP 15s Intel Core i3 12th Gen                                      1\n",
              "RedmiBook Pro Core i5 11th Gen                                     1\n",
              "Lenovo Athlon Dual Core                                            1\n",
              "ASUS VivoBook 15 (2022) Core i3 10th Gen                           1\n",
              "ASUS TUF Gaming F15 Core i5 10th Gen                               1\n",
              "HP 14s Intel Core i5 12th Gen                                      1\n",
              "Name: model, dtype: int64"
            ]
          },
          "execution_count": 106,
          "metadata": {},
          "output_type": "execute_result"
        }
      ],
      "source": [
        "#<COMPLETA>"
      ]
    },
    {
      "cell_type": "code",
      "source": [
        "laptop_df['model'].value_counts()"
      ],
      "metadata": {
        "colab": {
          "base_uri": "https://localhost:8080/"
        },
        "id": "WsFxIe9EAIEv",
        "outputId": "28a8d62c-5447-4fef-b575-5ad52a7b3088"
      },
      "id": "WsFxIe9EAIEv",
      "execution_count": null,
      "outputs": [
        {
          "output_type": "execute_result",
          "data": {
            "text/plain": [
              "HP 14s Intel Core i3 11th Gen                                      2\n",
              "HP intel Celeron Dual Core                                         1\n",
              "acer Aspire 3 Ryzen 3 Dual Core 3250U                              1\n",
              "HP 15s Intel Core i5 12th Gen                                      1\n",
              "RedmiBook Pro Core i5 11th Gen                                     1\n",
              "HP Intel Core i5 11th Gen                                          1\n",
              "ASUS TUF Gaming A17 with 90Whr Battery Ryzen 5 Hexa Core AMD R5    1\n",
              "ASUS Vivobook 15 Core i3 11th Gen                                  1\n",
              "APPLE 2020 Macbook Air M1                                          1\n",
              "ASUS Core i5 11th Gen                                              1\n",
              "Lenovo IdeaPad Core i5 11th Gen                                    1\n",
              "HP 15s Intel Core i3 12th Gen                                      1\n",
              "DELL Vostro Core i3 11th Gen                                       1\n",
              "Lenovo Lenovo IdeaPad Slim 3 Intel Core i5 11th Gen                1\n",
              "DELL Vostro Core i3 10th Gen                                       1\n",
              "HP Ryzen 5 Hexa Core 5500U                                         1\n",
              "HP 15s Intel Core i3 11th Gen                                      1\n",
              "Lenovo IdeaPad 3 Ryzen 5 Hexa Core 5500U                           1\n",
              "Lenovo Athlon Dual Core                                            1\n",
              "ASUS VivoBook 14 (2021) Celeron Dual Core                          1\n",
              "ASUS VivoBook 15 (2022) Core i3 10th Gen                           1\n",
              "ASUS TUF Gaming F15 Core i5 10th Gen                               1\n",
              "ASUS TUF Gaming A17 with 90Whr Battery Ryzen 7 Octa Core AMD R7    1\n",
              "Name: model, dtype: int64"
            ]
          },
          "metadata": {},
          "execution_count": 89
        }
      ]
    },
    {
      "cell_type": "code",
      "execution_count": null,
      "id": "7092179b",
      "metadata": {
        "id": "7092179b",
        "outputId": "8c62a103-f690-4a51-cdf3-98a02cc9f999"
      },
      "outputs": [
        {
          "data": {
            "text/html": [
              "<div>\n",
              "<style scoped>\n",
              "    .dataframe tbody tr th:only-of-type {\n",
              "        vertical-align: middle;\n",
              "    }\n",
              "\n",
              "    .dataframe tbody tr th {\n",
              "        vertical-align: top;\n",
              "    }\n",
              "\n",
              "    .dataframe thead th {\n",
              "        text-align: right;\n",
              "    }\n",
              "</style>\n",
              "<table border=\"1\" class=\"dataframe\">\n",
              "  <thead>\n",
              "    <tr style=\"text-align: right;\">\n",
              "      <th></th>\n",
              "      <th>rating</th>\n",
              "      <th>price</th>\n",
              "      <th>model</th>\n",
              "      <th>RAM</th>\n",
              "      <th>Storage</th>\n",
              "      <th>System</th>\n",
              "      <th>Other_Info</th>\n",
              "    </tr>\n",
              "  </thead>\n",
              "  <tbody>\n",
              "    <tr>\n",
              "      <th>count</th>\n",
              "      <td>24</td>\n",
              "      <td>24</td>\n",
              "      <td>24</td>\n",
              "      <td>24</td>\n",
              "      <td>24</td>\n",
              "      <td>24</td>\n",
              "      <td>22</td>\n",
              "    </tr>\n",
              "    <tr>\n",
              "      <th>unique</th>\n",
              "      <td>8</td>\n",
              "      <td>22</td>\n",
              "      <td>22</td>\n",
              "      <td>3</td>\n",
              "      <td>3</td>\n",
              "      <td>7</td>\n",
              "      <td>22</td>\n",
              "    </tr>\n",
              "    <tr>\n",
              "      <th>top</th>\n",
              "      <td>4.2</td>\n",
              "      <td>39,990</td>\n",
              "      <td>HP Ryzen 5 Hexa Core 5500U</td>\n",
              "      <td>8 GB</td>\n",
              "      <td>512 GB SSD</td>\n",
              "      <td>Windows 11 Home</td>\n",
              "      <td>15s-fq5111TU Thin and Light Laptop</td>\n",
              "    </tr>\n",
              "    <tr>\n",
              "      <th>freq</th>\n",
              "      <td>7</td>\n",
              "      <td>2</td>\n",
              "      <td>2</td>\n",
              "      <td>19</td>\n",
              "      <td>16</td>\n",
              "      <td>17</td>\n",
              "      <td>1</td>\n",
              "    </tr>\n",
              "  </tbody>\n",
              "</table>\n",
              "</div>"
            ],
            "text/plain": [
              "       rating   price                        model   RAM     Storage  \\\n",
              "count      24      24                           24    24          24   \n",
              "unique      8      22                           22     3           3   \n",
              "top       4.2  39,990  HP Ryzen 5 Hexa Core 5500U   8 GB  512 GB SSD   \n",
              "freq        7       2                            2    19          16   \n",
              "\n",
              "                 System                           Other_Info  \n",
              "count                24                                   22  \n",
              "unique                7                                   22  \n",
              "top     Windows 11 Home   15s-fq5111TU Thin and Light Laptop  \n",
              "freq                 17                                    1  "
            ]
          },
          "execution_count": 107,
          "metadata": {},
          "output_type": "execute_result"
        }
      ],
      "source": [
        "#<COMPLETA>"
      ]
    },
    {
      "cell_type": "code",
      "source": [
        "laptop_df.describe()"
      ],
      "metadata": {
        "colab": {
          "base_uri": "https://localhost:8080/",
          "height": 174
        },
        "id": "-z0DqroYAVFQ",
        "outputId": "5417cb05-a901-4e43-fa97-a6304927952f"
      },
      "id": "-z0DqroYAVFQ",
      "execution_count": null,
      "outputs": [
        {
          "output_type": "execute_result",
          "data": {
            "text/plain": [
              "         price rating                           model   RAM     Storage  \\\n",
              "count       24     24                              24    24          24   \n",
              "unique      22     10                              23     3           4   \n",
              "top     49,990    4.3  HP 14s Intel Core i3 11th Gen   8 GB  512 GB SSD   \n",
              "freq         3      6                               2    19          17   \n",
              "\n",
              "                     OS                      Model  \n",
              "count                24                         20  \n",
              "unique                9                         20  \n",
              "top     Windows 11 Home   14a- na1004TU Chromebook  \n",
              "freq                 15                          1  "
            ],
            "text/html": [
              "\n",
              "  <div id=\"df-37a3fa8c-962e-4b4f-af44-c5d734dfeaea\">\n",
              "    <div class=\"colab-df-container\">\n",
              "      <div>\n",
              "<style scoped>\n",
              "    .dataframe tbody tr th:only-of-type {\n",
              "        vertical-align: middle;\n",
              "    }\n",
              "\n",
              "    .dataframe tbody tr th {\n",
              "        vertical-align: top;\n",
              "    }\n",
              "\n",
              "    .dataframe thead th {\n",
              "        text-align: right;\n",
              "    }\n",
              "</style>\n",
              "<table border=\"1\" class=\"dataframe\">\n",
              "  <thead>\n",
              "    <tr style=\"text-align: right;\">\n",
              "      <th></th>\n",
              "      <th>price</th>\n",
              "      <th>rating</th>\n",
              "      <th>model</th>\n",
              "      <th>RAM</th>\n",
              "      <th>Storage</th>\n",
              "      <th>OS</th>\n",
              "      <th>Model</th>\n",
              "    </tr>\n",
              "  </thead>\n",
              "  <tbody>\n",
              "    <tr>\n",
              "      <th>count</th>\n",
              "      <td>24</td>\n",
              "      <td>24</td>\n",
              "      <td>24</td>\n",
              "      <td>24</td>\n",
              "      <td>24</td>\n",
              "      <td>24</td>\n",
              "      <td>20</td>\n",
              "    </tr>\n",
              "    <tr>\n",
              "      <th>unique</th>\n",
              "      <td>22</td>\n",
              "      <td>10</td>\n",
              "      <td>23</td>\n",
              "      <td>3</td>\n",
              "      <td>4</td>\n",
              "      <td>9</td>\n",
              "      <td>20</td>\n",
              "    </tr>\n",
              "    <tr>\n",
              "      <th>top</th>\n",
              "      <td>49,990</td>\n",
              "      <td>4.3</td>\n",
              "      <td>HP 14s Intel Core i3 11th Gen</td>\n",
              "      <td>8 GB</td>\n",
              "      <td>512 GB SSD</td>\n",
              "      <td>Windows 11 Home</td>\n",
              "      <td>14a- na1004TU Chromebook</td>\n",
              "    </tr>\n",
              "    <tr>\n",
              "      <th>freq</th>\n",
              "      <td>3</td>\n",
              "      <td>6</td>\n",
              "      <td>2</td>\n",
              "      <td>19</td>\n",
              "      <td>17</td>\n",
              "      <td>15</td>\n",
              "      <td>1</td>\n",
              "    </tr>\n",
              "  </tbody>\n",
              "</table>\n",
              "</div>\n",
              "      <button class=\"colab-df-convert\" onclick=\"convertToInteractive('df-37a3fa8c-962e-4b4f-af44-c5d734dfeaea')\"\n",
              "              title=\"Convert this dataframe to an interactive table.\"\n",
              "              style=\"display:none;\">\n",
              "        \n",
              "  <svg xmlns=\"http://www.w3.org/2000/svg\" height=\"24px\"viewBox=\"0 0 24 24\"\n",
              "       width=\"24px\">\n",
              "    <path d=\"M0 0h24v24H0V0z\" fill=\"none\"/>\n",
              "    <path d=\"M18.56 5.44l.94 2.06.94-2.06 2.06-.94-2.06-.94-.94-2.06-.94 2.06-2.06.94zm-11 1L8.5 8.5l.94-2.06 2.06-.94-2.06-.94L8.5 2.5l-.94 2.06-2.06.94zm10 10l.94 2.06.94-2.06 2.06-.94-2.06-.94-.94-2.06-.94 2.06-2.06.94z\"/><path d=\"M17.41 7.96l-1.37-1.37c-.4-.4-.92-.59-1.43-.59-.52 0-1.04.2-1.43.59L10.3 9.45l-7.72 7.72c-.78.78-.78 2.05 0 2.83L4 21.41c.39.39.9.59 1.41.59.51 0 1.02-.2 1.41-.59l7.78-7.78 2.81-2.81c.8-.78.8-2.07 0-2.86zM5.41 20L4 18.59l7.72-7.72 1.47 1.35L5.41 20z\"/>\n",
              "  </svg>\n",
              "      </button>\n",
              "      \n",
              "  <style>\n",
              "    .colab-df-container {\n",
              "      display:flex;\n",
              "      flex-wrap:wrap;\n",
              "      gap: 12px;\n",
              "    }\n",
              "\n",
              "    .colab-df-convert {\n",
              "      background-color: #E8F0FE;\n",
              "      border: none;\n",
              "      border-radius: 50%;\n",
              "      cursor: pointer;\n",
              "      display: none;\n",
              "      fill: #1967D2;\n",
              "      height: 32px;\n",
              "      padding: 0 0 0 0;\n",
              "      width: 32px;\n",
              "    }\n",
              "\n",
              "    .colab-df-convert:hover {\n",
              "      background-color: #E2EBFA;\n",
              "      box-shadow: 0px 1px 2px rgba(60, 64, 67, 0.3), 0px 1px 3px 1px rgba(60, 64, 67, 0.15);\n",
              "      fill: #174EA6;\n",
              "    }\n",
              "\n",
              "    [theme=dark] .colab-df-convert {\n",
              "      background-color: #3B4455;\n",
              "      fill: #D2E3FC;\n",
              "    }\n",
              "\n",
              "    [theme=dark] .colab-df-convert:hover {\n",
              "      background-color: #434B5C;\n",
              "      box-shadow: 0px 1px 3px 1px rgba(0, 0, 0, 0.15);\n",
              "      filter: drop-shadow(0px 1px 2px rgba(0, 0, 0, 0.3));\n",
              "      fill: #FFFFFF;\n",
              "    }\n",
              "  </style>\n",
              "\n",
              "      <script>\n",
              "        const buttonEl =\n",
              "          document.querySelector('#df-37a3fa8c-962e-4b4f-af44-c5d734dfeaea button.colab-df-convert');\n",
              "        buttonEl.style.display =\n",
              "          google.colab.kernel.accessAllowed ? 'block' : 'none';\n",
              "\n",
              "        async function convertToInteractive(key) {\n",
              "          const element = document.querySelector('#df-37a3fa8c-962e-4b4f-af44-c5d734dfeaea');\n",
              "          const dataTable =\n",
              "            await google.colab.kernel.invokeFunction('convertToInteractive',\n",
              "                                                     [key], {});\n",
              "          if (!dataTable) return;\n",
              "\n",
              "          const docLinkHtml = 'Like what you see? Visit the ' +\n",
              "            '<a target=\"_blank\" href=https://colab.research.google.com/notebooks/data_table.ipynb>data table notebook</a>'\n",
              "            + ' to learn more about interactive tables.';\n",
              "          element.innerHTML = '';\n",
              "          dataTable['output_type'] = 'display_data';\n",
              "          await google.colab.output.renderOutput(dataTable, element);\n",
              "          const docLink = document.createElement('div');\n",
              "          docLink.innerHTML = docLinkHtml;\n",
              "          element.appendChild(docLink);\n",
              "        }\n",
              "      </script>\n",
              "    </div>\n",
              "  </div>\n",
              "  "
            ]
          },
          "metadata": {},
          "execution_count": 90
        }
      ]
    },
    {
      "cell_type": "code",
      "execution_count": null,
      "id": "c6842b3b",
      "metadata": {
        "id": "c6842b3b",
        "outputId": "3c4c6220-a55e-4ccb-f3cd-e26a45ddc3d6"
      },
      "outputs": [
        {
          "data": {
            "text/plain": [
              "rating        object\n",
              "price         object\n",
              "model         object\n",
              "RAM           object\n",
              "Storage       object\n",
              "System        object\n",
              "Other_Info    object\n",
              "dtype: object"
            ]
          },
          "execution_count": 108,
          "metadata": {},
          "output_type": "execute_result"
        }
      ],
      "source": [
        "#<COMPLETA>"
      ]
    },
    {
      "cell_type": "code",
      "source": [
        "laptop_df.info()"
      ],
      "metadata": {
        "colab": {
          "base_uri": "https://localhost:8080/"
        },
        "id": "ujfvQFMdAcoA",
        "outputId": "00d6d4d9-46a2-41d9-ee92-29a4eb2d3038"
      },
      "id": "ujfvQFMdAcoA",
      "execution_count": null,
      "outputs": [
        {
          "output_type": "stream",
          "name": "stdout",
          "text": [
            "<class 'pandas.core.frame.DataFrame'>\n",
            "RangeIndex: 24 entries, 0 to 23\n",
            "Data columns (total 7 columns):\n",
            " #   Column   Non-Null Count  Dtype \n",
            "---  ------   --------------  ----- \n",
            " 0   price    24 non-null     object\n",
            " 1   rating   24 non-null     object\n",
            " 2   model    24 non-null     object\n",
            " 3   RAM      24 non-null     object\n",
            " 4   Storage  24 non-null     object\n",
            " 5   OS       24 non-null     object\n",
            " 6   Model    20 non-null     object\n",
            "dtypes: object(7)\n",
            "memory usage: 1.4+ KB\n"
          ]
        }
      ]
    },
    {
      "cell_type": "markdown",
      "id": "ebdb4ce6",
      "metadata": {
        "id": "ebdb4ce6"
      },
      "source": [
        "Modifiquemos la columna de precio y rating para que sean de tipo numerico"
      ]
    },
    {
      "cell_type": "code",
      "execution_count": null,
      "id": "5e980e9c",
      "metadata": {
        "id": "5e980e9c"
      },
      "outputs": [],
      "source": [
        "#<COMPLETA>"
      ]
    },
    {
      "cell_type": "code",
      "execution_count": null,
      "id": "ff9e5e97",
      "metadata": {
        "id": "ff9e5e97",
        "outputId": "6b13b2f3-99a7-4acd-9d1d-66be18d0e54e"
      },
      "outputs": [
        {
          "data": {
            "text/html": [
              "<div>\n",
              "<style scoped>\n",
              "    .dataframe tbody tr th:only-of-type {\n",
              "        vertical-align: middle;\n",
              "    }\n",
              "\n",
              "    .dataframe tbody tr th {\n",
              "        vertical-align: top;\n",
              "    }\n",
              "\n",
              "    .dataframe thead th {\n",
              "        text-align: right;\n",
              "    }\n",
              "</style>\n",
              "<table border=\"1\" class=\"dataframe\">\n",
              "  <thead>\n",
              "    <tr style=\"text-align: right;\">\n",
              "      <th></th>\n",
              "      <th>rating</th>\n",
              "      <th>price</th>\n",
              "    </tr>\n",
              "  </thead>\n",
              "  <tbody>\n",
              "    <tr>\n",
              "      <th>count</th>\n",
              "      <td>24.000000</td>\n",
              "      <td>24.000000</td>\n",
              "    </tr>\n",
              "    <tr>\n",
              "      <th>mean</th>\n",
              "      <td>4.075000</td>\n",
              "      <td>46957.916667</td>\n",
              "    </tr>\n",
              "    <tr>\n",
              "      <th>std</th>\n",
              "      <td>0.887228</td>\n",
              "      <td>16899.183834</td>\n",
              "    </tr>\n",
              "    <tr>\n",
              "      <th>min</th>\n",
              "      <td>0.000000</td>\n",
              "      <td>18990.000000</td>\n",
              "    </tr>\n",
              "    <tr>\n",
              "      <th>25%</th>\n",
              "      <td>4.100000</td>\n",
              "      <td>37740.000000</td>\n",
              "    </tr>\n",
              "    <tr>\n",
              "      <th>50%</th>\n",
              "      <td>4.200000</td>\n",
              "      <td>42970.000000</td>\n",
              "    </tr>\n",
              "    <tr>\n",
              "      <th>75%</th>\n",
              "      <td>4.300000</td>\n",
              "      <td>54740.000000</td>\n",
              "    </tr>\n",
              "    <tr>\n",
              "      <th>max</th>\n",
              "      <td>4.700000</td>\n",
              "      <td>86990.000000</td>\n",
              "    </tr>\n",
              "  </tbody>\n",
              "</table>\n",
              "</div>"
            ],
            "text/plain": [
              "          rating         price\n",
              "count  24.000000     24.000000\n",
              "mean    4.075000  46957.916667\n",
              "std     0.887228  16899.183834\n",
              "min     0.000000  18990.000000\n",
              "25%     4.100000  37740.000000\n",
              "50%     4.200000  42970.000000\n",
              "75%     4.300000  54740.000000\n",
              "max     4.700000  86990.000000"
            ]
          },
          "execution_count": 110,
          "metadata": {},
          "output_type": "execute_result"
        }
      ],
      "source": [
        "#<COMPLETA>"
      ]
    },
    {
      "cell_type": "code",
      "source": [
        "f=lambda x:x.replace(\",\",\"\")\n",
        "laptop_df['price']=pd.to_numeric(laptop_df['price'].apply(f))\n",
        "laptop_df['rating']=pd.to_numeric(laptop_df['rating'])\n",
        "\n",
        "\n"
      ],
      "metadata": {
        "id": "v8EiRCDyA9tT"
      },
      "id": "v8EiRCDyA9tT",
      "execution_count": null,
      "outputs": []
    },
    {
      "cell_type": "code",
      "source": [
        "laptop_df.info()"
      ],
      "metadata": {
        "colab": {
          "base_uri": "https://localhost:8080/"
        },
        "id": "Ncl71m2xB_rI",
        "outputId": "d9df68eb-53a7-4464-9a2e-a14d5bdb9081"
      },
      "id": "Ncl71m2xB_rI",
      "execution_count": null,
      "outputs": [
        {
          "output_type": "stream",
          "name": "stdout",
          "text": [
            "<class 'pandas.core.frame.DataFrame'>\n",
            "RangeIndex: 24 entries, 0 to 23\n",
            "Data columns (total 7 columns):\n",
            " #   Column   Non-Null Count  Dtype  \n",
            "---  ------   --------------  -----  \n",
            " 0   price    24 non-null     int64  \n",
            " 1   rating   24 non-null     float64\n",
            " 2   model    24 non-null     object \n",
            " 3   RAM      24 non-null     object \n",
            " 4   Storage  24 non-null     object \n",
            " 5   OS       24 non-null     object \n",
            " 6   Model    20 non-null     object \n",
            "dtypes: float64(1), int64(1), object(5)\n",
            "memory usage: 1.4+ KB\n"
          ]
        }
      ]
    },
    {
      "cell_type": "code",
      "execution_count": null,
      "id": "b2e4d201",
      "metadata": {
        "id": "b2e4d201",
        "outputId": "3558544f-a776-4c34-ba71-c2dcf6f64799"
      },
      "outputs": [
        {
          "data": {
            "text/plain": [
              "rating        float64\n",
              "price         float64\n",
              "model          object\n",
              "RAM            object\n",
              "Storage        object\n",
              "System         object\n",
              "Other_Info     object\n",
              "dtype: object"
            ]
          },
          "execution_count": 111,
          "metadata": {},
          "output_type": "execute_result"
        }
      ],
      "source": [
        "#<COMPLETA>"
      ]
    },
    {
      "cell_type": "markdown",
      "id": "fdc4819c",
      "metadata": {
        "id": "fdc4819c"
      },
      "source": [
        "Ahora necesitamos filtrar las mejores computadoras portátiles con buenas especificaciones, precio y calificación de la lista.\n",
        "\n",
        "Muestra los siguientes resultados:\n",
        " * Laptops en rating <= 4\n",
        " * Laptops con rating >= 3.5 y un precio entre 30 y 40 mil $"
      ]
    },
    {
      "cell_type": "code",
      "execution_count": null,
      "id": "61153844",
      "metadata": {
        "id": "61153844",
        "outputId": "1f0236bb-e6da-4274-9b46-f42082f07bb8"
      },
      "outputs": [
        {
          "data": {
            "text/html": [
              "<div>\n",
              "<style scoped>\n",
              "    .dataframe tbody tr th:only-of-type {\n",
              "        vertical-align: middle;\n",
              "    }\n",
              "\n",
              "    .dataframe tbody tr th {\n",
              "        vertical-align: top;\n",
              "    }\n",
              "\n",
              "    .dataframe thead th {\n",
              "        text-align: right;\n",
              "    }\n",
              "</style>\n",
              "<table border=\"1\" class=\"dataframe\">\n",
              "  <thead>\n",
              "    <tr style=\"text-align: right;\">\n",
              "      <th></th>\n",
              "      <th>rating</th>\n",
              "      <th>price</th>\n",
              "      <th>model</th>\n",
              "      <th>RAM</th>\n",
              "      <th>Storage</th>\n",
              "      <th>System</th>\n",
              "      <th>Other_Info</th>\n",
              "    </tr>\n",
              "  </thead>\n",
              "  <tbody>\n",
              "    <tr>\n",
              "      <th>5</th>\n",
              "      <td>3.9</td>\n",
              "      <td>18990.0</td>\n",
              "      <td>Lenovo Athlon Dual Core</td>\n",
              "      <td>4 GB</td>\n",
              "      <td>256 GB SSD</td>\n",
              "      <td>DOS</td>\n",
              "      <td>E41-55 45-2 Laptop</td>\n",
              "    </tr>\n",
              "    <tr>\n",
              "      <th>8</th>\n",
              "      <td>4.0</td>\n",
              "      <td>33999.0</td>\n",
              "      <td>Lenovo V15 G2 Core i3 11th Gen</td>\n",
              "      <td>8 GB</td>\n",
              "      <td>512 GB SSD</td>\n",
              "      <td>Windows 11 Home</td>\n",
              "      <td>V15 ITL G2 Laptop</td>\n",
              "    </tr>\n",
              "    <tr>\n",
              "      <th>11</th>\n",
              "      <td>0.0</td>\n",
              "      <td>39990.0</td>\n",
              "      <td>HP Laptop Core i3 11th Gen</td>\n",
              "      <td>8 GB</td>\n",
              "      <td>512 GB SSD</td>\n",
              "      <td>Windows 11 Home</td>\n",
              "      <td>15s-fq2717TU Thin and Light Laptop</td>\n",
              "    </tr>\n",
              "  </tbody>\n",
              "</table>\n",
              "</div>"
            ],
            "text/plain": [
              "    rating    price                            model   RAM     Storage  \\\n",
              "5      3.9  18990.0         Lenovo Athlon Dual Core   4 GB  256 GB SSD   \n",
              "8      4.0  33999.0  Lenovo V15 G2 Core i3 11th Gen   8 GB  512 GB SSD   \n",
              "11     0.0  39990.0      HP Laptop Core i3 11th Gen   8 GB  512 GB SSD   \n",
              "\n",
              "             System                           Other_Info  \n",
              "5               DOS                   E41-55 45-2 Laptop  \n",
              "8   Windows 11 Home                    V15 ITL G2 Laptop  \n",
              "11  Windows 11 Home   15s-fq2717TU Thin and Light Laptop  "
            ]
          },
          "execution_count": 112,
          "metadata": {},
          "output_type": "execute_result"
        }
      ],
      "source": [
        "#<COMPLETA>"
      ]
    },
    {
      "cell_type": "code",
      "source": [
        "laptop_df[laptop_df['rating']<=4]"
      ],
      "metadata": {
        "colab": {
          "base_uri": "https://localhost:8080/",
          "height": 143
        },
        "id": "Dxyib5nEDEeQ",
        "outputId": "ab3a8d2b-fa90-4fa9-af6b-a0dbec8de2ee"
      },
      "id": "Dxyib5nEDEeQ",
      "execution_count": null,
      "outputs": [
        {
          "output_type": "execute_result",
          "data": {
            "text/plain": [
              "    price  rating                          model   RAM             Storage  \\\n",
              "0   21800     3.8    HP intel Celeron Dual Core   4 GB  64 GB EMMC Storage   \n",
              "6   18990     3.9       Lenovo Athlon Dual Core   4 GB          256 GB SSD   \n",
              "12  37990     4.0  DELL Vostro Core i3 11th Gen   8 GB            1 TB HDD   \n",
              "\n",
              "                            OS                             Model  \n",
              "0                    Chrome OS          14a- na1004TU Chromebook  \n",
              "6                          DOS                E41-55 45-2 Laptop  \n",
              "12  256 GB SSD/Windows 11 Home   Vostro 3510 Thin and Light L...  "
            ],
            "text/html": [
              "\n",
              "  <div id=\"df-8fc03b70-cc82-452a-bae8-50a62d40f393\">\n",
              "    <div class=\"colab-df-container\">\n",
              "      <div>\n",
              "<style scoped>\n",
              "    .dataframe tbody tr th:only-of-type {\n",
              "        vertical-align: middle;\n",
              "    }\n",
              "\n",
              "    .dataframe tbody tr th {\n",
              "        vertical-align: top;\n",
              "    }\n",
              "\n",
              "    .dataframe thead th {\n",
              "        text-align: right;\n",
              "    }\n",
              "</style>\n",
              "<table border=\"1\" class=\"dataframe\">\n",
              "  <thead>\n",
              "    <tr style=\"text-align: right;\">\n",
              "      <th></th>\n",
              "      <th>price</th>\n",
              "      <th>rating</th>\n",
              "      <th>model</th>\n",
              "      <th>RAM</th>\n",
              "      <th>Storage</th>\n",
              "      <th>OS</th>\n",
              "      <th>Model</th>\n",
              "    </tr>\n",
              "  </thead>\n",
              "  <tbody>\n",
              "    <tr>\n",
              "      <th>0</th>\n",
              "      <td>21800</td>\n",
              "      <td>3.8</td>\n",
              "      <td>HP intel Celeron Dual Core</td>\n",
              "      <td>4 GB</td>\n",
              "      <td>64 GB EMMC Storage</td>\n",
              "      <td>Chrome OS</td>\n",
              "      <td>14a- na1004TU Chromebook</td>\n",
              "    </tr>\n",
              "    <tr>\n",
              "      <th>6</th>\n",
              "      <td>18990</td>\n",
              "      <td>3.9</td>\n",
              "      <td>Lenovo Athlon Dual Core</td>\n",
              "      <td>4 GB</td>\n",
              "      <td>256 GB SSD</td>\n",
              "      <td>DOS</td>\n",
              "      <td>E41-55 45-2 Laptop</td>\n",
              "    </tr>\n",
              "    <tr>\n",
              "      <th>12</th>\n",
              "      <td>37990</td>\n",
              "      <td>4.0</td>\n",
              "      <td>DELL Vostro Core i3 11th Gen</td>\n",
              "      <td>8 GB</td>\n",
              "      <td>1 TB HDD</td>\n",
              "      <td>256 GB SSD/Windows 11 Home</td>\n",
              "      <td>Vostro 3510 Thin and Light L...</td>\n",
              "    </tr>\n",
              "  </tbody>\n",
              "</table>\n",
              "</div>\n",
              "      <button class=\"colab-df-convert\" onclick=\"convertToInteractive('df-8fc03b70-cc82-452a-bae8-50a62d40f393')\"\n",
              "              title=\"Convert this dataframe to an interactive table.\"\n",
              "              style=\"display:none;\">\n",
              "        \n",
              "  <svg xmlns=\"http://www.w3.org/2000/svg\" height=\"24px\"viewBox=\"0 0 24 24\"\n",
              "       width=\"24px\">\n",
              "    <path d=\"M0 0h24v24H0V0z\" fill=\"none\"/>\n",
              "    <path d=\"M18.56 5.44l.94 2.06.94-2.06 2.06-.94-2.06-.94-.94-2.06-.94 2.06-2.06.94zm-11 1L8.5 8.5l.94-2.06 2.06-.94-2.06-.94L8.5 2.5l-.94 2.06-2.06.94zm10 10l.94 2.06.94-2.06 2.06-.94-2.06-.94-.94-2.06-.94 2.06-2.06.94z\"/><path d=\"M17.41 7.96l-1.37-1.37c-.4-.4-.92-.59-1.43-.59-.52 0-1.04.2-1.43.59L10.3 9.45l-7.72 7.72c-.78.78-.78 2.05 0 2.83L4 21.41c.39.39.9.59 1.41.59.51 0 1.02-.2 1.41-.59l7.78-7.78 2.81-2.81c.8-.78.8-2.07 0-2.86zM5.41 20L4 18.59l7.72-7.72 1.47 1.35L5.41 20z\"/>\n",
              "  </svg>\n",
              "      </button>\n",
              "      \n",
              "  <style>\n",
              "    .colab-df-container {\n",
              "      display:flex;\n",
              "      flex-wrap:wrap;\n",
              "      gap: 12px;\n",
              "    }\n",
              "\n",
              "    .colab-df-convert {\n",
              "      background-color: #E8F0FE;\n",
              "      border: none;\n",
              "      border-radius: 50%;\n",
              "      cursor: pointer;\n",
              "      display: none;\n",
              "      fill: #1967D2;\n",
              "      height: 32px;\n",
              "      padding: 0 0 0 0;\n",
              "      width: 32px;\n",
              "    }\n",
              "\n",
              "    .colab-df-convert:hover {\n",
              "      background-color: #E2EBFA;\n",
              "      box-shadow: 0px 1px 2px rgba(60, 64, 67, 0.3), 0px 1px 3px 1px rgba(60, 64, 67, 0.15);\n",
              "      fill: #174EA6;\n",
              "    }\n",
              "\n",
              "    [theme=dark] .colab-df-convert {\n",
              "      background-color: #3B4455;\n",
              "      fill: #D2E3FC;\n",
              "    }\n",
              "\n",
              "    [theme=dark] .colab-df-convert:hover {\n",
              "      background-color: #434B5C;\n",
              "      box-shadow: 0px 1px 3px 1px rgba(0, 0, 0, 0.15);\n",
              "      filter: drop-shadow(0px 1px 2px rgba(0, 0, 0, 0.3));\n",
              "      fill: #FFFFFF;\n",
              "    }\n",
              "  </style>\n",
              "\n",
              "      <script>\n",
              "        const buttonEl =\n",
              "          document.querySelector('#df-8fc03b70-cc82-452a-bae8-50a62d40f393 button.colab-df-convert');\n",
              "        buttonEl.style.display =\n",
              "          google.colab.kernel.accessAllowed ? 'block' : 'none';\n",
              "\n",
              "        async function convertToInteractive(key) {\n",
              "          const element = document.querySelector('#df-8fc03b70-cc82-452a-bae8-50a62d40f393');\n",
              "          const dataTable =\n",
              "            await google.colab.kernel.invokeFunction('convertToInteractive',\n",
              "                                                     [key], {});\n",
              "          if (!dataTable) return;\n",
              "\n",
              "          const docLinkHtml = 'Like what you see? Visit the ' +\n",
              "            '<a target=\"_blank\" href=https://colab.research.google.com/notebooks/data_table.ipynb>data table notebook</a>'\n",
              "            + ' to learn more about interactive tables.';\n",
              "          element.innerHTML = '';\n",
              "          dataTable['output_type'] = 'display_data';\n",
              "          await google.colab.output.renderOutput(dataTable, element);\n",
              "          const docLink = document.createElement('div');\n",
              "          docLink.innerHTML = docLinkHtml;\n",
              "          element.appendChild(docLink);\n",
              "        }\n",
              "      </script>\n",
              "    </div>\n",
              "  </div>\n",
              "  "
            ]
          },
          "metadata": {},
          "execution_count": 117
        }
      ]
    },
    {
      "cell_type": "code",
      "execution_count": null,
      "id": "2a495589",
      "metadata": {
        "id": "2a495589",
        "outputId": "0c28481d-614f-4416-8ebd-05d1dbf7671d"
      },
      "outputs": [
        {
          "data": {
            "text/html": [
              "<div>\n",
              "<style scoped>\n",
              "    .dataframe tbody tr th:only-of-type {\n",
              "        vertical-align: middle;\n",
              "    }\n",
              "\n",
              "    .dataframe tbody tr th {\n",
              "        vertical-align: top;\n",
              "    }\n",
              "\n",
              "    .dataframe thead th {\n",
              "        text-align: right;\n",
              "    }\n",
              "</style>\n",
              "<table border=\"1\" class=\"dataframe\">\n",
              "  <thead>\n",
              "    <tr style=\"text-align: right;\">\n",
              "      <th></th>\n",
              "      <th>rating</th>\n",
              "      <th>price</th>\n",
              "      <th>model</th>\n",
              "      <th>RAM</th>\n",
              "      <th>Storage</th>\n",
              "      <th>System</th>\n",
              "      <th>Other_Info</th>\n",
              "    </tr>\n",
              "  </thead>\n",
              "  <tbody>\n",
              "    <tr>\n",
              "      <th>1</th>\n",
              "      <td>4.2</td>\n",
              "      <td>37990.0</td>\n",
              "      <td>HP 14s Intel Core i3 11th Gen</td>\n",
              "      <td>8 GB</td>\n",
              "      <td>256 GB SSD</td>\n",
              "      <td>Windows 11 Home</td>\n",
              "      <td>14s - dy2507TU Thin and Light Laptop</td>\n",
              "    </tr>\n",
              "    <tr>\n",
              "      <th>4</th>\n",
              "      <td>4.3</td>\n",
              "      <td>33990.0</td>\n",
              "      <td>ASUS VivoBook 15 (2022) Core i3 10th Gen</td>\n",
              "      <td>8 GB</td>\n",
              "      <td>512 GB SSD</td>\n",
              "      <td>Windows 11 Home</td>\n",
              "      <td>X515JA-EJ362WS | X515JA-E...</td>\n",
              "    </tr>\n",
              "    <tr>\n",
              "      <th>6</th>\n",
              "      <td>4.1</td>\n",
              "      <td>38990.0</td>\n",
              "      <td>RedmiBook Pro Core i5 11th Gen</td>\n",
              "      <td>8 GB</td>\n",
              "      <td>512 GB SSD</td>\n",
              "      <td>Windows 11 Home</td>\n",
              "      <td>Thin and Light Laptop</td>\n",
              "    </tr>\n",
              "    <tr>\n",
              "      <th>8</th>\n",
              "      <td>4.0</td>\n",
              "      <td>33999.0</td>\n",
              "      <td>Lenovo V15 G2 Core i3 11th Gen</td>\n",
              "      <td>8 GB</td>\n",
              "      <td>512 GB SSD</td>\n",
              "      <td>Windows 11 Home</td>\n",
              "      <td>V15 ITL G2 Laptop</td>\n",
              "    </tr>\n",
              "    <tr>\n",
              "      <th>16</th>\n",
              "      <td>4.1</td>\n",
              "      <td>39990.0</td>\n",
              "      <td>DELL Vostro Core i3 11th Gen</td>\n",
              "      <td>8 GB</td>\n",
              "      <td>1 TB HDD</td>\n",
              "      <td>256 GB SSD/Windows 11 Home</td>\n",
              "      <td>Vostro 3510 Thin and Light L...</td>\n",
              "    </tr>\n",
              "    <tr>\n",
              "      <th>18</th>\n",
              "      <td>4.4</td>\n",
              "      <td>36990.0</td>\n",
              "      <td>realme Book (Slim) Core i3 11th Gen</td>\n",
              "      <td>8 GB</td>\n",
              "      <td>256 GB SSD</td>\n",
              "      <td>Windows 10 Home</td>\n",
              "      <td>RMNB1001 Thin and Light Laptop</td>\n",
              "    </tr>\n",
              "    <tr>\n",
              "      <th>22</th>\n",
              "      <td>4.3</td>\n",
              "      <td>38699.0</td>\n",
              "      <td>Lenovo IdeaPad 3 Core i3 11th Gen</td>\n",
              "      <td>8 GB</td>\n",
              "      <td>512 GB SSD</td>\n",
              "      <td>Windows 11 Home</td>\n",
              "      <td>82H801L7IN | 82H802FJIN | 82H802...</td>\n",
              "    </tr>\n",
              "  </tbody>\n",
              "</table>\n",
              "</div>"
            ],
            "text/plain": [
              "    rating    price                                      model   RAM  \\\n",
              "1      4.2  37990.0             HP 14s Intel Core i3 11th Gen   8 GB   \n",
              "4      4.3  33990.0  ASUS VivoBook 15 (2022) Core i3 10th Gen   8 GB   \n",
              "6      4.1  38990.0            RedmiBook Pro Core i5 11th Gen   8 GB   \n",
              "8      4.0  33999.0            Lenovo V15 G2 Core i3 11th Gen   8 GB   \n",
              "16     4.1  39990.0              DELL Vostro Core i3 11th Gen   8 GB   \n",
              "18     4.4  36990.0       realme Book (Slim) Core i3 11th Gen   8 GB   \n",
              "22     4.3  38699.0         Lenovo IdeaPad 3 Core i3 11th Gen   8 GB   \n",
              "\n",
              "       Storage                      System  \\\n",
              "1   256 GB SSD             Windows 11 Home   \n",
              "4   512 GB SSD             Windows 11 Home   \n",
              "6   512 GB SSD             Windows 11 Home   \n",
              "8   512 GB SSD             Windows 11 Home   \n",
              "16    1 TB HDD  256 GB SSD/Windows 11 Home   \n",
              "18  256 GB SSD             Windows 10 Home   \n",
              "22  512 GB SSD             Windows 11 Home   \n",
              "\n",
              "                               Other_Info  \n",
              "1    14s - dy2507TU Thin and Light Laptop  \n",
              "4            X515JA-EJ362WS | X515JA-E...  \n",
              "6                   Thin and Light Laptop  \n",
              "8                       V15 ITL G2 Laptop  \n",
              "16        Vostro 3510 Thin and Light L...  \n",
              "18         RMNB1001 Thin and Light Laptop  \n",
              "22    82H801L7IN | 82H802FJIN | 82H802...  "
            ]
          },
          "execution_count": 115,
          "metadata": {},
          "output_type": "execute_result"
        }
      ],
      "source": [
        "#<COMPLETA>"
      ]
    },
    {
      "cell_type": "code",
      "source": [
        "laptop_df.isnull().sum()"
      ],
      "metadata": {
        "colab": {
          "base_uri": "https://localhost:8080/"
        },
        "id": "lEObSteyEDVb",
        "outputId": "bb7ed043-579f-43f6-c93e-6ee596da8dfd"
      },
      "id": "lEObSteyEDVb",
      "execution_count": null,
      "outputs": [
        {
          "output_type": "execute_result",
          "data": {
            "text/plain": [
              "price      0\n",
              "rating     0\n",
              "model      0\n",
              "RAM        0\n",
              "Storage    0\n",
              "OS         0\n",
              "Model      4\n",
              "dtype: int64"
            ]
          },
          "metadata": {},
          "execution_count": 125
        }
      ]
    },
    {
      "cell_type": "code",
      "source": [
        "x1=laptop_df[laptop_df[laptop_df['rating']>=3.5][\"price\"]>30000]\n",
        "x2=x1[x1['price']<45000]\n",
        "x2\n",
        "          \n",
        "      "
      ],
      "metadata": {
        "colab": {
          "base_uri": "https://localhost:8080/",
          "height": 363
        },
        "id": "Q_0TS95CDTZJ",
        "outputId": "0bb0cdba-fca9-4151-aa5b-e3d73d58f510"
      },
      "id": "Q_0TS95CDTZJ",
      "execution_count": null,
      "outputs": [
        {
          "output_type": "execute_result",
          "data": {
            "text/plain": [
              "    price  rating                                      model   RAM  \\\n",
              "1   39900     4.2             HP 14s Intel Core i3 11th Gen   8 GB   \n",
              "3   32990     4.3  ASUS VivoBook 15 (2022) Core i3 10th Gen   8 GB   \n",
              "4   35490     4.2             HP 14s Intel Core i3 11th Gen   8 GB   \n",
              "7   44800     4.3  Lenovo IdeaPad 3 Ryzen 5 Hexa Core 5500U   8 GB   \n",
              "8   40450     4.3             HP 15s Intel Core i3 11th Gen   8 GB   \n",
              "10  36990     4.1              DELL Vostro Core i3 10th Gen   8 GB   \n",
              "12  37990     4.0              DELL Vostro Core i3 11th Gen   8 GB   \n",
              "14  43990     4.2             HP 15s Intel Core i3 12th Gen   8 GB   \n",
              "18  35990     4.1         ASUS Vivobook 15 Core i3 11th Gen   8 GB   \n",
              "21  38990     4.1            RedmiBook Pro Core i5 11th Gen   8 GB   \n",
              "\n",
              "       Storage                          OS  \\\n",
              "1   512 GB SSD             Windows 11 Home   \n",
              "3   512 GB SSD             Windows 11 Home   \n",
              "4   256 GB SSD             Windows 11 Home   \n",
              "7   512 GB SSD             Windows 11 Home   \n",
              "8   512 GB SSD             Windows 11 Home   \n",
              "10  512 GB SSD             Windows 11 Home   \n",
              "12    1 TB HDD  256 GB SSD/Windows 11 Home   \n",
              "14  512 GB SSD             Windows 11 Home   \n",
              "18  512 GB SSD             Windows 11 Home   \n",
              "21  512 GB SSD             Windows 11 Home   \n",
              "\n",
              "                                    Model  \n",
              "1    14s - dy2508TU Thin and Light Laptop  \n",
              "3            X515JA-EJ362WS | X515JA-E...  \n",
              "4    14s - dy2507TU Thin and Light Laptop  \n",
              "7            15ALC6 Thin and Light Lap...  \n",
              "8      15s-fr2511TU Thin and Light Laptop  \n",
              "10      Vostro 3510 Thin and Light Laptop  \n",
              "12        Vostro 3510 Thin and Light L...  \n",
              "14     15s-fq5007TU Thin and Light Laptop  \n",
              "18    X515EA-EJ322WS Thin and Light La...  \n",
              "21                  Thin and Light Laptop  "
            ],
            "text/html": [
              "\n",
              "  <div id=\"df-472842f6-3335-49a6-857c-f89bacf3e38e\">\n",
              "    <div class=\"colab-df-container\">\n",
              "      <div>\n",
              "<style scoped>\n",
              "    .dataframe tbody tr th:only-of-type {\n",
              "        vertical-align: middle;\n",
              "    }\n",
              "\n",
              "    .dataframe tbody tr th {\n",
              "        vertical-align: top;\n",
              "    }\n",
              "\n",
              "    .dataframe thead th {\n",
              "        text-align: right;\n",
              "    }\n",
              "</style>\n",
              "<table border=\"1\" class=\"dataframe\">\n",
              "  <thead>\n",
              "    <tr style=\"text-align: right;\">\n",
              "      <th></th>\n",
              "      <th>price</th>\n",
              "      <th>rating</th>\n",
              "      <th>model</th>\n",
              "      <th>RAM</th>\n",
              "      <th>Storage</th>\n",
              "      <th>OS</th>\n",
              "      <th>Model</th>\n",
              "    </tr>\n",
              "  </thead>\n",
              "  <tbody>\n",
              "    <tr>\n",
              "      <th>1</th>\n",
              "      <td>39900</td>\n",
              "      <td>4.2</td>\n",
              "      <td>HP 14s Intel Core i3 11th Gen</td>\n",
              "      <td>8 GB</td>\n",
              "      <td>512 GB SSD</td>\n",
              "      <td>Windows 11 Home</td>\n",
              "      <td>14s - dy2508TU Thin and Light Laptop</td>\n",
              "    </tr>\n",
              "    <tr>\n",
              "      <th>3</th>\n",
              "      <td>32990</td>\n",
              "      <td>4.3</td>\n",
              "      <td>ASUS VivoBook 15 (2022) Core i3 10th Gen</td>\n",
              "      <td>8 GB</td>\n",
              "      <td>512 GB SSD</td>\n",
              "      <td>Windows 11 Home</td>\n",
              "      <td>X515JA-EJ362WS | X515JA-E...</td>\n",
              "    </tr>\n",
              "    <tr>\n",
              "      <th>4</th>\n",
              "      <td>35490</td>\n",
              "      <td>4.2</td>\n",
              "      <td>HP 14s Intel Core i3 11th Gen</td>\n",
              "      <td>8 GB</td>\n",
              "      <td>256 GB SSD</td>\n",
              "      <td>Windows 11 Home</td>\n",
              "      <td>14s - dy2507TU Thin and Light Laptop</td>\n",
              "    </tr>\n",
              "    <tr>\n",
              "      <th>7</th>\n",
              "      <td>44800</td>\n",
              "      <td>4.3</td>\n",
              "      <td>Lenovo IdeaPad 3 Ryzen 5 Hexa Core 5500U</td>\n",
              "      <td>8 GB</td>\n",
              "      <td>512 GB SSD</td>\n",
              "      <td>Windows 11 Home</td>\n",
              "      <td>15ALC6 Thin and Light Lap...</td>\n",
              "    </tr>\n",
              "    <tr>\n",
              "      <th>8</th>\n",
              "      <td>40450</td>\n",
              "      <td>4.3</td>\n",
              "      <td>HP 15s Intel Core i3 11th Gen</td>\n",
              "      <td>8 GB</td>\n",
              "      <td>512 GB SSD</td>\n",
              "      <td>Windows 11 Home</td>\n",
              "      <td>15s-fr2511TU Thin and Light Laptop</td>\n",
              "    </tr>\n",
              "    <tr>\n",
              "      <th>10</th>\n",
              "      <td>36990</td>\n",
              "      <td>4.1</td>\n",
              "      <td>DELL Vostro Core i3 10th Gen</td>\n",
              "      <td>8 GB</td>\n",
              "      <td>512 GB SSD</td>\n",
              "      <td>Windows 11 Home</td>\n",
              "      <td>Vostro 3510 Thin and Light Laptop</td>\n",
              "    </tr>\n",
              "    <tr>\n",
              "      <th>12</th>\n",
              "      <td>37990</td>\n",
              "      <td>4.0</td>\n",
              "      <td>DELL Vostro Core i3 11th Gen</td>\n",
              "      <td>8 GB</td>\n",
              "      <td>1 TB HDD</td>\n",
              "      <td>256 GB SSD/Windows 11 Home</td>\n",
              "      <td>Vostro 3510 Thin and Light L...</td>\n",
              "    </tr>\n",
              "    <tr>\n",
              "      <th>14</th>\n",
              "      <td>43990</td>\n",
              "      <td>4.2</td>\n",
              "      <td>HP 15s Intel Core i3 12th Gen</td>\n",
              "      <td>8 GB</td>\n",
              "      <td>512 GB SSD</td>\n",
              "      <td>Windows 11 Home</td>\n",
              "      <td>15s-fq5007TU Thin and Light Laptop</td>\n",
              "    </tr>\n",
              "    <tr>\n",
              "      <th>18</th>\n",
              "      <td>35990</td>\n",
              "      <td>4.1</td>\n",
              "      <td>ASUS Vivobook 15 Core i3 11th Gen</td>\n",
              "      <td>8 GB</td>\n",
              "      <td>512 GB SSD</td>\n",
              "      <td>Windows 11 Home</td>\n",
              "      <td>X515EA-EJ322WS Thin and Light La...</td>\n",
              "    </tr>\n",
              "    <tr>\n",
              "      <th>21</th>\n",
              "      <td>38990</td>\n",
              "      <td>4.1</td>\n",
              "      <td>RedmiBook Pro Core i5 11th Gen</td>\n",
              "      <td>8 GB</td>\n",
              "      <td>512 GB SSD</td>\n",
              "      <td>Windows 11 Home</td>\n",
              "      <td>Thin and Light Laptop</td>\n",
              "    </tr>\n",
              "  </tbody>\n",
              "</table>\n",
              "</div>\n",
              "      <button class=\"colab-df-convert\" onclick=\"convertToInteractive('df-472842f6-3335-49a6-857c-f89bacf3e38e')\"\n",
              "              title=\"Convert this dataframe to an interactive table.\"\n",
              "              style=\"display:none;\">\n",
              "        \n",
              "  <svg xmlns=\"http://www.w3.org/2000/svg\" height=\"24px\"viewBox=\"0 0 24 24\"\n",
              "       width=\"24px\">\n",
              "    <path d=\"M0 0h24v24H0V0z\" fill=\"none\"/>\n",
              "    <path d=\"M18.56 5.44l.94 2.06.94-2.06 2.06-.94-2.06-.94-.94-2.06-.94 2.06-2.06.94zm-11 1L8.5 8.5l.94-2.06 2.06-.94-2.06-.94L8.5 2.5l-.94 2.06-2.06.94zm10 10l.94 2.06.94-2.06 2.06-.94-2.06-.94-.94-2.06-.94 2.06-2.06.94z\"/><path d=\"M17.41 7.96l-1.37-1.37c-.4-.4-.92-.59-1.43-.59-.52 0-1.04.2-1.43.59L10.3 9.45l-7.72 7.72c-.78.78-.78 2.05 0 2.83L4 21.41c.39.39.9.59 1.41.59.51 0 1.02-.2 1.41-.59l7.78-7.78 2.81-2.81c.8-.78.8-2.07 0-2.86zM5.41 20L4 18.59l7.72-7.72 1.47 1.35L5.41 20z\"/>\n",
              "  </svg>\n",
              "      </button>\n",
              "      \n",
              "  <style>\n",
              "    .colab-df-container {\n",
              "      display:flex;\n",
              "      flex-wrap:wrap;\n",
              "      gap: 12px;\n",
              "    }\n",
              "\n",
              "    .colab-df-convert {\n",
              "      background-color: #E8F0FE;\n",
              "      border: none;\n",
              "      border-radius: 50%;\n",
              "      cursor: pointer;\n",
              "      display: none;\n",
              "      fill: #1967D2;\n",
              "      height: 32px;\n",
              "      padding: 0 0 0 0;\n",
              "      width: 32px;\n",
              "    }\n",
              "\n",
              "    .colab-df-convert:hover {\n",
              "      background-color: #E2EBFA;\n",
              "      box-shadow: 0px 1px 2px rgba(60, 64, 67, 0.3), 0px 1px 3px 1px rgba(60, 64, 67, 0.15);\n",
              "      fill: #174EA6;\n",
              "    }\n",
              "\n",
              "    [theme=dark] .colab-df-convert {\n",
              "      background-color: #3B4455;\n",
              "      fill: #D2E3FC;\n",
              "    }\n",
              "\n",
              "    [theme=dark] .colab-df-convert:hover {\n",
              "      background-color: #434B5C;\n",
              "      box-shadow: 0px 1px 3px 1px rgba(0, 0, 0, 0.15);\n",
              "      filter: drop-shadow(0px 1px 2px rgba(0, 0, 0, 0.3));\n",
              "      fill: #FFFFFF;\n",
              "    }\n",
              "  </style>\n",
              "\n",
              "      <script>\n",
              "        const buttonEl =\n",
              "          document.querySelector('#df-472842f6-3335-49a6-857c-f89bacf3e38e button.colab-df-convert');\n",
              "        buttonEl.style.display =\n",
              "          google.colab.kernel.accessAllowed ? 'block' : 'none';\n",
              "\n",
              "        async function convertToInteractive(key) {\n",
              "          const element = document.querySelector('#df-472842f6-3335-49a6-857c-f89bacf3e38e');\n",
              "          const dataTable =\n",
              "            await google.colab.kernel.invokeFunction('convertToInteractive',\n",
              "                                                     [key], {});\n",
              "          if (!dataTable) return;\n",
              "\n",
              "          const docLinkHtml = 'Like what you see? Visit the ' +\n",
              "            '<a target=\"_blank\" href=https://colab.research.google.com/notebooks/data_table.ipynb>data table notebook</a>'\n",
              "            + ' to learn more about interactive tables.';\n",
              "          element.innerHTML = '';\n",
              "          dataTable['output_type'] = 'display_data';\n",
              "          await google.colab.output.renderOutput(dataTable, element);\n",
              "          const docLink = document.createElement('div');\n",
              "          docLink.innerHTML = docLinkHtml;\n",
              "          element.appendChild(docLink);\n",
              "        }\n",
              "      </script>\n",
              "    </div>\n",
              "  </div>\n",
              "  "
            ]
          },
          "metadata": {},
          "execution_count": 143
        }
      ]
    },
    {
      "cell_type": "markdown",
      "id": "c3220365",
      "metadata": {
        "id": "c3220365"
      },
      "source": [
        "---------\n",
        "\n",
        "### Visualización de los datos"
      ]
    },
    {
      "cell_type": "code",
      "execution_count": null,
      "id": "8f25f9bd",
      "metadata": {
        "id": "8f25f9bd"
      },
      "outputs": [],
      "source": [
        "#<COMPLETA>"
      ]
    },
    {
      "cell_type": "markdown",
      "id": "29c22216",
      "metadata": {
        "id": "29c22216"
      },
      "source": [
        "Realizaremos una gráfica de barras de precio vs rating"
      ]
    },
    {
      "cell_type": "code",
      "execution_count": null,
      "id": "90ac0325",
      "metadata": {
        "id": "90ac0325",
        "outputId": "9ccc769d-3aaf-49b3-b18f-5b01fcc07d1c"
      },
      "outputs": [
        {
          "data": {
            "image/png": "[encoded data removed]",
            "text/plain": [
              "<Figure size 2000x1000 with 1 Axes>"
            ]
          },
          "metadata": {},
          "output_type": "display_data"
        }
      ],
      "source": [
        "#<COMPLETA>"
      ]
    },
    {
      "cell_type": "code",
      "source": [
        "#import seaborn as sns\n",
        "#import matplotlib.pyplot as plt\n",
        "#%matplotlib inline\n",
        "\n",
        "\n",
        "sns.set(rc={'figure.figsize':(30,15)})\n",
        "sns.barplot(laptop_df['price'], laptop_df['rating'])"
      ],
      "metadata": {
        "colab": {
          "base_uri": "https://localhost:8080/",
          "height": 955
        },
        "id": "dfaaccEmHOzw",
        "outputId": "5f1e4d74-9dea-4191-e645-4b8c7915183a"
      },
      "id": "dfaaccEmHOzw",
      "execution_count": null,
      "outputs": [
        {
          "output_type": "stream",
          "name": "stderr",
          "text": [
            "/usr/local/lib/python3.8/dist-packages/seaborn/_decorators.py:36: FutureWarning: Pass the following variables as keyword args: x, y. From version 0.12, the only valid positional argument will be `data`, and passing other arguments without an explicit keyword will result in an error or misinterpretation.\n",
            "  warnings.warn(\n"
          ]
        },
        {
          "output_type": "execute_result",
          "data": {
            "text/plain": [
              "<AxesSubplot:xlabel='price', ylabel='rating'>"
            ]
          },
          "metadata": {},
          "execution_count": 148
        },
        {
          "output_type": "display_data",
          "data": {
            "text/plain": [
              "<Figure size 2160x1080 with 1 Axes>"
            ],
            "image/png": "[encoded data removed]"
          },
          "metadata": {}
        }
      ]
    },
    {
      "cell_type": "code",
      "execution_count": null,
      "id": "bf167255",
      "metadata": {
        "id": "bf167255",
        "outputId": "f50772e0-a1ad-4deb-b90a-8fa18c5557ca"
      },
      "outputs": [
        {
          "data": {
            "text/plain": [
              "Text(0.5, 1.0, 'Calificación vs Precio')"
            ]
          },
          "execution_count": 121,
          "metadata": {},
          "output_type": "execute_result"
        },
        {
          "data": {
            "image/png": "[encoded data removed]",
            "text/plain": [
              "<Figure size 2000x1000 with 1 Axes>"
            ]
          },
          "metadata": {},
          "output_type": "display_data"
        }
      ],
      "source": [
        "#<COMPLETA>"
      ]
    },
    {
      "cell_type": "code",
      "source": [
        "#sns.set(rc={'figure.figsize':(30,15)})\n",
        "sns.barplot(laptop_df['rating'], laptop_df['price']).set_title(\"Calificacion vs precio\")\n"
      ],
      "metadata": {
        "colab": {
          "base_uri": "https://localhost:8080/",
          "height": 971
        },
        "id": "jc58OlEPH1Cq",
        "outputId": "ca071e86-624f-43ee-a6f7-067460685534"
      },
      "id": "jc58OlEPH1Cq",
      "execution_count": null,
      "outputs": [
        {
          "output_type": "stream",
          "name": "stderr",
          "text": [
            "/usr/local/lib/python3.8/dist-packages/seaborn/_decorators.py:36: FutureWarning: Pass the following variables as keyword args: x, y. From version 0.12, the only valid positional argument will be `data`, and passing other arguments without an explicit keyword will result in an error or misinterpretation.\n",
            "  warnings.warn(\n"
          ]
        },
        {
          "output_type": "execute_result",
          "data": {
            "text/plain": [
              "Text(0.5, 1.0, 'Calificacion vs precio')"
            ]
          },
          "metadata": {},
          "execution_count": 156
        },
        {
          "output_type": "display_data",
          "data": {
            "text/plain": [
              "<Figure size 2160x1080 with 1 Axes>"
            ],
            "image/png": "[encoded data removed]"
          },
          "metadata": {}
        }
      ]
    },
    {
      "cell_type": "markdown",
      "id": "5d18631d",
      "metadata": {
        "id": "5d18631d"
      },
      "source": [
        "Podemos concluir a partir de aquí que los productos con precios más altos tienen calificaciones más altas hasta cierto punto."
      ]
    },
    {
      "cell_type": "code",
      "execution_count": null,
      "id": "bde1c60a",
      "metadata": {
        "id": "bde1c60a",
        "outputId": "5e734a9f-f10f-43b4-83a5-34a06265c188"
      },
      "outputs": [
        {
          "data": {
            "text/plain": [
              "Text(0.5, 1.0, 'Box plot')"
            ]
          },
          "execution_count": 123,
          "metadata": {},
          "output_type": "execute_result"
        },
        {
          "data": {
            "image/png": "[encoded data removed]",
            "text/plain": [
              "<Figure size 640x480 with 1 Axes>"
            ]
          },
          "metadata": {},
          "output_type": "display_data"
        }
      ],
      "source": [
        "#<COMPLETA>"
      ]
    },
    {
      "cell_type": "code",
      "source": [
        "sns.set(rc={'figure.figsize':(10,7)})\n",
        "sns.violinplot(x=laptop_df['price'])\n",
        "sns.boxplot(x=laptop_df['price'])"
      ],
      "metadata": {
        "colab": {
          "base_uri": "https://localhost:8080/",
          "height": 465
        },
        "id": "w0tMzKvfI4Ze",
        "outputId": "f04c0a21-5896-4311-fc35-16802b9ec9f1"
      },
      "id": "w0tMzKvfI4Ze",
      "execution_count": null,
      "outputs": [
        {
          "output_type": "execute_result",
          "data": {
            "text/plain": [
              "<AxesSubplot:xlabel='price'>"
            ]
          },
          "metadata": {},
          "execution_count": 165
        },
        {
          "output_type": "display_data",
          "data": {
            "text/plain": [
              "<Figure size 720x504 with 1 Axes>"
            ],
            "image/png": "[encoded data removed]"
          },
          "metadata": {}
        }
      ]
    },
    {
      "cell_type": "markdown",
      "id": "d9b6c1f2",
      "metadata": {
        "id": "d9b6c1f2"
      },
      "source": [
        "## ¿Les ha salido algún discordante visual a ustedes?"
      ]
    },
    {
      "cell_type": "code",
      "execution_count": null,
      "id": "ff672d54",
      "metadata": {
        "id": "ff672d54",
        "outputId": "7b36eed4-8076-4762-fb51-66230dd4cd00"
      },
      "outputs": [
        {
          "data": {
            "text/html": [
              "<div>\n",
              "<style scoped>\n",
              "    .dataframe tbody tr th:only-of-type {\n",
              "        vertical-align: middle;\n",
              "    }\n",
              "\n",
              "    .dataframe tbody tr th {\n",
              "        vertical-align: top;\n",
              "    }\n",
              "\n",
              "    .dataframe thead th {\n",
              "        text-align: right;\n",
              "    }\n",
              "</style>\n",
              "<table border=\"1\" class=\"dataframe\">\n",
              "  <thead>\n",
              "    <tr style=\"text-align: right;\">\n",
              "      <th></th>\n",
              "      <th>rating</th>\n",
              "      <th>price</th>\n",
              "      <th>model</th>\n",
              "      <th>RAM</th>\n",
              "      <th>Storage</th>\n",
              "      <th>System</th>\n",
              "      <th>Other_Info</th>\n",
              "    </tr>\n",
              "  </thead>\n",
              "  <tbody>\n",
              "    <tr>\n",
              "      <th>3</th>\n",
              "      <td>4.7</td>\n",
              "      <td>86990.0</td>\n",
              "      <td>APPLE 2020 Macbook Air M1</td>\n",
              "      <td>8 GB</td>\n",
              "      <td>256 GB SSD</td>\n",
              "      <td>Mac OS Big Sur</td>\n",
              "      <td>MGN63HN/A</td>\n",
              "    </tr>\n",
              "    <tr>\n",
              "      <th>10</th>\n",
              "      <td>4.4</td>\n",
              "      <td>63990.0</td>\n",
              "      <td>ASUS TUF Gaming A17 with 90Whr Battery Ryzen 5...</td>\n",
              "      <td>8 GB</td>\n",
              "      <td>512 GB SSD</td>\n",
              "      <td>Windows 11 Ho...</td>\n",
              "      <td>NaN</td>\n",
              "    </tr>\n",
              "    <tr>\n",
              "      <th>13</th>\n",
              "      <td>4.7</td>\n",
              "      <td>86990.0</td>\n",
              "      <td>APPLE 2020 Macbook Air M1</td>\n",
              "      <td>8 GB</td>\n",
              "      <td>256 GB SSD</td>\n",
              "      <td>Mac OS Big Sur</td>\n",
              "      <td>MGN93HN/A</td>\n",
              "    </tr>\n",
              "    <tr>\n",
              "      <th>23</th>\n",
              "      <td>4.2</td>\n",
              "      <td>61400.0</td>\n",
              "      <td>HP 14s Intel Core i5 12th Gen</td>\n",
              "      <td>16 GB</td>\n",
              "      <td>512 GB SSD</td>\n",
              "      <td>Windows 11 Home</td>\n",
              "      <td>14s - dy5005TU Thin and Light Lapto...</td>\n",
              "    </tr>\n",
              "  </tbody>\n",
              "</table>\n",
              "</div>"
            ],
            "text/plain": [
              "    rating    price                                              model    RAM  \\\n",
              "3      4.7  86990.0                         APPLE 2020 Macbook Air M1    8 GB   \n",
              "10     4.4  63990.0  ASUS TUF Gaming A17 with 90Whr Battery Ryzen 5...   8 GB   \n",
              "13     4.7  86990.0                         APPLE 2020 Macbook Air M1    8 GB   \n",
              "23     4.2  61400.0                     HP 14s Intel Core i5 12th Gen   16 GB   \n",
              "\n",
              "       Storage            System                               Other_Info  \n",
              "3   256 GB SSD    Mac OS Big Sur                                MGN63HN/A  \n",
              "10  512 GB SSD  Windows 11 Ho...                                      NaN  \n",
              "13  256 GB SSD    Mac OS Big Sur                                MGN93HN/A  \n",
              "23  512 GB SSD   Windows 11 Home   14s - dy5005TU Thin and Light Lapto...  "
            ]
          },
          "execution_count": 124,
          "metadata": {},
          "output_type": "execute_result"
        }
      ],
      "source": [
        "#<COMPLETA>"
      ]
    },
    {
      "cell_type": "markdown",
      "id": "77359996",
      "metadata": {
        "id": "77359996"
      },
      "source": [
        "### ¿Para ustedes, cuáles fueron las computadoras más caras?"
      ]
    },
    {
      "cell_type": "code",
      "execution_count": null,
      "id": "4e5dfba8",
      "metadata": {
        "id": "4e5dfba8",
        "colab": {
          "base_uri": "https://localhost:8080/",
          "height": 802
        },
        "outputId": "21f90d11-bab2-4646-eb91-b8e39247ee29"
      },
      "outputs": [
        {
          "output_type": "execute_result",
          "data": {
            "text/plain": [
              "    price  rating                                              model    RAM  \\\n",
              "17  86990     4.7                         APPLE 2020 Macbook Air M1    8 GB   \n",
              "23  67990     4.4  ASUS TUF Gaming A17 with 90Whr Battery Ryzen 7...   8 GB   \n",
              "11  60990     4.5  Lenovo Lenovo IdeaPad Slim 3 Intel Core i5 11t...  16 GB   \n",
              "15  57990     4.3                   Lenovo IdeaPad Core i5 11th Gen    8 GB   \n",
              "22  56990     4.2                     HP 15s Intel Core i5 12th Gen    8 GB   \n",
              "19  53990     4.4  ASUS TUF Gaming A17 with 90Whr Battery Ryzen 5...   8 GB   \n",
              "20  52990     4.3                         HP Intel Core i5 11th Gen    8 GB   \n",
              "2   49990     4.4              ASUS TUF Gaming F15 Core i5 10th Gen    8 GB   \n",
              "9   49990     4.3                        HP Ryzen 5 Hexa Core 5500U   16 GB   \n",
              "16  49990     4.8                             ASUS Core i5 11th Gen    8 GB   \n",
              "7   44800     4.3          Lenovo IdeaPad 3 Ryzen 5 Hexa Core 5500U    8 GB   \n",
              "14  43990     4.2                     HP 15s Intel Core i3 12th Gen    8 GB   \n",
              "8   40450     4.3                     HP 15s Intel Core i3 11th Gen    8 GB   \n",
              "1   39900     4.2                     HP 14s Intel Core i3 11th Gen    8 GB   \n",
              "21  38990     4.1                    RedmiBook Pro Core i5 11th Gen    8 GB   \n",
              "12  37990     4.0                      DELL Vostro Core i3 11th Gen    8 GB   \n",
              "10  36990     4.1                      DELL Vostro Core i3 10th Gen    8 GB   \n",
              "18  35990     4.1                 ASUS Vivobook 15 Core i3 11th Gen    8 GB   \n",
              "4   35490     4.2                     HP 14s Intel Core i3 11th Gen    8 GB   \n",
              "3   32990     4.3          ASUS VivoBook 15 (2022) Core i3 10th Gen    8 GB   \n",
              "13  26990     4.2             acer Aspire 3 Ryzen 3 Dual Core 3250U    8 GB   \n",
              "5   21990     4.1         ASUS VivoBook 14 (2021) Celeron Dual Core    4 GB   \n",
              "0   21800     3.8                        HP intel Celeron Dual Core    4 GB   \n",
              "6   18990     3.9                           Lenovo Athlon Dual Core    4 GB   \n",
              "\n",
              "               Storage                                                 OS  \\\n",
              "17          256 GB SSD                                     Mac OS Big Sur   \n",
              "23          512 GB SSD                                   Windows 11 Ho...   \n",
              "11          512 GB SSD                                    Windows 11 Home   \n",
              "15          512 GB SSD  Windows 11 Home/4 GB Graphics/NVIDIA GeForce G...   \n",
              "22          512 GB SSD                                    Windows 11 Home   \n",
              "19          512 GB SSD                                   Windows 11 Ho...   \n",
              "20          512 GB SSD                                    Windows 11 Home   \n",
              "2           512 GB SSD  Windows 11 Home/4 GB Graphics/NVIDIA GeForce G...   \n",
              "9           512 GB SSD                                    Windows 11 Home   \n",
              "16          512 GB SSD                      Windows 10 Home/2 GB Graphics   \n",
              "7           512 GB SSD                                    Windows 11 Home   \n",
              "14          512 GB SSD                                    Windows 11 Home   \n",
              "8           512 GB SSD                                    Windows 11 Home   \n",
              "1           512 GB SSD                                    Windows 11 Home   \n",
              "21          512 GB SSD                                    Windows 11 Home   \n",
              "12            1 TB HDD                         256 GB SSD/Windows 11 Home   \n",
              "10          512 GB SSD                                    Windows 11 Home   \n",
              "18          512 GB SSD                                    Windows 11 Home   \n",
              "4           256 GB SSD                                    Windows 11 Home   \n",
              "3           512 GB SSD                                    Windows 11 Home   \n",
              "13          256 GB SSD                                    Windows 11 Home   \n",
              "5           256 GB SSD                                    Windows 11 Home   \n",
              "0   64 GB EMMC Storage                                          Chrome OS   \n",
              "6           256 GB SSD                                                DOS   \n",
              "\n",
              "                                    Model  \n",
              "17                              MGN63HN/A  \n",
              "23                                    NaN  \n",
              "11                       15ITL6 Thin a...  \n",
              "15                                    NaN  \n",
              "22     15s-fq5111TU Thin and Light Laptop  \n",
              "19                                    NaN  \n",
              "20    15s- fr4000TU Thin and Light Laptop  \n",
              "2                                     NaN  \n",
              "9     15s- eq2182AU Thin and Light Laptop  \n",
              "16      K513EP-BQ1092T Thin and Light ...  \n",
              "7            15ALC6 Thin and Light Lap...  \n",
              "14     15s-fq5007TU Thin and Light Laptop  \n",
              "8      15s-fr2511TU Thin and Light Laptop  \n",
              "1    14s - dy2508TU Thin and Light Laptop  \n",
              "21                  Thin and Light Laptop  \n",
              "12        Vostro 3510 Thin and Light L...  \n",
              "10      Vostro 3510 Thin and Light Laptop  \n",
              "18    X515EA-EJ322WS Thin and Light La...  \n",
              "4    14s - dy2507TU Thin and Light Laptop  \n",
              "3            X515JA-EJ362WS | X515JA-E...  \n",
              "13                         A315-23 Laptop  \n",
              "5             X415MA-BV011W Thin and L...  \n",
              "0                14a- na1004TU Chromebook  \n",
              "6                      E41-55 45-2 Laptop  "
            ],
            "text/html": [
              "\n",
              "  <div id=\"df-4c3d72d6-4eb9-4f1c-beb2-7592e201a953\">\n",
              "    <div class=\"colab-df-container\">\n",
              "      <div>\n",
              "<style scoped>\n",
              "    .dataframe tbody tr th:only-of-type {\n",
              "        vertical-align: middle;\n",
              "    }\n",
              "\n",
              "    .dataframe tbody tr th {\n",
              "        vertical-align: top;\n",
              "    }\n",
              "\n",
              "    .dataframe thead th {\n",
              "        text-align: right;\n",
              "    }\n",
              "</style>\n",
              "<table border=\"1\" class=\"dataframe\">\n",
              "  <thead>\n",
              "    <tr style=\"text-align: right;\">\n",
              "      <th></th>\n",
              "      <th>price</th>\n",
              "      <th>rating</th>\n",
              "      <th>model</th>\n",
              "      <th>RAM</th>\n",
              "      <th>Storage</th>\n",
              "      <th>OS</th>\n",
              "      <th>Model</th>\n",
              "    </tr>\n",
              "  </thead>\n",
              "  <tbody>\n",
              "    <tr>\n",
              "      <th>17</th>\n",
              "      <td>86990</td>\n",
              "      <td>4.7</td>\n",
              "      <td>APPLE 2020 Macbook Air M1</td>\n",
              "      <td>8 GB</td>\n",
              "      <td>256 GB SSD</td>\n",
              "      <td>Mac OS Big Sur</td>\n",
              "      <td>MGN63HN/A</td>\n",
              "    </tr>\n",
              "    <tr>\n",
              "      <th>23</th>\n",
              "      <td>67990</td>\n",
              "      <td>4.4</td>\n",
              "      <td>ASUS TUF Gaming A17 with 90Whr Battery Ryzen 7...</td>\n",
              "      <td>8 GB</td>\n",
              "      <td>512 GB SSD</td>\n",
              "      <td>Windows 11 Ho...</td>\n",
              "      <td>NaN</td>\n",
              "    </tr>\n",
              "    <tr>\n",
              "      <th>11</th>\n",
              "      <td>60990</td>\n",
              "      <td>4.5</td>\n",
              "      <td>Lenovo Lenovo IdeaPad Slim 3 Intel Core i5 11t...</td>\n",
              "      <td>16 GB</td>\n",
              "      <td>512 GB SSD</td>\n",
              "      <td>Windows 11 Home</td>\n",
              "      <td>15ITL6 Thin a...</td>\n",
              "    </tr>\n",
              "    <tr>\n",
              "      <th>15</th>\n",
              "      <td>57990</td>\n",
              "      <td>4.3</td>\n",
              "      <td>Lenovo IdeaPad Core i5 11th Gen</td>\n",
              "      <td>8 GB</td>\n",
              "      <td>512 GB SSD</td>\n",
              "      <td>Windows 11 Home/4 GB Graphics/NVIDIA GeForce G...</td>\n",
              "      <td>NaN</td>\n",
              "    </tr>\n",
              "    <tr>\n",
              "      <th>22</th>\n",
              "      <td>56990</td>\n",
              "      <td>4.2</td>\n",
              "      <td>HP 15s Intel Core i5 12th Gen</td>\n",
              "      <td>8 GB</td>\n",
              "      <td>512 GB SSD</td>\n",
              "      <td>Windows 11 Home</td>\n",
              "      <td>15s-fq5111TU Thin and Light Laptop</td>\n",
              "    </tr>\n",
              "    <tr>\n",
              "      <th>19</th>\n",
              "      <td>53990</td>\n",
              "      <td>4.4</td>\n",
              "      <td>ASUS TUF Gaming A17 with 90Whr Battery Ryzen 5...</td>\n",
              "      <td>8 GB</td>\n",
              "      <td>512 GB SSD</td>\n",
              "      <td>Windows 11 Ho...</td>\n",
              "      <td>NaN</td>\n",
              "    </tr>\n",
              "    <tr>\n",
              "      <th>20</th>\n",
              "      <td>52990</td>\n",
              "      <td>4.3</td>\n",
              "      <td>HP Intel Core i5 11th Gen</td>\n",
              "      <td>8 GB</td>\n",
              "      <td>512 GB SSD</td>\n",
              "      <td>Windows 11 Home</td>\n",
              "      <td>15s- fr4000TU Thin and Light Laptop</td>\n",
              "    </tr>\n",
              "    <tr>\n",
              "      <th>2</th>\n",
              "      <td>49990</td>\n",
              "      <td>4.4</td>\n",
              "      <td>ASUS TUF Gaming F15 Core i5 10th Gen</td>\n",
              "      <td>8 GB</td>\n",
              "      <td>512 GB SSD</td>\n",
              "      <td>Windows 11 Home/4 GB Graphics/NVIDIA GeForce G...</td>\n",
              "      <td>NaN</td>\n",
              "    </tr>\n",
              "    <tr>\n",
              "      <th>9</th>\n",
              "      <td>49990</td>\n",
              "      <td>4.3</td>\n",
              "      <td>HP Ryzen 5 Hexa Core 5500U</td>\n",
              "      <td>16 GB</td>\n",
              "      <td>512 GB SSD</td>\n",
              "      <td>Windows 11 Home</td>\n",
              "      <td>15s- eq2182AU Thin and Light Laptop</td>\n",
              "    </tr>\n",
              "    <tr>\n",
              "      <th>16</th>\n",
              "      <td>49990</td>\n",
              "      <td>4.8</td>\n",
              "      <td>ASUS Core i5 11th Gen</td>\n",
              "      <td>8 GB</td>\n",
              "      <td>512 GB SSD</td>\n",
              "      <td>Windows 10 Home/2 GB Graphics</td>\n",
              "      <td>K513EP-BQ1092T Thin and Light ...</td>\n",
              "    </tr>\n",
              "    <tr>\n",
              "      <th>7</th>\n",
              "      <td>44800</td>\n",
              "      <td>4.3</td>\n",
              "      <td>Lenovo IdeaPad 3 Ryzen 5 Hexa Core 5500U</td>\n",
              "      <td>8 GB</td>\n",
              "      <td>512 GB SSD</td>\n",
              "      <td>Windows 11 Home</td>\n",
              "      <td>15ALC6 Thin and Light Lap...</td>\n",
              "    </tr>\n",
              "    <tr>\n",
              "      <th>14</th>\n",
              "      <td>43990</td>\n",
              "      <td>4.2</td>\n",
              "      <td>HP 15s Intel Core i3 12th Gen</td>\n",
              "      <td>8 GB</td>\n",
              "      <td>512 GB SSD</td>\n",
              "      <td>Windows 11 Home</td>\n",
              "      <td>15s-fq5007TU Thin and Light Laptop</td>\n",
              "    </tr>\n",
              "    <tr>\n",
              "      <th>8</th>\n",
              "      <td>40450</td>\n",
              "      <td>4.3</td>\n",
              "      <td>HP 15s Intel Core i3 11th Gen</td>\n",
              "      <td>8 GB</td>\n",
              "      <td>512 GB SSD</td>\n",
              "      <td>Windows 11 Home</td>\n",
              "      <td>15s-fr2511TU Thin and Light Laptop</td>\n",
              "    </tr>\n",
              "    <tr>\n",
              "      <th>1</th>\n",
              "      <td>39900</td>\n",
              "      <td>4.2</td>\n",
              "      <td>HP 14s Intel Core i3 11th Gen</td>\n",
              "      <td>8 GB</td>\n",
              "      <td>512 GB SSD</td>\n",
              "      <td>Windows 11 Home</td>\n",
              "      <td>14s - dy2508TU Thin and Light Laptop</td>\n",
              "    </tr>\n",
              "    <tr>\n",
              "      <th>21</th>\n",
              "      <td>38990</td>\n",
              "      <td>4.1</td>\n",
              "      <td>RedmiBook Pro Core i5 11th Gen</td>\n",
              "      <td>8 GB</td>\n",
              "      <td>512 GB SSD</td>\n",
              "      <td>Windows 11 Home</td>\n",
              "      <td>Thin and Light Laptop</td>\n",
              "    </tr>\n",
              "    <tr>\n",
              "      <th>12</th>\n",
              "      <td>37990</td>\n",
              "      <td>4.0</td>\n",
              "      <td>DELL Vostro Core i3 11th Gen</td>\n",
              "      <td>8 GB</td>\n",
              "      <td>1 TB HDD</td>\n",
              "      <td>256 GB SSD/Windows 11 Home</td>\n",
              "      <td>Vostro 3510 Thin and Light L...</td>\n",
              "    </tr>\n",
              "    <tr>\n",
              "      <th>10</th>\n",
              "      <td>36990</td>\n",
              "      <td>4.1</td>\n",
              "      <td>DELL Vostro Core i3 10th Gen</td>\n",
              "      <td>8 GB</td>\n",
              "      <td>512 GB SSD</td>\n",
              "      <td>Windows 11 Home</td>\n",
              "      <td>Vostro 3510 Thin and Light Laptop</td>\n",
              "    </tr>\n",
              "    <tr>\n",
              "      <th>18</th>\n",
              "      <td>35990</td>\n",
              "      <td>4.1</td>\n",
              "      <td>ASUS Vivobook 15 Core i3 11th Gen</td>\n",
              "      <td>8 GB</td>\n",
              "      <td>512 GB SSD</td>\n",
              "      <td>Windows 11 Home</td>\n",
              "      <td>X515EA-EJ322WS Thin and Light La...</td>\n",
              "    </tr>\n",
              "    <tr>\n",
              "      <th>4</th>\n",
              "      <td>35490</td>\n",
              "      <td>4.2</td>\n",
              "      <td>HP 14s Intel Core i3 11th Gen</td>\n",
              "      <td>8 GB</td>\n",
              "      <td>256 GB SSD</td>\n",
              "      <td>Windows 11 Home</td>\n",
              "      <td>14s - dy2507TU Thin and Light Laptop</td>\n",
              "    </tr>\n",
              "    <tr>\n",
              "      <th>3</th>\n",
              "      <td>32990</td>\n",
              "      <td>4.3</td>\n",
              "      <td>ASUS VivoBook 15 (2022) Core i3 10th Gen</td>\n",
              "      <td>8 GB</td>\n",
              "      <td>512 GB SSD</td>\n",
              "      <td>Windows 11 Home</td>\n",
              "      <td>X515JA-EJ362WS | X515JA-E...</td>\n",
              "    </tr>\n",
              "    <tr>\n",
              "      <th>13</th>\n",
              "      <td>26990</td>\n",
              "      <td>4.2</td>\n",
              "      <td>acer Aspire 3 Ryzen 3 Dual Core 3250U</td>\n",
              "      <td>8 GB</td>\n",
              "      <td>256 GB SSD</td>\n",
              "      <td>Windows 11 Home</td>\n",
              "      <td>A315-23 Laptop</td>\n",
              "    </tr>\n",
              "    <tr>\n",
              "      <th>5</th>\n",
              "      <td>21990</td>\n",
              "      <td>4.1</td>\n",
              "      <td>ASUS VivoBook 14 (2021) Celeron Dual Core</td>\n",
              "      <td>4 GB</td>\n",
              "      <td>256 GB SSD</td>\n",
              "      <td>Windows 11 Home</td>\n",
              "      <td>X415MA-BV011W Thin and L...</td>\n",
              "    </tr>\n",
              "    <tr>\n",
              "      <th>0</th>\n",
              "      <td>21800</td>\n",
              "      <td>3.8</td>\n",
              "      <td>HP intel Celeron Dual Core</td>\n",
              "      <td>4 GB</td>\n",
              "      <td>64 GB EMMC Storage</td>\n",
              "      <td>Chrome OS</td>\n",
              "      <td>14a- na1004TU Chromebook</td>\n",
              "    </tr>\n",
              "    <tr>\n",
              "      <th>6</th>\n",
              "      <td>18990</td>\n",
              "      <td>3.9</td>\n",
              "      <td>Lenovo Athlon Dual Core</td>\n",
              "      <td>4 GB</td>\n",
              "      <td>256 GB SSD</td>\n",
              "      <td>DOS</td>\n",
              "      <td>E41-55 45-2 Laptop</td>\n",
              "    </tr>\n",
              "  </tbody>\n",
              "</table>\n",
              "</div>\n",
              "      <button class=\"colab-df-convert\" onclick=\"convertToInteractive('df-4c3d72d6-4eb9-4f1c-beb2-7592e201a953')\"\n",
              "              title=\"Convert this dataframe to an interactive table.\"\n",
              "              style=\"display:none;\">\n",
              "        \n",
              "  <svg xmlns=\"http://www.w3.org/2000/svg\" height=\"24px\"viewBox=\"0 0 24 24\"\n",
              "       width=\"24px\">\n",
              "    <path d=\"M0 0h24v24H0V0z\" fill=\"none\"/>\n",
              "    <path d=\"M18.56 5.44l.94 2.06.94-2.06 2.06-.94-2.06-.94-.94-2.06-.94 2.06-2.06.94zm-11 1L8.5 8.5l.94-2.06 2.06-.94-2.06-.94L8.5 2.5l-.94 2.06-2.06.94zm10 10l.94 2.06.94-2.06 2.06-.94-2.06-.94-.94-2.06-.94 2.06-2.06.94z\"/><path d=\"M17.41 7.96l-1.37-1.37c-.4-.4-.92-.59-1.43-.59-.52 0-1.04.2-1.43.59L10.3 9.45l-7.72 7.72c-.78.78-.78 2.05 0 2.83L4 21.41c.39.39.9.59 1.41.59.51 0 1.02-.2 1.41-.59l7.78-7.78 2.81-2.81c.8-.78.8-2.07 0-2.86zM5.41 20L4 18.59l7.72-7.72 1.47 1.35L5.41 20z\"/>\n",
              "  </svg>\n",
              "      </button>\n",
              "      \n",
              "  <style>\n",
              "    .colab-df-container {\n",
              "      display:flex;\n",
              "      flex-wrap:wrap;\n",
              "      gap: 12px;\n",
              "    }\n",
              "\n",
              "    .colab-df-convert {\n",
              "      background-color: #E8F0FE;\n",
              "      border: none;\n",
              "      border-radius: 50%;\n",
              "      cursor: pointer;\n",
              "      display: none;\n",
              "      fill: #1967D2;\n",
              "      height: 32px;\n",
              "      padding: 0 0 0 0;\n",
              "      width: 32px;\n",
              "    }\n",
              "\n",
              "    .colab-df-convert:hover {\n",
              "      background-color: #E2EBFA;\n",
              "      box-shadow: 0px 1px 2px rgba(60, 64, 67, 0.3), 0px 1px 3px 1px rgba(60, 64, 67, 0.15);\n",
              "      fill: #174EA6;\n",
              "    }\n",
              "\n",
              "    [theme=dark] .colab-df-convert {\n",
              "      background-color: #3B4455;\n",
              "      fill: #D2E3FC;\n",
              "    }\n",
              "\n",
              "    [theme=dark] .colab-df-convert:hover {\n",
              "      background-color: #434B5C;\n",
              "      box-shadow: 0px 1px 3px 1px rgba(0, 0, 0, 0.15);\n",
              "      filter: drop-shadow(0px 1px 2px rgba(0, 0, 0, 0.3));\n",
              "      fill: #FFFFFF;\n",
              "    }\n",
              "  </style>\n",
              "\n",
              "      <script>\n",
              "        const buttonEl =\n",
              "          document.querySelector('#df-4c3d72d6-4eb9-4f1c-beb2-7592e201a953 button.colab-df-convert');\n",
              "        buttonEl.style.display =\n",
              "          google.colab.kernel.accessAllowed ? 'block' : 'none';\n",
              "\n",
              "        async function convertToInteractive(key) {\n",
              "          const element = document.querySelector('#df-4c3d72d6-4eb9-4f1c-beb2-7592e201a953');\n",
              "          const dataTable =\n",
              "            await google.colab.kernel.invokeFunction('convertToInteractive',\n",
              "                                                     [key], {});\n",
              "          if (!dataTable) return;\n",
              "\n",
              "          const docLinkHtml = 'Like what you see? Visit the ' +\n",
              "            '<a target=\"_blank\" href=https://colab.research.google.com/notebooks/data_table.ipynb>data table notebook</a>'\n",
              "            + ' to learn more about interactive tables.';\n",
              "          element.innerHTML = '';\n",
              "          dataTable['output_type'] = 'display_data';\n",
              "          await google.colab.output.renderOutput(dataTable, element);\n",
              "          const docLink = document.createElement('div');\n",
              "          docLink.innerHTML = docLinkHtml;\n",
              "          element.appendChild(docLink);\n",
              "        }\n",
              "      </script>\n",
              "    </div>\n",
              "  </div>\n",
              "  "
            ]
          },
          "metadata": {},
          "execution_count": 166
        }
      ],
      "source": [
        "laptop_df.sort_values([\"price\"],ascending=False)"
      ]
    },
    {
      "cell_type": "code",
      "source": [],
      "metadata": {
        "id": "cB1Qta8VKLKt"
      },
      "id": "cB1Qta8VKLKt",
      "execution_count": null,
      "outputs": []
    }
  ],
  "metadata": {
    "kernelspec": {
      "display_name": "Python 3 (ipykernel)",
      "language": "python",
      "name": "python3"
    },
    "language_info": {
      "codemirror_mode": {
        "name": "ipython",
        "version": 3
      },
      "file_extension": ".py",
      "mimetype": "text/x-python",
      "name": "python",
      "nbconvert_exporter": "python",
      "pygments_lexer": "ipython3",
      "version": "3.9.13"
    },
    "colab": {
      "provenance": []
    }
  },
  "nbformat": 4,
  "nbformat_minor": 5
}