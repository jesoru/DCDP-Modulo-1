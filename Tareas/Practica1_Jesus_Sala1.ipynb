{
 "cells": [
  {
   "cell_type": "markdown",
   "metadata": {
    "id": "4zMzLuXxBDdY"
   },
   "source": [
    "# Ejercicios bases de Python"
   ]
  },
  {
   "cell_type": "markdown",
   "metadata": {
    "id": "HAY8IBC4dM62"
   },
   "source": [
    "## Estructuras, asignación y funciones"
   ]
  },
  {
   "cell_type": "markdown",
   "metadata": {
    "id": "5OKzkyU6_1kB"
   },
   "source": [
    "### 1. Creando una agenda \n",
    "\n",
    "Utiliza los conceptos básicos de python para crear una agenda telefónica. Deberás completar las funciones crear_agenda, agregar_contacto, eliminimar_contacto y buscar_contacto que se encuentran en las siguientes celdas.\n",
    "\n",
    "* ```crear_agenda()```, esta función devuelve una nueva agenda vacía, elige el tipo de dato que creas adecuado para este proposito.\n",
    "* ```agregar_contacto(agenda, nombre, numero)```, esta función debe permitir agregar un nuevo contacto a la agenda, además si un contacto ya existe con el nombre recibido entonces debes almacenar su nuevo numero sin eliminar el anterior.\n",
    "* ```buscar_contacto(agenda, nombre)```, esta función debe de regresar el o los números registados de un contacto, si el contacto no existe entonces imprimer el mensaje \"Contacto no encontrado en la agenda\".\n",
    "* ```eliminar_contacto(agenda, nombre)```, esta función permite eliminar a un contacto de la agenda, si el contacto no existe entonces imprimer el mensaje \"Contacto no encontrado en la agenda\"."
   ]
  },
  {
   "cell_type": "code",
   "execution_count": 1,
   "metadata": {
    "executionInfo": {
     "elapsed": 205,
     "status": "ok",
     "timestamp": 1675389112131,
     "user": {
      "displayName": "Jean Yv Tovar Sánchez",
      "userId": "02848212450555183995"
     },
     "user_tz": 360
    },
    "id": "EJAb9gnbzhA4"
   },
   "outputs": [],
   "source": [
    "def crear_agenda():\n",
    "    agenda = {}\n",
    "    return agenda"
   ]
  },
  {
   "cell_type": "code",
   "execution_count": 2,
   "metadata": {
    "executionInfo": {
     "elapsed": 11,
     "status": "ok",
     "timestamp": 1675389112286,
     "user": {
      "displayName": "Jean Yv Tovar Sánchez",
      "userId": "02848212450555183995"
     },
     "user_tz": 360
    },
    "id": "M1XExhcO1a8D"
   },
   "outputs": [],
   "source": [
    "def agregar_contacto(agenda, nombre,numero):\n",
    "    if agenda.get(nombre)==None:\n",
    "        agenda[nombre]=numero\n",
    "    else:\n",
    "        print(\"Ya existe este contacto:\", nombre)\n",
    "    return agenda"
   ]
  },
  {
   "cell_type": "code",
   "execution_count": 3,
   "metadata": {
    "executionInfo": {
     "elapsed": 10,
     "status": "ok",
     "timestamp": 1675389112286,
     "user": {
      "displayName": "Jean Yv Tovar Sánchez",
      "userId": "02848212450555183995"
     },
     "user_tz": 360
    },
    "id": "CkJpO_BtzhA5"
   },
   "outputs": [],
   "source": [
    "def agregar_contacto2(agenda, nombre, numero):\n",
    "    if nombre not in agenda:\n",
    "        agenda[nombre]= numero\n",
    "    else:\n",
    "        print(\"Ya existe este contacto:\", nombre)\n",
    "    return agenda"
   ]
  },
  {
   "cell_type": "code",
   "execution_count": 4,
   "metadata": {
    "colab": {
     "base_uri": "https://localhost:8080/",
     "height": 74
    },
    "executionInfo": {
     "elapsed": 11,
     "status": "ok",
     "timestamp": 1675389112287,
     "user": {
      "displayName": "Jean Yv Tovar Sánchez",
      "userId": "02848212450555183995"
     },
     "user_tz": 360
    },
    "id": "JVPultm6mYxB",
    "outputId": "bd3a7a10-c48a-4b43-df2b-01ff7b2ffda0"
   },
   "outputs": [
    {
     "data": {
      "text/plain": [
       "{'Javier': '1234567890'}"
      ]
     },
     "execution_count": 4,
     "metadata": {},
     "output_type": "execute_result"
    }
   ],
   "source": [
    "agenda = crear_agenda()\n",
    "agenda = agregar_contacto(agenda, \"Javier\", \"1234567890\")\n",
    "agenda"
   ]
  },
  {
   "cell_type": "code",
   "execution_count": 5,
   "metadata": {
    "executionInfo": {
     "elapsed": 8,
     "status": "ok",
     "timestamp": 1675389112287,
     "user": {
      "displayName": "Jean Yv Tovar Sánchez",
      "userId": "02848212450555183995"
     },
     "user_tz": 360
    },
    "id": "-xhGm-CXzhA7"
   },
   "outputs": [
    {
     "data": {
      "text/plain": [
       "{'Javier': '1234567890', 'Juan': '1211323'}"
      ]
     },
     "execution_count": 5,
     "metadata": {},
     "output_type": "execute_result"
    }
   ],
   "source": [
    "agenda=agregar_contacto(agenda, \"Juan\", \"1211323\")\n",
    "agenda"
   ]
  },
  {
   "cell_type": "code",
   "execution_count": 6,
   "metadata": {
    "colab": {
     "base_uri": "https://localhost:8080/"
    },
    "executionInfo": {
     "elapsed": 8,
     "status": "ok",
     "timestamp": 1675389112287,
     "user": {
      "displayName": "Jean Yv Tovar Sánchez",
      "userId": "02848212450555183995"
     },
     "user_tz": 360
    },
    "id": "FzG19KdxzhA7",
    "outputId": "3ff6f00b-e0c2-4971-b261-a5a04da94b05"
   },
   "outputs": [
    {
     "data": {
      "text/plain": [
       "{'Javier': '1234567890', 'Juan': '1211323', 'Jesus': '1211323'}"
      ]
     },
     "execution_count": 6,
     "metadata": {},
     "output_type": "execute_result"
    }
   ],
   "source": [
    "agenda=agregar_contacto(agenda, \"Jesus\", \"1211323\")\n",
    "agenda"
   ]
  },
  {
   "cell_type": "code",
   "execution_count": 7,
   "metadata": {
    "executionInfo": {
     "elapsed": 5,
     "status": "ok",
     "timestamp": 1675389112287,
     "user": {
      "displayName": "Jean Yv Tovar Sánchez",
      "userId": "02848212450555183995"
     },
     "user_tz": 360
    },
    "id": "9c7BfxoZzhA7"
   },
   "outputs": [
    {
     "data": {
      "text/plain": [
       "{'Javier': '1234567890',\n",
       " 'Juan': '1211323',\n",
       " 'Jesus': '1211323',\n",
       " 'Felipe': '432434'}"
      ]
     },
     "execution_count": 7,
     "metadata": {},
     "output_type": "execute_result"
    }
   ],
   "source": [
    "agregar_contacto2(agenda, 'Felipe', '432434')"
   ]
  },
  {
   "cell_type": "code",
   "execution_count": 8,
   "metadata": {
    "executionInfo": {
     "elapsed": 190,
     "status": "ok",
     "timestamp": 1675389112473,
     "user": {
      "displayName": "Jean Yv Tovar Sánchez",
      "userId": "02848212450555183995"
     },
     "user_tz": 360
    },
    "id": "RkNtzllbBirX"
   },
   "outputs": [],
   "source": [
    "def buscar_contacto(agenda, nombre):\n",
    "    \"\"\"\n",
    "    Busca el contacto en la agenda, imprime su nombre y numero\n",
    "    Si tiene mas de un numero, imprime todos\n",
    "    Si el contacto no existe, imprime \"Contacto no encontrado en la agenda\"\n",
    "    \"\"\"\n",
    "    if nombre not in agenda:\n",
    "        print('Contacto no encontrado en la agenda')\n",
    "    else:\n",
    "        print(nombre, agenda[nombre])\n",
    "    \n",
    "    return\n"
   ]
  },
  {
   "cell_type": "code",
   "execution_count": 12,
   "metadata": {},
   "outputs": [
    {
     "name": "stdout",
     "output_type": "stream",
     "text": [
      "Contacto no encontrado en la agenda\n"
     ]
    }
   ],
   "source": [
    "buscar_contacto(agenda, 'Ernesto')"
   ]
  },
  {
   "cell_type": "code",
   "execution_count": 13,
   "metadata": {},
   "outputs": [
    {
     "name": "stdout",
     "output_type": "stream",
     "text": [
      "Jesus 1211323\n"
     ]
    }
   ],
   "source": [
    "buscar_contacto(agenda, 'Jesus')"
   ]
  },
  {
   "cell_type": "code",
   "execution_count": 14,
   "metadata": {},
   "outputs": [],
   "source": [
    "def eliminar_contacto(agenda, nombre):\n",
    "    \"\"\"\n",
    "    Elimina el contacto de la agenda\n",
    "    si el contacto no existe imprime \"Contacto no encontrado en la agenda\"\n",
    "    \"\"\"\n",
    "    if nombre in agenda:\n",
    "        del agenda[nombre]\n",
    "    else:\n",
    "        print(\"Contacto no encontrado en la agenda\")\n",
    "            \n",
    "    return agenda"
   ]
  },
  {
   "cell_type": "code",
   "execution_count": 15,
   "metadata": {},
   "outputs": [
    {
     "name": "stdout",
     "output_type": "stream",
     "text": [
      "Contacto no encontrado en la agenda\n"
     ]
    },
    {
     "data": {
      "text/plain": [
       "{'Javier': '1234567890',\n",
       " 'Juan': '1211323',\n",
       " 'Jesus': '1211323',\n",
       " 'Felipe': '432434'}"
      ]
     },
     "execution_count": 15,
     "metadata": {},
     "output_type": "execute_result"
    }
   ],
   "source": [
    "eliminar_contacto(agenda, 'Ernesto')"
   ]
  },
  {
   "cell_type": "code",
   "execution_count": 16,
   "metadata": {},
   "outputs": [
    {
     "data": {
      "text/plain": [
       "{'Javier': '1234567890', 'Jesus': '1211323', 'Felipe': '432434'}"
      ]
     },
     "execution_count": 16,
     "metadata": {},
     "output_type": "execute_result"
    }
   ],
   "source": [
    "eliminar_contacto(agenda, 'Juan')"
   ]
  },
  {
   "cell_type": "markdown",
   "metadata": {
    "id": "3nzzkH6EA88D"
   },
   "source": [
    "# Ejercicios estadística"
   ]
  },
  {
   "cell_type": "markdown",
   "metadata": {
    "id": "e5g5CAaOc01h"
   },
   "source": [
    "### Función suma\n",
    "\n",
    "$$\n",
    "    suma(a) = \\sum_{i=1}^{n}a_i\n",
    "$$"
   ]
  },
  {
   "cell_type": "code",
   "execution_count": 87,
   "metadata": {
    "executionInfo": {
     "elapsed": 11,
     "status": "ok",
     "timestamp": 1675389112473,
     "user": {
      "displayName": "Jean Yv Tovar Sánchez",
      "userId": "02848212450555183995"
     },
     "user_tz": 360
    },
    "id": "RxWbpZ42c07g"
   },
   "outputs": [],
   "source": [
    "def suma(x):\n",
    "    suma = 0\n",
    "    i=0\n",
    "    for i in x:\n",
    "      #print(\"Entrada:\", i)\n",
    "      suma=suma+i\n",
    "      #print(\"Suma acumulada\", suma)\n",
    "    return suma\n"
   ]
  },
  {
   "cell_type": "code",
   "execution_count": 88,
   "metadata": {
    "colab": {
     "base_uri": "https://localhost:8080/"
    },
    "executionInfo": {
     "elapsed": 10,
     "status": "ok",
     "timestamp": 1675389112473,
     "user": {
      "displayName": "Jean Yv Tovar Sánchez",
      "userId": "02848212450555183995"
     },
     "user_tz": 360
    },
    "id": "k903M2TGfsym",
    "outputId": "3f9cc393-2154-4bcd-b55f-fd435ffbdcd3"
   },
   "outputs": [
    {
     "data": {
      "text/plain": [
       "15"
      ]
     },
     "execution_count": 88,
     "metadata": {},
     "output_type": "execute_result"
    }
   ],
   "source": [
    "suma([1,2,3,4,5])"
   ]
  },
  {
   "cell_type": "code",
   "execution_count": 89,
   "metadata": {
    "executionInfo": {
     "elapsed": 9,
     "status": "ok",
     "timestamp": 1675389112473,
     "user": {
      "displayName": "Jean Yv Tovar Sánchez",
      "userId": "02848212450555183995"
     },
     "user_tz": 360
    },
    "id": "mdiLISG-zhA-"
   },
   "outputs": [],
   "source": [
    "assert suma([1, 2, 3, 4, 5]) == 15"
   ]
  },
  {
   "cell_type": "markdown",
   "metadata": {
    "id": "Hc30xEPMc1QC"
   },
   "source": [
    "### Función promedio.\n",
    "\n",
    "$$\n",
    "\t\\bar{x} = \\dfrac{\\sum_{i=1}^{n}x_i}{n}\n",
    "$$"
   ]
  },
  {
   "cell_type": "code",
   "execution_count": 90,
   "metadata": {
    "executionInfo": {
     "elapsed": 9,
     "status": "ok",
     "timestamp": 1675389112473,
     "user": {
      "displayName": "Jean Yv Tovar Sánchez",
      "userId": "02848212450555183995"
     },
     "user_tz": 360
    },
    "id": "2KyU6PyCc1VM"
   },
   "outputs": [],
   "source": [
    "def promedio(x):\n",
    "    promedio = 0\n",
    "    n=len(x)\n",
    "    for i in x:\n",
    "      promedio = suma(x)/n\n",
    "      #print (\"La suma es\", suma)\n",
    "      #print(\"el numero de elementos n es\", n)\n",
    "    return promedio"
   ]
  },
  {
   "cell_type": "code",
   "execution_count": 91,
   "metadata": {
    "colab": {
     "base_uri": "https://localhost:8080/"
    },
    "executionInfo": {
     "elapsed": 9,
     "status": "ok",
     "timestamp": 1675389112473,
     "user": {
      "displayName": "Jean Yv Tovar Sánchez",
      "userId": "02848212450555183995"
     },
     "user_tz": 360
    },
    "id": "YWsZ71JjkUBE",
    "outputId": "25c156d1-2f34-45de-af54-1957f599583d"
   },
   "outputs": [
    {
     "data": {
      "text/plain": [
       "3.0"
      ]
     },
     "execution_count": 91,
     "metadata": {},
     "output_type": "execute_result"
    }
   ],
   "source": [
    "promedio([1,2,3,4,5])"
   ]
  },
  {
   "cell_type": "code",
   "execution_count": 92,
   "metadata": {
    "executionInfo": {
     "elapsed": 7,
     "status": "ok",
     "timestamp": 1675389112474,
     "user": {
      "displayName": "Jean Yv Tovar Sánchez",
      "userId": "02848212450555183995"
     },
     "user_tz": 360
    },
    "id": "7GM2YpXVzhBA"
   },
   "outputs": [],
   "source": [
    "assert promedio([1, 2, 3, 4, 5]) == 3, \"Error en promedio\""
   ]
  },
  {
   "cell_type": "markdown",
   "metadata": {
    "id": "ImMoE5w4c1of"
   },
   "source": [
    "### Función varianza.\n",
    "$$\n",
    "\\sigma^2 = \\frac{1}{n} \\sum_{i=1}^{n}(x_i - \\bar{x})^2\n",
    "$$"
   ]
  },
  {
   "cell_type": "code",
   "execution_count": 93,
   "metadata": {
    "executionInfo": {
     "elapsed": 7,
     "status": "ok",
     "timestamp": 1675389112474,
     "user": {
      "displayName": "Jean Yv Tovar Sánchez",
      "userId": "02848212450555183995"
     },
     "user_tz": 360
    },
    "id": "h0w2PHhLc1tG"
   },
   "outputs": [],
   "source": [
    "def var(x):\n",
    "    var = 0\n",
    "    y=[]\n",
    "    xp=promedio(x)\n",
    "    n=len(x)\n",
    "\n",
    "    for i in x:\n",
    "      yi=pow((i-promedio(x)),2)\n",
    "      #print (\"la resta\", i, \"-\", promedio(x), \"=\",(i-promedio(x)), \"al cuadrado es\", yi)\n",
    "      y.append(yi)\n",
    "      #print (y)\n",
    "\n",
    "    var=(1/n)*suma(y)\n",
    "    return var\n",
    "   \n",
    "    \n"
   ]
  },
  {
   "cell_type": "code",
   "execution_count": 94,
   "metadata": {
    "colab": {
     "base_uri": "https://localhost:8080/"
    },
    "executionInfo": {
     "elapsed": 6,
     "status": "ok",
     "timestamp": 1675389112474,
     "user": {
      "displayName": "Jean Yv Tovar Sánchez",
      "userId": "02848212450555183995"
     },
     "user_tz": 360
    },
    "id": "__9Cst1fxJ3O",
    "outputId": "dc26e4e7-5aa5-421b-d9ec-9b84542a77d2"
   },
   "outputs": [
    {
     "data": {
      "text/plain": [
       "2.0"
      ]
     },
     "execution_count": 94,
     "metadata": {},
     "output_type": "execute_result"
    }
   ],
   "source": [
    "var([1, 2, 3, 4, 5])"
   ]
  },
  {
   "cell_type": "code",
   "execution_count": 95,
   "metadata": {
    "executionInfo": {
     "elapsed": 4,
     "status": "ok",
     "timestamp": 1675389112474,
     "user": {
      "displayName": "Jean Yv Tovar Sánchez",
      "userId": "02848212450555183995"
     },
     "user_tz": 360
    },
    "id": "puEjtv4OzhBA"
   },
   "outputs": [],
   "source": [
    "assert var([1, 2, 3, 4, 5]) == 2, \"Error en var\""
   ]
  },
  {
   "cell_type": "markdown",
   "metadata": {
    "id": "fxxJeFhbA9Cq"
   },
   "source": [
    "# Ejercicios álgebra lineal"
   ]
  },
  {
   "cell_type": "markdown",
   "metadata": {
    "id": "6dXp-owNeqP9"
   },
   "source": [
    "## Vectores con listas"
   ]
  },
  {
   "cell_type": "markdown",
   "metadata": {
    "id": "9Du0_NsNc81H"
   },
   "source": [
    "### Ones"
   ]
  },
  {
   "cell_type": "markdown",
   "metadata": {
    "id": "DKp9wDLPEZdz"
   },
   "source": [
    "Completa la función ones1D que recibe como parámetros un entero $n$ y retorna una lista de tamaño $n$ con todos sus elementos con el valor $1$.\n",
    "\n",
    "Ejemplo:\n",
    "\n",
    "```\n",
    ">>> ones(5)\n",
    "[1, 1, 1, 1, 1]\n",
    "```\n",
    "\n"
   ]
  },
  {
   "cell_type": "code",
   "execution_count": 96,
   "metadata": {
    "executionInfo": {
     "elapsed": 186,
     "status": "ok",
     "timestamp": 1675389112657,
     "user": {
      "displayName": "Jean Yv Tovar Sánchez",
      "userId": "02848212450555183995"
     },
     "user_tz": 360
    },
    "id": "l4j5ka46EulY"
   },
   "outputs": [],
   "source": [
    "def ones_1d(n):\n",
    "    ones_list = [1]*n\n",
    "    #i=0\n",
    "    #while i<n:\n",
    "      #ones_list.append(1)\n",
    "      #i=i+1\n",
    "    return ones_list  "
   ]
  },
  {
   "cell_type": "code",
   "execution_count": 97,
   "metadata": {
    "colab": {
     "base_uri": "https://localhost:8080/"
    },
    "executionInfo": {
     "elapsed": 28,
     "status": "ok",
     "timestamp": 1675389112657,
     "user": {
      "displayName": "Jean Yv Tovar Sánchez",
      "userId": "02848212450555183995"
     },
     "user_tz": 360
    },
    "id": "7ula-qLl3vxS",
    "outputId": "8d1c484b-59ab-4581-aadb-02def899c2e8"
   },
   "outputs": [
    {
     "name": "stdout",
     "output_type": "stream",
     "text": [
      "[1, 1, 1]\n",
      "[1, 1, 1, 1, 1]\n",
      "[1, 1, 1, 1, 1, 1, 1, 1, 1, 1]\n"
     ]
    }
   ],
   "source": [
    "print(ones_1d(3))\n",
    "print(ones_1d(5))\n",
    "print(ones_1d(10))\n"
   ]
  },
  {
   "cell_type": "markdown",
   "metadata": {
    "id": "TBYV7LYqdSJo"
   },
   "source": [
    "Ejecuta la siguiente celda para comprobar la función ones1D:"
   ]
  },
  {
   "cell_type": "code",
   "execution_count": 98,
   "metadata": {
    "colab": {
     "base_uri": "https://localhost:8080/"
    },
    "executionInfo": {
     "elapsed": 28,
     "status": "ok",
     "timestamp": 1675389112658,
     "user": {
      "displayName": "Jean Yv Tovar Sánchez",
      "userId": "02848212450555183995"
     },
     "user_tz": 360
    },
    "id": "QUlEotVIdRno",
    "outputId": "7fba92cb-9d9f-4cf6-c777-2f8dfcd7e0a8"
   },
   "outputs": [
    {
     "name": "stdout",
     "output_type": "stream",
     "text": [
      "La funcion es correcta\n"
     ]
    }
   ],
   "source": [
    "assert len(ones_1d(10)) == 10 and  ones_1d(3).count(1) == 3 and sum(ones_1d(5)) == 5  , \"error en la funcion ones_1d\"\n",
    "print(\"La funcion es correcta\")"
   ]
  },
  {
   "cell_type": "markdown",
   "metadata": {
    "id": "b8SaUCdYzhBC"
   },
   "source": [
    "### Ones 2D"
   ]
  },
  {
   "cell_type": "markdown",
   "metadata": {
    "id": "lxOMWQXXEZp3"
   },
   "source": [
    "Completa la función ones_2d que recibe como parámetros un entero $n$ y un entero $m$ y retorna una lista con $n$ sub-listas cada una de tamaño $m$ con todos sus elementos con el valor 1. En otras palabras, una matriz $n \\times m$ con sus elementos iniciados con valor $1$.\n",
    "\n",
    "Ejemplo:\n",
    "\n",
    "\n",
    "\n",
    "```\n",
    ">>> ones_2d(2, 3)\n",
    "[[1, 1, 1], [1, 1, 1]]\n",
    "```\n",
    "\n"
   ]
  },
  {
   "cell_type": "code",
   "execution_count": 99,
   "metadata": {
    "executionInfo": {
     "elapsed": 25,
     "status": "ok",
     "timestamp": 1675389112658,
     "user": {
      "displayName": "Jean Yv Tovar Sánchez",
      "userId": "02848212450555183995"
     },
     "user_tz": 360
    },
    "id": "-xfFmttxFRCw"
   },
   "outputs": [],
   "source": [
    "def ones_2d(m, n):\n",
    "    ones_ll = []\n",
    "    i=0\n",
    "    while i<m:\n",
    "      ones_ll.append(ones_1d(n))\n",
    "      #print (ones_ll)\n",
    "      i=i+1\n",
    "    return ones_ll"
   ]
  },
  {
   "cell_type": "code",
   "execution_count": 100,
   "metadata": {
    "colab": {
     "base_uri": "https://localhost:8080/"
    },
    "executionInfo": {
     "elapsed": 25,
     "status": "ok",
     "timestamp": 1675389112658,
     "user": {
      "displayName": "Jean Yv Tovar Sánchez",
      "userId": "02848212450555183995"
     },
     "user_tz": 360
    },
    "id": "0xn0CgaLD_7L",
    "outputId": "ec379517-8e09-4708-de90-8a73a4b7b046"
   },
   "outputs": [
    {
     "data": {
      "text/plain": [
       "[[1, 1, 1], [1, 1, 1]]"
      ]
     },
     "execution_count": 100,
     "metadata": {},
     "output_type": "execute_result"
    }
   ],
   "source": [
    "ones_2d(2,3)"
   ]
  },
  {
   "cell_type": "markdown",
   "metadata": {
    "id": "yugjWXI9eI4P"
   },
   "source": [
    "Ejecuta la siguiente celda para comprobar la función ones2D:"
   ]
  },
  {
   "cell_type": "code",
   "execution_count": 101,
   "metadata": {
    "colab": {
     "base_uri": "https://localhost:8080/"
    },
    "executionInfo": {
     "elapsed": 23,
     "status": "ok",
     "timestamp": 1675389112658,
     "user": {
      "displayName": "Jean Yv Tovar Sánchez",
      "userId": "02848212450555183995"
     },
     "user_tz": 360
    },
    "id": "i7sZXWsveJBC",
    "outputId": "b8738486-7e77-4e36-83e7-75f52db816dd"
   },
   "outputs": [
    {
     "name": "stdout",
     "output_type": "stream",
     "text": [
      "La funcion es correcta\n"
     ]
    }
   ],
   "source": [
    "assert len(ones_2d(2, 3)) == 2 and len(ones_2d(2, 3)[0]) == 3 and sum([x_i for sl in ones_2d(3, 2) for x_i in sl]) == 6 , \"error en la funcion ones_2d\"\n",
    "print(\"La funcion es correcta\")"
   ]
  },
  {
   "cell_type": "markdown",
   "metadata": {
    "id": "EwVykdiYzhBD"
   },
   "source": [
    "### Producto punto (inner)"
   ]
  },
  {
   "cell_type": "markdown",
   "metadata": {
    "id": "xy0p5QxEzhBE"
   },
   "source": [
    "Completa la función inner que recibe como parametros dos listas a, b de la misma longitúd y retorna el producto punto de ambos.\n",
    "\n",
    "El producto punto está definido como:\n",
    "\n",
    "$$a = [a_1 a_2 ... a_n] \\: y \\: b = [b_1 b_2 ... b_n]$$\n",
    "\n",
    "$$\n",
    "a \\cdot b = a_1*b_1 + a_2*b_2 + \\dots + a_n*b_n\n",
    "$$"
   ]
  },
  {
   "cell_type": "code",
   "execution_count": 102,
   "metadata": {
    "executionInfo": {
     "elapsed": 20,
     "status": "ok",
     "timestamp": 1675389112658,
     "user": {
      "displayName": "Jean Yv Tovar Sánchez",
      "userId": "02848212450555183995"
     },
     "user_tz": 360
    },
    "id": "OvNCcnXLBBc0"
   },
   "outputs": [],
   "source": [
    "def inner(a, b):\n",
    "  i=0\n",
    "  ab=0\n",
    "  while i< len(a):\n",
    "    abi=a[i]*b[i]\n",
    "    ab=ab+abi\n",
    "    i=i+1\n",
    "  return ab\n",
    "    "
   ]
  },
  {
   "cell_type": "code",
   "execution_count": 103,
   "metadata": {
    "colab": {
     "base_uri": "https://localhost:8080/"
    },
    "executionInfo": {
     "elapsed": 20,
     "status": "ok",
     "timestamp": 1675389112658,
     "user": {
      "displayName": "Jean Yv Tovar Sánchez",
      "userId": "02848212450555183995"
     },
     "user_tz": 360
    },
    "id": "-fDkDjKczhBE",
    "outputId": "1ca04dbe-52e8-4676-d7e1-a9b4c92faed2"
   },
   "outputs": [
    {
     "name": "stdout",
     "output_type": "stream",
     "text": [
      "Correcto\n"
     ]
    }
   ],
   "source": [
    "assert inner([1, 2, 3], [1, 2 ,3]) == 14, \"Error en inner\"\n",
    "print(\"Correcto\")"
   ]
  },
  {
   "cell_type": "markdown",
   "metadata": {
    "id": "6B7dwCC7eqnL"
   },
   "source": [
    "## Matrices con listas de listas"
   ]
  },
  {
   "cell_type": "markdown",
   "metadata": {
    "id": "l36RNkUqexzU"
   },
   "source": [
    "### Matriz identidad\n",
    "$$\n",
    "\tI_{ij} = \\begin{cases}\n",
    "\t\t1 & i=j\\\\\n",
    "\t\t0 & i \\neq j\\\\\n",
    "\t\\end{cases}\n",
    "$$"
   ]
  },
  {
   "cell_type": "code",
   "execution_count": 104,
   "metadata": {
    "executionInfo": {
     "elapsed": 17,
     "status": "ok",
     "timestamp": 1675389112658,
     "user": {
      "displayName": "Jean Yv Tovar Sánchez",
      "userId": "02848212450555183995"
     },
     "user_tz": 360
    },
    "id": "afcnX6E_eqvP"
   },
   "outputs": [],
   "source": [
    " def eye(n): \n",
    "  I = []\n",
    "  for i in range(n):\n",
    "      I.append([])\n",
    "      for j in range(n):\n",
    "          if i==j:\n",
    "            I[i].append(1)\n",
    "          else:  \n",
    "            I[i].append(0)\n",
    "  return (I)"
   ]
  },
  {
   "cell_type": "code",
   "execution_count": 105,
   "metadata": {
    "colab": {
     "base_uri": "https://localhost:8080/"
    },
    "executionInfo": {
     "elapsed": 17,
     "status": "ok",
     "timestamp": 1675389112658,
     "user": {
      "displayName": "Jean Yv Tovar Sánchez",
      "userId": "02848212450555183995"
     },
     "user_tz": 360
    },
    "id": "aG8ELCm3Aepx",
    "outputId": "afe28d69-29f4-445e-f69e-e351f9716c09"
   },
   "outputs": [
    {
     "data": {
      "text/plain": [
       "[[1, 0, 0], [0, 1, 0], [0, 0, 1]]"
      ]
     },
     "execution_count": 105,
     "metadata": {},
     "output_type": "execute_result"
    }
   ],
   "source": [
    "eye(3)"
   ]
  },
  {
   "cell_type": "code",
   "execution_count": 106,
   "metadata": {
    "executionInfo": {
     "elapsed": 16,
     "status": "ok",
     "timestamp": 1675389112659,
     "user": {
      "displayName": "Jean Yv Tovar Sánchez",
      "userId": "02848212450555183995"
     },
     "user_tz": 360
    },
    "id": "aGgCGhqrzhBF"
   },
   "outputs": [],
   "source": [
    "assert eye(2) == [[1, 0], [0, 1]], \"Error en eye\""
   ]
  },
  {
   "cell_type": "markdown",
   "metadata": {
    "id": "jLXu_k7CfCqF"
   },
   "source": [
    "### Matriz transpuesta\n",
    "\n",
    "$$C = A^T \\Leftrightarrow c_{ij} = a{ji}$$\n",
    "\n",
    "Por ejemplo, si:\n",
    "\t$$\n",
    "\tA = \\begin{bmatrix}\n",
    "\ta_{11} & a_{12}  \\\\\n",
    "\ta_{21} & a_{22}  \\\\\n",
    "\ta_{31} & a_{32}  \\\\\n",
    "\t\\end{bmatrix}\n",
    "\t$$\n",
    "\tentonces\n",
    "\t$$\n",
    "\tA^T = \\begin{bmatrix}\n",
    "\ta_{11} & a_{21} & a_{31} \\\\\n",
    "\ta_{12} & a_{22} & a_{32} \\\\\n",
    "\t\\end{bmatrix}\n",
    "\t$$"
   ]
  },
  {
   "cell_type": "code",
   "execution_count": 107,
   "metadata": {
    "executionInfo": {
     "elapsed": 15,
     "status": "ok",
     "timestamp": 1675389112659,
     "user": {
      "displayName": "Jean Yv Tovar Sánchez",
      "userId": "02848212450555183995"
     },
     "user_tz": 360
    },
    "id": "EgDG3SNdYuaF"
   },
   "outputs": [],
   "source": [
    "\n",
    "def traspose(A):\n",
    "  A_t = [[0 for i in range(len(A))] for j in range(len(A[0]))]\n",
    "  for i in range(len(A[0])):\n",
    "    for j in range(len(A)):\n",
    "      A_t[i][j] = A[j][i]\n",
    "  return A_t"
   ]
  },
  {
   "cell_type": "code",
   "execution_count": 108,
   "metadata": {
    "colab": {
     "base_uri": "https://localhost:8080/"
    },
    "executionInfo": {
     "elapsed": 15,
     "status": "ok",
     "timestamp": 1675389112659,
     "user": {
      "displayName": "Jean Yv Tovar Sánchez",
      "userId": "02848212450555183995"
     },
     "user_tz": 360
    },
    "id": "hP5922hgMePZ",
    "outputId": "30240d75-060a-4986-a215-5640685cd4e0"
   },
   "outputs": [
    {
     "data": {
      "text/plain": [
       "[[1, 3, 5], [2, 4, 6]]"
      ]
     },
     "execution_count": 108,
     "metadata": {},
     "output_type": "execute_result"
    }
   ],
   "source": [
    "A=[[1,2],[3,4],[5,6]]\n",
    "traspose(A)\n",
    "\n",
    "\n"
   ]
  },
  {
   "cell_type": "code",
   "execution_count": 109,
   "metadata": {
    "executionInfo": {
     "elapsed": 13,
     "status": "ok",
     "timestamp": 1675389112659,
     "user": {
      "displayName": "Jean Yv Tovar Sánchez",
      "userId": "02848212450555183995"
     },
     "user_tz": 360
    },
    "id": "bl1lclWhzhBF"
   },
   "outputs": [],
   "source": [
    "assert traspose([[1, 2], [3, 4], [5, 6]]) == [[1, 3, 5], [2, 4, 6]], \"Error en traspose\""
   ]
  },
  {
   "cell_type": "markdown",
   "metadata": {
    "id": "YnYXfNmizhBF"
   },
   "source": [
    "### Valida multiplicación\n",
    "\n",
    "```True``` si\n",
    "$$A \\qquad es \\qquad mxn$$\n",
    "y\n",
    "$$B \\qquad es \\qquad nxp$$\n",
    "```False``` en otro caso"
   ]
  },
  {
   "cell_type": "code",
   "execution_count": 110,
   "metadata": {
    "executionInfo": {
     "elapsed": 12,
     "status": "ok",
     "timestamp": 1675389112659,
     "user": {
      "displayName": "Jean Yv Tovar Sánchez",
      "userId": "02848212450555183995"
     },
     "user_tz": 360
    },
    "id": "QS3a6v3CzhBG"
   },
   "outputs": [],
   "source": [
    "def validate_mat_mul(A, B):\n",
    "    if range(len(B))==range(len(A[0])):\n",
    "      val = True\n",
    "    else:\n",
    "      val = False\n",
    "    return val"
   ]
  },
  {
   "cell_type": "code",
   "execution_count": 111,
   "metadata": {
    "colab": {
     "base_uri": "https://localhost:8080/",
     "height": 56
    },
    "executionInfo": {
     "elapsed": 11,
     "status": "ok",
     "timestamp": 1675389112659,
     "user": {
      "displayName": "Jean Yv Tovar Sánchez",
      "userId": "02848212450555183995"
     },
     "user_tz": 360
    },
    "id": "Q1TZIAxyeTv6",
    "outputId": "d4116b02-c380-4918-c080-69976ca96a15"
   },
   "outputs": [
    {
     "data": {
      "application/vnd.google.colaboratory.intrinsic+json": {
       "type": "string"
      },
      "text/plain": [
       "'A=[[1, 2, 3], [3, 4, 5]]\\nB=[[5, 6], [7, 8],[9,10]]\\nprint(range(len(A)), range(len(B[0])))\\nvalidate_mat_mul(A,B)'"
      ]
     },
     "execution_count": 111,
     "metadata": {},
     "output_type": "execute_result"
    }
   ],
   "source": [
    "'''A=[[1, 2, 3], [3, 4, 5]]\n",
    "B=[[5, 6], [7, 8],[9,10]]\n",
    "print(range(len(A)), range(len(B[0])))\n",
    "validate_mat_mul(A,B)'''"
   ]
  },
  {
   "cell_type": "code",
   "execution_count": 112,
   "metadata": {
    "colab": {
     "base_uri": "https://localhost:8080/",
     "height": 56
    },
    "executionInfo": {
     "elapsed": 11,
     "status": "ok",
     "timestamp": 1675389112659,
     "user": {
      "displayName": "Jean Yv Tovar Sánchez",
      "userId": "02848212450555183995"
     },
     "user_tz": 360
    },
    "id": "tJ95T5uOgJBF",
    "outputId": "2233835e-2ab2-4d7d-b60d-be34a296c80b"
   },
   "outputs": [
    {
     "data": {
      "application/vnd.google.colaboratory.intrinsic+json": {
       "type": "string"
      },
      "text/plain": [
       "'print(validate_mat_mul([[1, 2], [3, 4], [5, 6]], [[1, 2, 3], [4, 5, 6]]))\\nprint(validate_mat_mul([[1, 2, 3], [4, 5, 6], [7, 8, 9]], [[1, 2], [3, 4]]))'"
      ]
     },
     "execution_count": 112,
     "metadata": {},
     "output_type": "execute_result"
    }
   ],
   "source": [
    "'''print(validate_mat_mul([[1, 2], [3, 4], [5, 6]], [[1, 2, 3], [4, 5, 6]]))\n",
    "print(validate_mat_mul([[1, 2, 3], [4, 5, 6], [7, 8, 9]], [[1, 2], [3, 4]]))'''"
   ]
  },
  {
   "cell_type": "code",
   "execution_count": 113,
   "metadata": {
    "executionInfo": {
     "elapsed": 11,
     "status": "ok",
     "timestamp": 1675389112660,
     "user": {
      "displayName": "Jean Yv Tovar Sánchez",
      "userId": "02848212450555183995"
     },
     "user_tz": 360
    },
    "id": "5bhyeBnMzhBG"
   },
   "outputs": [],
   "source": [
    "assert validate_mat_mul([[1, 2], [3, 4]], [[5, 6], [7, 8]]) and \\\n",
    "validate_mat_mul([[1, 2], [3, 4], [5, 6]], [[1, 2, 3], [4, 5, 6]]) and \\\n",
    "not validate_mat_mul([[1, 2, 3], [4, 5, 6], [7, 8, 9]], [[1, 2], [3, 4]]), \"Error en validate_mat_mul\""
   ]
  },
  {
   "cell_type": "markdown",
   "metadata": {
    "id": "RY2TgoGye3pV"
   },
   "source": [
    "### Multiplicación de matrices\n",
    "\n",
    "Si $A \\in \\mathbb{R}^{m \\times n}$ y $B \\in \\mathbb{R}^{n \\times p}$ entonces:\n",
    "$$\n",
    "C = A B \\in \\mathbb{R}^{m \\times p}\\Leftrightarrow c_{ij} = \\sum_{k=1}^{n}a_{ik} b_{kj}\n",
    "$$"
   ]
  },
  {
   "cell_type": "code",
   "execution_count": 118,
   "metadata": {
    "executionInfo": {
     "elapsed": 5,
     "status": "ok",
     "timestamp": 1675389130201,
     "user": {
      "displayName": "Jean Yv Tovar Sánchez",
      "userId": "02848212450555183995"
     },
     "user_tz": 360
    },
    "id": "DxFQFm51e-A1"
   },
   "outputs": [],
   "source": [
    "def mat_mul(A, B):\n",
    "    \n",
    "    if validate_mat_mul(A,B)==False:\n",
    "      print(\"Las matrices no se pueden multiplicar, revisar las dimensiones\")\n",
    "    \n",
    "    else:\n",
    "      #C=[]\n",
    "      C=[[0 for i in range(len(B[0]))] for j in range(len(A))]\n",
    "      for i in range(len(A)):\n",
    "        for j in range(len(B[0])):\n",
    "          C[i][j] = inner(A[i],[B[k][j] for k in range(len(A[0]))])\n",
    "          #for k in range(len(A[0])):\n",
    "           # C[i][j] = A[i][k]*B[k][j]\n",
    "    \n",
    "    return C\n",
    "   "
   ]
  },
  {
   "cell_type": "code",
   "execution_count": 119,
   "metadata": {
    "colab": {
     "base_uri": "https://localhost:8080/",
     "height": 110
    },
    "executionInfo": {
     "elapsed": 7,
     "status": "ok",
     "timestamp": 1675389131549,
     "user": {
      "displayName": "Jean Yv Tovar Sánchez",
      "userId": "02848212450555183995"
     },
     "user_tz": 360
    },
    "id": "rEQ4RlKriN3O",
    "outputId": "bd835e9b-b7b0-40af-aa6c-cfc4ef102cc8"
   },
   "outputs": [
    {
     "name": "stdout",
     "output_type": "stream",
     "text": [
      "True\n",
      "3 4 4 2\n",
      "[[0, 0], [0, 0], [0, 0]]\n",
      "[[20, 14], [24, 22], [36, 34]]\n"
     ]
    },
    {
     "data": {
      "application/vnd.google.colaboratory.intrinsic+json": {
       "type": "string"
      },
      "text/plain": [
       "'for j in range(len(B[0])):\\n  for k in range(len(B)):\\n    print (B[k][j])'"
      ]
     },
     "execution_count": 119,
     "metadata": {},
     "output_type": "execute_result"
    }
   ],
   "source": [
    "A=[[1, 2,3,4], [3, 4,1,4], [5, 6,6,1]]\n",
    "B=[[2, 3], [2, 2],[2,1],[2,1]]\n",
    "print(validate_mat_mul(A,B))\n",
    "C=[[0 for i in range(len(B[0]))] for j in range(len(A))]\n",
    "print((len(A)),(len(A[0])),(len(B)),(len(B[0])))\n",
    "print(C)\n",
    "for i in range(len(A)):\n",
    "  for j in range(len(B[0])):\n",
    "    C[i][j] = inner(A[i],[B[k][j] for k in range(len(A[0]))])\n",
    "print(C)\n",
    "'''for j in range(len(B[0])):\n",
    "  for k in range(len(B)):\n",
    "    print (B[k][j])'''\n"
   ]
  },
  {
   "cell_type": "code",
   "execution_count": 120,
   "metadata": {
    "colab": {
     "base_uri": "https://localhost:8080/"
    },
    "executionInfo": {
     "elapsed": 7,
     "status": "ok",
     "timestamp": 1675389133667,
     "user": {
      "displayName": "Jean Yv Tovar Sánchez",
      "userId": "02848212450555183995"
     },
     "user_tz": 360
    },
    "id": "wbfTxWKJklMw",
    "outputId": "61a369ef-ea02-49df-9a7a-599963e35206"
   },
   "outputs": [
    {
     "data": {
      "text/plain": [
       "[[6, 6], [14, 14], [22, 22]]"
      ]
     },
     "execution_count": 120,
     "metadata": {},
     "output_type": "execute_result"
    }
   ],
   "source": [
    "C=[[1, 2], [3, 4], [5, 6]]\n",
    "D=[[2, 2], [2, 2]]\n",
    "mat_mul(C,D)"
   ]
  },
  {
   "cell_type": "code",
   "execution_count": 121,
   "metadata": {
    "executionInfo": {
     "elapsed": 132,
     "status": "ok",
     "timestamp": 1675389134738,
     "user": {
      "displayName": "Jean Yv Tovar Sánchez",
      "userId": "02848212450555183995"
     },
     "user_tz": 360
    },
    "id": "C_Z-q0k7zhBH"
   },
   "outputs": [],
   "source": [
    "assert mat_mul([[1, 2], [3, 4], [5, 6]], [[2, 2], [2, 2]]) == [[6, 6], [14, 14], [22, 22]], \"Error en mat_mul\""
   ]
  },
  {
   "cell_type": "code",
   "execution_count": 117,
   "metadata": {
    "executionInfo": {
     "elapsed": 4,
     "status": "ok",
     "timestamp": 1675389112853,
     "user": {
      "displayName": "Jean Yv Tovar Sánchez",
      "userId": "02848212450555183995"
     },
     "user_tz": 360
    },
    "id": "9MpWUkXtiFmI"
   },
   "outputs": [],
   "source": []
  }
 ],
 "metadata": {
  "colab": {
   "provenance": [
    {
     "file_id": "1jss8k7-CSnhBmWkY0DaJhm67LbRuM94L",
     "timestamp": 1675181341704
    },
    {
     "file_id": "https://github.com/DCDPUAEM/DCDP/blob/main/01%20Programaci%C3%B3n%20en%20Python/notebooks/exercises/Practica1_Python.ipynb",
     "timestamp": 1675178981489
    }
   ]
  },
  "kernelspec": {
   "display_name": "Python 3 (ipykernel)",
   "language": "python",
   "name": "python3"
  },
  "language_info": {
   "codemirror_mode": {
    "name": "ipython",
    "version": 3
   },
   "file_extension": ".py",
   "mimetype": "text/x-python",
   "name": "python",
   "nbconvert_exporter": "python",
   "pygments_lexer": "ipython3",
   "version": "3.8.12"
  }
 },
 "nbformat": 4,
 "nbformat_minor": 4
}
